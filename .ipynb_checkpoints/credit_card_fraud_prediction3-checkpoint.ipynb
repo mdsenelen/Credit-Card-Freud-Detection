{
 "cells": [
  {
   "cell_type": "markdown",
   "metadata": {
    "id": "H4PTTb4Ywv2A"
   },
   "source": [
    "### About Credit Card Fraud Analysis\n"
   ]
  },
  {
   "cell_type": "markdown",
   "metadata": {
    "id": "I3RIlHto4Dl4"
   },
   "source": [
    "<font color=grey> Business Understanding: <br>\n",
    "In recent times, the number of fraud transactions has increased drastically, due to which credit card companies are facing a lot of challenges. <br>\n",
    "For many banks, retaining high profitable customers is the most important business goal. Banking fraud, however, poses a significant threat to this goal.<br>\n",
    "In this capstone project, I am building a fraud detection model to help banks identify credit card frauds and be vigilant enough to reduce losses incurred due to such unauthorised transactions by the fraudsters."
   ]
  },
  {
   "cell_type": "markdown",
   "metadata": {
    "id": "lBi9_UeVMMz3"
   },
   "source": [
    "### Data import and preparation"
   ]
  },
  {
   "cell_type": "markdown",
   "metadata": {
    "id": "2OWVenD-yila"
   },
   "source": [
    "<font color=grey> Process: <br>\n",
    "- The data is imported by mounting the google drive <br>\n",
    "- Important libraries are imported <br>\n",
    "- Data is analysed for shape and data types <br>\n",
    "- Data type conversion for date and time column has been carried out <br>\n",
    "- Date and Time columns are split into days, months, seconds, minute and hour <br>\n",
    "- Latitudes and Longitues are converted by Haversine formula to distances <br>\n",
    "- Univariate and Bivariate Visualiztions have been carried out <br>\n",
    "- Outlier Analysis has been done <br>\n",
    "- Redundant columns have been removed manually and using heatmap <br>\n",
    "- Onehotencoding has been performed for 2 categrical columns <br>\n",
    "- Train data was split into train and validation data with stratification <br>\n",
    "- Cross validation was performed to get rid of underfitting and overfitting <br>\n",
    "- A function was written to carry out training of data and testing on validation set <br>\n",
    "- Best parameters and estimators have been stored in a dataframe <br>\n",
    "- Taking the best estimators, training algorithm was performed on Test data <br>\n",
    "- Confusion Matrix was created <br>\n",
    "- Cost Benefit Analysis was performed."
   ]
  },
  {
   "cell_type": "markdown",
   "metadata": {
    "id": "-dSNaiMK0_6J"
   },
   "source": [
    "<font color=orange> Mounting gdrive for importing Data"
   ]
  },
  {
   "cell_type": "code",
   "execution_count": 9,
   "metadata": {
    "colab": {
     "base_uri": "https://localhost:8080/"
    },
    "execution": {
     "iopub.execute_input": "2022-03-18T04:08:49.389683Z",
     "iopub.status.busy": "2022-03-18T04:08:49.389047Z",
     "iopub.status.idle": "2022-03-18T04:08:49.412307Z",
     "shell.execute_reply": "2022-03-18T04:08:49.411398Z",
     "shell.execute_reply.started": "2022-03-18T04:08:49.389543Z"
    },
    "id": "yiM1vz7A_8ve",
    "outputId": "13393a1d-771c-4722-f528-297fccb71c2c"
   },
   "outputs": [],
   "source": [
    "#from google.colab import drive\n",
    "#drive.mount('/content/gdrive', force_remount=False)"
   ]
  },
  {
   "cell_type": "markdown",
   "metadata": {
    "id": "bcxQ0aMD1G9H"
   },
   "source": [
    "<font color=orange> Importing Libraries"
   ]
  },
  {
   "cell_type": "code",
   "execution_count": 10,
   "metadata": {
    "execution": {
     "iopub.execute_input": "2022-03-18T04:08:49.414757Z",
     "iopub.status.busy": "2022-03-18T04:08:49.414157Z",
     "iopub.status.idle": "2022-03-18T04:08:49.423477Z",
     "shell.execute_reply": "2022-03-18T04:08:49.422712Z",
     "shell.execute_reply.started": "2022-03-18T04:08:49.414718Z"
    },
    "id": "5rFqC4kjmQdW"
   },
   "outputs": [],
   "source": [
    "import warnings\n",
    "warnings.filterwarnings('ignore')"
   ]
  },
  {
   "cell_type": "code",
   "execution_count": 11,
   "metadata": {
    "colab": {
     "base_uri": "https://localhost:8080/"
    },
    "execution": {
     "iopub.execute_input": "2022-03-18T04:08:49.425473Z",
     "iopub.status.busy": "2022-03-18T04:08:49.424635Z",
     "iopub.status.idle": "2022-03-18T04:08:51.368778Z",
     "shell.execute_reply": "2022-03-18T04:08:51.367862Z",
     "shell.execute_reply.started": "2022-03-18T04:08:49.425418Z"
    },
    "id": "sjIgRuwjmSyu",
    "outputId": "6686ebc7-6921-4630-f5d4-bb2ad0633e53"
   },
   "outputs": [
    {
     "name": "stdout",
     "output_type": "stream",
     "text": [
      "Requirement already satisfied: geopy in c:\\users\\hp\\anaconda3\\lib\\site-packages (2.2.0)\n",
      "Requirement already satisfied: geographiclib<2,>=1.49 in c:\\users\\hp\\anaconda3\\lib\\site-packages (from geopy) (1.52)\n",
      "Requirement already satisfied: imbalanced-learn in c:\\users\\hp\\anaconda3\\lib\\site-packages (0.9.1)\n",
      "Requirement already satisfied: scikit-learn>=1.1.0 in c:\\users\\hp\\anaconda3\\lib\\site-packages (from imbalanced-learn) (1.1.1)\n",
      "Requirement already satisfied: threadpoolctl>=2.0.0 in c:\\users\\hp\\anaconda3\\lib\\site-packages (from imbalanced-learn) (2.2.0)\n",
      "Requirement already satisfied: joblib>=1.0.0 in c:\\users\\hp\\anaconda3\\lib\\site-packages (from imbalanced-learn) (1.1.0)\n",
      "Requirement already satisfied: scipy>=1.3.2 in c:\\users\\hp\\anaconda3\\lib\\site-packages (from imbalanced-learn) (1.7.1)\n",
      "Requirement already satisfied: numpy>=1.17.3 in c:\\users\\hp\\anaconda3\\lib\\site-packages (from imbalanced-learn) (1.20.3)\n"
     ]
    }
   ],
   "source": [
    "!pip install geopy\n",
    "!pip install -U imbalanced-learn\n",
    "\n",
    "import pandas as pd\n",
    "import numpy as np\n",
    "from datetime import datetime, timedelta \n",
    "\n",
    "import matplotlib.pyplot as plt\n",
    "import seaborn as sns\n",
    "import matplotlib.gridspec as gridspec\n",
    "%matplotlib inline\n",
    "\n",
    "import scipy.stats as stats\n",
    "\n",
    "from geopy.distance import geodesic\n",
    "import geopy.distance\n",
    "\n",
    "from sklearn.preprocessing import OrdinalEncoder\n",
    "from sklearn.preprocessing import OneHotEncoder\n",
    "from sklearn.preprocessing import PowerTransformer\n",
    "\n",
    "from sklearn import model_selection\n",
    "from sklearn.model_selection import cross_val_score\n",
    "from sklearn.model_selection import train_test_split\n",
    "from sklearn.model_selection import StratifiedKFold\n",
    "from sklearn.model_selection import RandomizedSearchCV\n",
    "\n",
    "from sklearn.linear_model import LogisticRegression\n",
    "\n",
    "from sklearn.tree import DecisionTreeClassifier\n",
    "\n",
    "from sklearn.ensemble import RandomForestClassifier\n",
    "\n",
    "from xgboost import XGBClassifier\n",
    "\n",
    "from imblearn.over_sampling import SMOTE\n",
    "from imblearn.over_sampling import ADASYN\n",
    "from imblearn.combine import SMOTETomek\n",
    "from imblearn.combine import SMOTEENN\n",
    "\n",
    "from sklearn import metrics\n",
    "from sklearn.metrics import auc\n",
    "from sklearn.metrics import confusion_matrix\n",
    "from sklearn.metrics import roc_auc_score\n",
    "from sklearn.metrics import average_precision_score\n",
    "from sklearn.metrics import precision_recall_curve\n",
    "from sklearn.metrics import plot_precision_recall_curve\n",
    "from sklearn.metrics import accuracy_score, f1_score, precision_score, recall_score\n",
    "from sklearn.metrics import roc_curve\n",
    "from sklearn.metrics import plot_roc_curve\n",
    "from sklearn.metrics import classification_report"
   ]
  },
  {
   "cell_type": "code",
   "execution_count": 12,
   "metadata": {
    "execution": {
     "iopub.execute_input": "2022-03-18T04:08:51.372507Z",
     "iopub.status.busy": "2022-03-18T04:08:51.371893Z",
     "iopub.status.idle": "2022-03-18T04:08:51.377148Z",
     "shell.execute_reply": "2022-03-18T04:08:51.376138Z",
     "shell.execute_reply.started": "2022-03-18T04:08:51.372458Z"
    },
    "id": "uHwxboSzZ-8y"
   },
   "outputs": [],
   "source": [
    "# Importing required packages for visualization\n",
    "from IPython.display import Image  \n",
    "from six import StringIO  \n",
    "from sklearn.tree import export_graphviz\n",
    "import pydotplus, graphviz"
   ]
  },
  {
   "cell_type": "code",
   "execution_count": 13,
   "metadata": {
    "execution": {
     "iopub.execute_input": "2022-03-18T04:08:51.379518Z",
     "iopub.status.busy": "2022-03-18T04:08:51.378616Z",
     "iopub.status.idle": "2022-03-18T04:08:51.393419Z",
     "shell.execute_reply": "2022-03-18T04:08:51.392405Z",
     "shell.execute_reply.started": "2022-03-18T04:08:51.379473Z"
    },
    "id": "HCE26yoYmSvB"
   },
   "outputs": [],
   "source": [
    "pd.set_option('display.max_columns',500)\n",
    "pd.set_option('display.width',500)\n",
    "pd.set_option('display.max_rows', 1000)"
   ]
  },
  {
   "cell_type": "markdown",
   "metadata": {
    "id": "6JtG3WhWn33B"
   },
   "source": [
    "##### <font color=orange> Importing the data"
   ]
  },
  {
   "cell_type": "code",
   "execution_count": 15,
   "metadata": {
    "colab": {
     "base_uri": "https://localhost:8080/",
     "height": 922
    },
    "execution": {
     "iopub.execute_input": "2022-03-18T04:08:51.395527Z",
     "iopub.status.busy": "2022-03-18T04:08:51.394491Z",
     "iopub.status.idle": "2022-03-18T04:09:03.789179Z",
     "shell.execute_reply": "2022-03-18T04:09:03.788267Z",
     "shell.execute_reply.started": "2022-03-18T04:08:51.395446Z"
    },
    "id": "nMZmiXbsmvHs",
    "outputId": "5378d96b-d6fb-43b2-ae09-26abbcbc6a98"
   },
   "outputs": [
    {
     "data": {
      "text/html": [
       "<div>\n",
       "<style scoped>\n",
       "    .dataframe tbody tr th:only-of-type {\n",
       "        vertical-align: middle;\n",
       "    }\n",
       "\n",
       "    .dataframe tbody tr th {\n",
       "        vertical-align: top;\n",
       "    }\n",
       "\n",
       "    .dataframe thead th {\n",
       "        text-align: right;\n",
       "    }\n",
       "</style>\n",
       "<table border=\"1\" class=\"dataframe\">\n",
       "  <thead>\n",
       "    <tr style=\"text-align: right;\">\n",
       "      <th></th>\n",
       "      <th>Unnamed: 0</th>\n",
       "      <th>trans_date_trans_time</th>\n",
       "      <th>cc_num</th>\n",
       "      <th>merchant</th>\n",
       "      <th>category</th>\n",
       "      <th>amt</th>\n",
       "      <th>first</th>\n",
       "      <th>last</th>\n",
       "      <th>gender</th>\n",
       "      <th>street</th>\n",
       "      <th>city</th>\n",
       "      <th>state</th>\n",
       "      <th>zip</th>\n",
       "      <th>lat</th>\n",
       "      <th>long</th>\n",
       "      <th>city_pop</th>\n",
       "      <th>job</th>\n",
       "      <th>dob</th>\n",
       "      <th>trans_num</th>\n",
       "      <th>unix_time</th>\n",
       "      <th>merch_lat</th>\n",
       "      <th>merch_long</th>\n",
       "      <th>is_fraud</th>\n",
       "    </tr>\n",
       "  </thead>\n",
       "  <tbody>\n",
       "    <tr>\n",
       "      <th>0</th>\n",
       "      <td>0</td>\n",
       "      <td>2019-01-01 00:00:18</td>\n",
       "      <td>2703186189652095</td>\n",
       "      <td>fraud_Rippin, Kub and Mann</td>\n",
       "      <td>misc_net</td>\n",
       "      <td>4.97</td>\n",
       "      <td>Jennifer</td>\n",
       "      <td>Banks</td>\n",
       "      <td>F</td>\n",
       "      <td>561 Perry Cove</td>\n",
       "      <td>Moravian Falls</td>\n",
       "      <td>NC</td>\n",
       "      <td>28654</td>\n",
       "      <td>36.0788</td>\n",
       "      <td>-81.1781</td>\n",
       "      <td>3495</td>\n",
       "      <td>Psychologist, counselling</td>\n",
       "      <td>1988-03-09</td>\n",
       "      <td>0b242abb623afc578575680df30655b9</td>\n",
       "      <td>1325376018</td>\n",
       "      <td>36.011293</td>\n",
       "      <td>-82.048315</td>\n",
       "      <td>0</td>\n",
       "    </tr>\n",
       "    <tr>\n",
       "      <th>1</th>\n",
       "      <td>1</td>\n",
       "      <td>2019-01-01 00:00:44</td>\n",
       "      <td>630423337322</td>\n",
       "      <td>fraud_Heller, Gutmann and Zieme</td>\n",
       "      <td>grocery_pos</td>\n",
       "      <td>107.23</td>\n",
       "      <td>Stephanie</td>\n",
       "      <td>Gill</td>\n",
       "      <td>F</td>\n",
       "      <td>43039 Riley Greens Suite 393</td>\n",
       "      <td>Orient</td>\n",
       "      <td>WA</td>\n",
       "      <td>99160</td>\n",
       "      <td>48.8878</td>\n",
       "      <td>-118.2105</td>\n",
       "      <td>149</td>\n",
       "      <td>Special educational needs teacher</td>\n",
       "      <td>1978-06-21</td>\n",
       "      <td>1f76529f8574734946361c461b024d99</td>\n",
       "      <td>1325376044</td>\n",
       "      <td>49.159047</td>\n",
       "      <td>-118.186462</td>\n",
       "      <td>0</td>\n",
       "    </tr>\n",
       "    <tr>\n",
       "      <th>2</th>\n",
       "      <td>2</td>\n",
       "      <td>2019-01-01 00:00:51</td>\n",
       "      <td>38859492057661</td>\n",
       "      <td>fraud_Lind-Buckridge</td>\n",
       "      <td>entertainment</td>\n",
       "      <td>220.11</td>\n",
       "      <td>Edward</td>\n",
       "      <td>Sanchez</td>\n",
       "      <td>M</td>\n",
       "      <td>594 White Dale Suite 530</td>\n",
       "      <td>Malad City</td>\n",
       "      <td>ID</td>\n",
       "      <td>83252</td>\n",
       "      <td>42.1808</td>\n",
       "      <td>-112.2620</td>\n",
       "      <td>4154</td>\n",
       "      <td>Nature conservation officer</td>\n",
       "      <td>1962-01-19</td>\n",
       "      <td>a1a22d70485983eac12b5b88dad1cf95</td>\n",
       "      <td>1325376051</td>\n",
       "      <td>43.150704</td>\n",
       "      <td>-112.154481</td>\n",
       "      <td>0</td>\n",
       "    </tr>\n",
       "    <tr>\n",
       "      <th>3</th>\n",
       "      <td>3</td>\n",
       "      <td>2019-01-01 00:01:16</td>\n",
       "      <td>3534093764340240</td>\n",
       "      <td>fraud_Kutch, Hermiston and Farrell</td>\n",
       "      <td>gas_transport</td>\n",
       "      <td>45.00</td>\n",
       "      <td>Jeremy</td>\n",
       "      <td>White</td>\n",
       "      <td>M</td>\n",
       "      <td>9443 Cynthia Court Apt. 038</td>\n",
       "      <td>Boulder</td>\n",
       "      <td>MT</td>\n",
       "      <td>59632</td>\n",
       "      <td>46.2306</td>\n",
       "      <td>-112.1138</td>\n",
       "      <td>1939</td>\n",
       "      <td>Patent attorney</td>\n",
       "      <td>1967-01-12</td>\n",
       "      <td>6b849c168bdad6f867558c3793159a81</td>\n",
       "      <td>1325376076</td>\n",
       "      <td>47.034331</td>\n",
       "      <td>-112.561071</td>\n",
       "      <td>0</td>\n",
       "    </tr>\n",
       "    <tr>\n",
       "      <th>4</th>\n",
       "      <td>4</td>\n",
       "      <td>2019-01-01 00:03:06</td>\n",
       "      <td>375534208663984</td>\n",
       "      <td>fraud_Keeling-Crist</td>\n",
       "      <td>misc_pos</td>\n",
       "      <td>41.96</td>\n",
       "      <td>Tyler</td>\n",
       "      <td>Garcia</td>\n",
       "      <td>M</td>\n",
       "      <td>408 Bradley Rest</td>\n",
       "      <td>Doe Hill</td>\n",
       "      <td>VA</td>\n",
       "      <td>24433</td>\n",
       "      <td>38.4207</td>\n",
       "      <td>-79.4629</td>\n",
       "      <td>99</td>\n",
       "      <td>Dance movement psychotherapist</td>\n",
       "      <td>1986-03-28</td>\n",
       "      <td>a41d7549acf90789359a9aa5346dcb46</td>\n",
       "      <td>1325376186</td>\n",
       "      <td>38.674999</td>\n",
       "      <td>-78.632459</td>\n",
       "      <td>0</td>\n",
       "    </tr>\n",
       "    <tr>\n",
       "      <th>...</th>\n",
       "      <td>...</td>\n",
       "      <td>...</td>\n",
       "      <td>...</td>\n",
       "      <td>...</td>\n",
       "      <td>...</td>\n",
       "      <td>...</td>\n",
       "      <td>...</td>\n",
       "      <td>...</td>\n",
       "      <td>...</td>\n",
       "      <td>...</td>\n",
       "      <td>...</td>\n",
       "      <td>...</td>\n",
       "      <td>...</td>\n",
       "      <td>...</td>\n",
       "      <td>...</td>\n",
       "      <td>...</td>\n",
       "      <td>...</td>\n",
       "      <td>...</td>\n",
       "      <td>...</td>\n",
       "      <td>...</td>\n",
       "      <td>...</td>\n",
       "      <td>...</td>\n",
       "      <td>...</td>\n",
       "    </tr>\n",
       "    <tr>\n",
       "      <th>1296670</th>\n",
       "      <td>1296670</td>\n",
       "      <td>2020-06-21 12:12:08</td>\n",
       "      <td>30263540414123</td>\n",
       "      <td>fraud_Reichel Inc</td>\n",
       "      <td>entertainment</td>\n",
       "      <td>15.56</td>\n",
       "      <td>Erik</td>\n",
       "      <td>Patterson</td>\n",
       "      <td>M</td>\n",
       "      <td>162 Jessica Row Apt. 072</td>\n",
       "      <td>Hatch</td>\n",
       "      <td>UT</td>\n",
       "      <td>84735</td>\n",
       "      <td>37.7175</td>\n",
       "      <td>-112.4777</td>\n",
       "      <td>258</td>\n",
       "      <td>Geoscientist</td>\n",
       "      <td>1961-11-24</td>\n",
       "      <td>440b587732da4dc1a6395aba5fb41669</td>\n",
       "      <td>1371816728</td>\n",
       "      <td>36.841266</td>\n",
       "      <td>-111.690765</td>\n",
       "      <td>0</td>\n",
       "    </tr>\n",
       "    <tr>\n",
       "      <th>1296671</th>\n",
       "      <td>1296671</td>\n",
       "      <td>2020-06-21 12:12:19</td>\n",
       "      <td>6011149206456997</td>\n",
       "      <td>fraud_Abernathy and Sons</td>\n",
       "      <td>food_dining</td>\n",
       "      <td>51.70</td>\n",
       "      <td>Jeffrey</td>\n",
       "      <td>White</td>\n",
       "      <td>M</td>\n",
       "      <td>8617 Holmes Terrace Suite 651</td>\n",
       "      <td>Tuscarora</td>\n",
       "      <td>MD</td>\n",
       "      <td>21790</td>\n",
       "      <td>39.2667</td>\n",
       "      <td>-77.5101</td>\n",
       "      <td>100</td>\n",
       "      <td>Production assistant, television</td>\n",
       "      <td>1979-12-11</td>\n",
       "      <td>278000d2e0d2277d1de2f890067dcc0a</td>\n",
       "      <td>1371816739</td>\n",
       "      <td>38.906881</td>\n",
       "      <td>-78.246528</td>\n",
       "      <td>0</td>\n",
       "    </tr>\n",
       "    <tr>\n",
       "      <th>1296672</th>\n",
       "      <td>1296672</td>\n",
       "      <td>2020-06-21 12:12:32</td>\n",
       "      <td>3514865930894695</td>\n",
       "      <td>fraud_Stiedemann Ltd</td>\n",
       "      <td>food_dining</td>\n",
       "      <td>105.93</td>\n",
       "      <td>Christopher</td>\n",
       "      <td>Castaneda</td>\n",
       "      <td>M</td>\n",
       "      <td>1632 Cohen Drive Suite 639</td>\n",
       "      <td>High Rolls Mountain Park</td>\n",
       "      <td>NM</td>\n",
       "      <td>88325</td>\n",
       "      <td>32.9396</td>\n",
       "      <td>-105.8189</td>\n",
       "      <td>899</td>\n",
       "      <td>Naval architect</td>\n",
       "      <td>1967-08-30</td>\n",
       "      <td>483f52fe67fabef353d552c1e662974c</td>\n",
       "      <td>1371816752</td>\n",
       "      <td>33.619513</td>\n",
       "      <td>-105.130529</td>\n",
       "      <td>0</td>\n",
       "    </tr>\n",
       "    <tr>\n",
       "      <th>1296673</th>\n",
       "      <td>1296673</td>\n",
       "      <td>2020-06-21 12:13:36</td>\n",
       "      <td>2720012583106919</td>\n",
       "      <td>fraud_Reinger, Weissnat and Strosin</td>\n",
       "      <td>food_dining</td>\n",
       "      <td>74.90</td>\n",
       "      <td>Joseph</td>\n",
       "      <td>Murray</td>\n",
       "      <td>M</td>\n",
       "      <td>42933 Ryan Underpass</td>\n",
       "      <td>Manderson</td>\n",
       "      <td>SD</td>\n",
       "      <td>57756</td>\n",
       "      <td>43.3526</td>\n",
       "      <td>-102.5411</td>\n",
       "      <td>1126</td>\n",
       "      <td>Volunteer coordinator</td>\n",
       "      <td>1980-08-18</td>\n",
       "      <td>d667cdcbadaaed3da3f4020e83591c83</td>\n",
       "      <td>1371816816</td>\n",
       "      <td>42.788940</td>\n",
       "      <td>-103.241160</td>\n",
       "      <td>0</td>\n",
       "    </tr>\n",
       "    <tr>\n",
       "      <th>1296674</th>\n",
       "      <td>1296674</td>\n",
       "      <td>2020-06-21 12:13:37</td>\n",
       "      <td>4292902571056973207</td>\n",
       "      <td>fraud_Langosh, Wintheiser and Hyatt</td>\n",
       "      <td>food_dining</td>\n",
       "      <td>4.30</td>\n",
       "      <td>Jeffrey</td>\n",
       "      <td>Smith</td>\n",
       "      <td>M</td>\n",
       "      <td>135 Joseph Mountains</td>\n",
       "      <td>Sula</td>\n",
       "      <td>MT</td>\n",
       "      <td>59871</td>\n",
       "      <td>45.8433</td>\n",
       "      <td>-113.8748</td>\n",
       "      <td>218</td>\n",
       "      <td>Therapist, horticultural</td>\n",
       "      <td>1995-08-16</td>\n",
       "      <td>8f7c8e4ab7f25875d753b422917c98c9</td>\n",
       "      <td>1371816817</td>\n",
       "      <td>46.565983</td>\n",
       "      <td>-114.186110</td>\n",
       "      <td>0</td>\n",
       "    </tr>\n",
       "  </tbody>\n",
       "</table>\n",
       "<p>1296675 rows × 23 columns</p>\n",
       "</div>"
      ],
      "text/plain": [
       "         Unnamed: 0 trans_date_trans_time               cc_num                             merchant       category     amt        first       last gender                         street                      city state    zip      lat      long  city_pop                                job         dob                         trans_num   unix_time  merch_lat  merch_long  is_fraud\n",
       "0                 0   2019-01-01 00:00:18     2703186189652095           fraud_Rippin, Kub and Mann       misc_net    4.97     Jennifer      Banks      F                 561 Perry Cove            Moravian Falls    NC  28654  36.0788  -81.1781      3495          Psychologist, counselling  1988-03-09  0b242abb623afc578575680df30655b9  1325376018  36.011293  -82.048315         0\n",
       "1                 1   2019-01-01 00:00:44         630423337322      fraud_Heller, Gutmann and Zieme    grocery_pos  107.23    Stephanie       Gill      F   43039 Riley Greens Suite 393                    Orient    WA  99160  48.8878 -118.2105       149  Special educational needs teacher  1978-06-21  1f76529f8574734946361c461b024d99  1325376044  49.159047 -118.186462         0\n",
       "2                 2   2019-01-01 00:00:51       38859492057661                 fraud_Lind-Buckridge  entertainment  220.11       Edward    Sanchez      M       594 White Dale Suite 530                Malad City    ID  83252  42.1808 -112.2620      4154        Nature conservation officer  1962-01-19  a1a22d70485983eac12b5b88dad1cf95  1325376051  43.150704 -112.154481         0\n",
       "3                 3   2019-01-01 00:01:16     3534093764340240   fraud_Kutch, Hermiston and Farrell  gas_transport   45.00       Jeremy      White      M    9443 Cynthia Court Apt. 038                   Boulder    MT  59632  46.2306 -112.1138      1939                    Patent attorney  1967-01-12  6b849c168bdad6f867558c3793159a81  1325376076  47.034331 -112.561071         0\n",
       "4                 4   2019-01-01 00:03:06      375534208663984                  fraud_Keeling-Crist       misc_pos   41.96        Tyler     Garcia      M               408 Bradley Rest                  Doe Hill    VA  24433  38.4207  -79.4629        99     Dance movement psychotherapist  1986-03-28  a41d7549acf90789359a9aa5346dcb46  1325376186  38.674999  -78.632459         0\n",
       "...             ...                   ...                  ...                                  ...            ...     ...          ...        ...    ...                            ...                       ...   ...    ...      ...       ...       ...                                ...         ...                               ...         ...        ...         ...       ...\n",
       "1296670     1296670   2020-06-21 12:12:08       30263540414123                    fraud_Reichel Inc  entertainment   15.56         Erik  Patterson      M       162 Jessica Row Apt. 072                     Hatch    UT  84735  37.7175 -112.4777       258                       Geoscientist  1961-11-24  440b587732da4dc1a6395aba5fb41669  1371816728  36.841266 -111.690765         0\n",
       "1296671     1296671   2020-06-21 12:12:19     6011149206456997             fraud_Abernathy and Sons    food_dining   51.70      Jeffrey      White      M  8617 Holmes Terrace Suite 651                 Tuscarora    MD  21790  39.2667  -77.5101       100   Production assistant, television  1979-12-11  278000d2e0d2277d1de2f890067dcc0a  1371816739  38.906881  -78.246528         0\n",
       "1296672     1296672   2020-06-21 12:12:32     3514865930894695                 fraud_Stiedemann Ltd    food_dining  105.93  Christopher  Castaneda      M     1632 Cohen Drive Suite 639  High Rolls Mountain Park    NM  88325  32.9396 -105.8189       899                    Naval architect  1967-08-30  483f52fe67fabef353d552c1e662974c  1371816752  33.619513 -105.130529         0\n",
       "1296673     1296673   2020-06-21 12:13:36     2720012583106919  fraud_Reinger, Weissnat and Strosin    food_dining   74.90       Joseph     Murray      M           42933 Ryan Underpass                 Manderson    SD  57756  43.3526 -102.5411      1126              Volunteer coordinator  1980-08-18  d667cdcbadaaed3da3f4020e83591c83  1371816816  42.788940 -103.241160         0\n",
       "1296674     1296674   2020-06-21 12:13:37  4292902571056973207  fraud_Langosh, Wintheiser and Hyatt    food_dining    4.30      Jeffrey      Smith      M           135 Joseph Mountains                      Sula    MT  59871  45.8433 -113.8748       218           Therapist, horticultural  1995-08-16  8f7c8e4ab7f25875d753b422917c98c9  1371816817  46.565983 -114.186110         0\n",
       "\n",
       "[1296675 rows x 23 columns]"
      ]
     },
     "execution_count": 15,
     "metadata": {},
     "output_type": "execute_result"
    }
   ],
   "source": [
    "train = pd.read_csv('fraudTrain.csv')\n",
    "train"
   ]
  },
  {
   "cell_type": "code",
   "execution_count": 16,
   "metadata": {
    "colab": {
     "base_uri": "https://localhost:8080/",
     "height": 922
    },
    "execution": {
     "iopub.execute_input": "2022-03-18T04:09:03.791087Z",
     "iopub.status.busy": "2022-03-18T04:09:03.790808Z",
     "iopub.status.idle": "2022-03-18T04:09:08.759243Z",
     "shell.execute_reply": "2022-03-18T04:09:08.757962Z",
     "shell.execute_reply.started": "2022-03-18T04:09:03.791058Z"
    },
    "id": "TqKwRI64mvHt",
    "outputId": "4772aa9c-8a99-425b-dc99-bc958501fe05"
   },
   "outputs": [
    {
     "data": {
      "text/html": [
       "<div>\n",
       "<style scoped>\n",
       "    .dataframe tbody tr th:only-of-type {\n",
       "        vertical-align: middle;\n",
       "    }\n",
       "\n",
       "    .dataframe tbody tr th {\n",
       "        vertical-align: top;\n",
       "    }\n",
       "\n",
       "    .dataframe thead th {\n",
       "        text-align: right;\n",
       "    }\n",
       "</style>\n",
       "<table border=\"1\" class=\"dataframe\">\n",
       "  <thead>\n",
       "    <tr style=\"text-align: right;\">\n",
       "      <th></th>\n",
       "      <th>Unnamed: 0</th>\n",
       "      <th>trans_date_trans_time</th>\n",
       "      <th>cc_num</th>\n",
       "      <th>merchant</th>\n",
       "      <th>category</th>\n",
       "      <th>amt</th>\n",
       "      <th>first</th>\n",
       "      <th>last</th>\n",
       "      <th>gender</th>\n",
       "      <th>street</th>\n",
       "      <th>city</th>\n",
       "      <th>state</th>\n",
       "      <th>zip</th>\n",
       "      <th>lat</th>\n",
       "      <th>long</th>\n",
       "      <th>city_pop</th>\n",
       "      <th>job</th>\n",
       "      <th>dob</th>\n",
       "      <th>trans_num</th>\n",
       "      <th>unix_time</th>\n",
       "      <th>merch_lat</th>\n",
       "      <th>merch_long</th>\n",
       "      <th>is_fraud</th>\n",
       "    </tr>\n",
       "  </thead>\n",
       "  <tbody>\n",
       "    <tr>\n",
       "      <th>0</th>\n",
       "      <td>0</td>\n",
       "      <td>2020-06-21 12:14:25</td>\n",
       "      <td>2291163933867244</td>\n",
       "      <td>fraud_Kirlin and Sons</td>\n",
       "      <td>personal_care</td>\n",
       "      <td>2.86</td>\n",
       "      <td>Jeff</td>\n",
       "      <td>Elliott</td>\n",
       "      <td>M</td>\n",
       "      <td>351 Darlene Green</td>\n",
       "      <td>Columbia</td>\n",
       "      <td>SC</td>\n",
       "      <td>29209</td>\n",
       "      <td>33.9659</td>\n",
       "      <td>-80.9355</td>\n",
       "      <td>333497</td>\n",
       "      <td>Mechanical engineer</td>\n",
       "      <td>1968-03-19</td>\n",
       "      <td>2da90c7d74bd46a0caf3777415b3ebd3</td>\n",
       "      <td>1371816865</td>\n",
       "      <td>33.986391</td>\n",
       "      <td>-81.200714</td>\n",
       "      <td>0</td>\n",
       "    </tr>\n",
       "    <tr>\n",
       "      <th>1</th>\n",
       "      <td>1</td>\n",
       "      <td>2020-06-21 12:14:33</td>\n",
       "      <td>3573030041201292</td>\n",
       "      <td>fraud_Sporer-Keebler</td>\n",
       "      <td>personal_care</td>\n",
       "      <td>29.84</td>\n",
       "      <td>Joanne</td>\n",
       "      <td>Williams</td>\n",
       "      <td>F</td>\n",
       "      <td>3638 Marsh Union</td>\n",
       "      <td>Altonah</td>\n",
       "      <td>UT</td>\n",
       "      <td>84002</td>\n",
       "      <td>40.3207</td>\n",
       "      <td>-110.4360</td>\n",
       "      <td>302</td>\n",
       "      <td>Sales professional, IT</td>\n",
       "      <td>1990-01-17</td>\n",
       "      <td>324cc204407e99f51b0d6ca0055005e7</td>\n",
       "      <td>1371816873</td>\n",
       "      <td>39.450498</td>\n",
       "      <td>-109.960431</td>\n",
       "      <td>0</td>\n",
       "    </tr>\n",
       "    <tr>\n",
       "      <th>2</th>\n",
       "      <td>2</td>\n",
       "      <td>2020-06-21 12:14:53</td>\n",
       "      <td>3598215285024754</td>\n",
       "      <td>fraud_Swaniawski, Nitzsche and Welch</td>\n",
       "      <td>health_fitness</td>\n",
       "      <td>41.28</td>\n",
       "      <td>Ashley</td>\n",
       "      <td>Lopez</td>\n",
       "      <td>F</td>\n",
       "      <td>9333 Valentine Point</td>\n",
       "      <td>Bellmore</td>\n",
       "      <td>NY</td>\n",
       "      <td>11710</td>\n",
       "      <td>40.6729</td>\n",
       "      <td>-73.5365</td>\n",
       "      <td>34496</td>\n",
       "      <td>Librarian, public</td>\n",
       "      <td>1970-10-21</td>\n",
       "      <td>c81755dbbbea9d5c77f094348a7579be</td>\n",
       "      <td>1371816893</td>\n",
       "      <td>40.495810</td>\n",
       "      <td>-74.196111</td>\n",
       "      <td>0</td>\n",
       "    </tr>\n",
       "    <tr>\n",
       "      <th>3</th>\n",
       "      <td>3</td>\n",
       "      <td>2020-06-21 12:15:15</td>\n",
       "      <td>3591919803438423</td>\n",
       "      <td>fraud_Haley Group</td>\n",
       "      <td>misc_pos</td>\n",
       "      <td>60.05</td>\n",
       "      <td>Brian</td>\n",
       "      <td>Williams</td>\n",
       "      <td>M</td>\n",
       "      <td>32941 Krystal Mill Apt. 552</td>\n",
       "      <td>Titusville</td>\n",
       "      <td>FL</td>\n",
       "      <td>32780</td>\n",
       "      <td>28.5697</td>\n",
       "      <td>-80.8191</td>\n",
       "      <td>54767</td>\n",
       "      <td>Set designer</td>\n",
       "      <td>1987-07-25</td>\n",
       "      <td>2159175b9efe66dc301f149d3d5abf8c</td>\n",
       "      <td>1371816915</td>\n",
       "      <td>28.812398</td>\n",
       "      <td>-80.883061</td>\n",
       "      <td>0</td>\n",
       "    </tr>\n",
       "    <tr>\n",
       "      <th>4</th>\n",
       "      <td>4</td>\n",
       "      <td>2020-06-21 12:15:17</td>\n",
       "      <td>3526826139003047</td>\n",
       "      <td>fraud_Johnston-Casper</td>\n",
       "      <td>travel</td>\n",
       "      <td>3.19</td>\n",
       "      <td>Nathan</td>\n",
       "      <td>Massey</td>\n",
       "      <td>M</td>\n",
       "      <td>5783 Evan Roads Apt. 465</td>\n",
       "      <td>Falmouth</td>\n",
       "      <td>MI</td>\n",
       "      <td>49632</td>\n",
       "      <td>44.2529</td>\n",
       "      <td>-85.0170</td>\n",
       "      <td>1126</td>\n",
       "      <td>Furniture designer</td>\n",
       "      <td>1955-07-06</td>\n",
       "      <td>57ff021bd3f328f8738bb535c302a31b</td>\n",
       "      <td>1371816917</td>\n",
       "      <td>44.959148</td>\n",
       "      <td>-85.884734</td>\n",
       "      <td>0</td>\n",
       "    </tr>\n",
       "    <tr>\n",
       "      <th>...</th>\n",
       "      <td>...</td>\n",
       "      <td>...</td>\n",
       "      <td>...</td>\n",
       "      <td>...</td>\n",
       "      <td>...</td>\n",
       "      <td>...</td>\n",
       "      <td>...</td>\n",
       "      <td>...</td>\n",
       "      <td>...</td>\n",
       "      <td>...</td>\n",
       "      <td>...</td>\n",
       "      <td>...</td>\n",
       "      <td>...</td>\n",
       "      <td>...</td>\n",
       "      <td>...</td>\n",
       "      <td>...</td>\n",
       "      <td>...</td>\n",
       "      <td>...</td>\n",
       "      <td>...</td>\n",
       "      <td>...</td>\n",
       "      <td>...</td>\n",
       "      <td>...</td>\n",
       "      <td>...</td>\n",
       "    </tr>\n",
       "    <tr>\n",
       "      <th>555714</th>\n",
       "      <td>555714</td>\n",
       "      <td>2020-12-31 23:59:07</td>\n",
       "      <td>30560609640617</td>\n",
       "      <td>fraud_Reilly and Sons</td>\n",
       "      <td>health_fitness</td>\n",
       "      <td>43.77</td>\n",
       "      <td>Michael</td>\n",
       "      <td>Olson</td>\n",
       "      <td>M</td>\n",
       "      <td>558 Michael Estates</td>\n",
       "      <td>Luray</td>\n",
       "      <td>MO</td>\n",
       "      <td>63453</td>\n",
       "      <td>40.4931</td>\n",
       "      <td>-91.8912</td>\n",
       "      <td>519</td>\n",
       "      <td>Town planner</td>\n",
       "      <td>1966-02-13</td>\n",
       "      <td>9b1f753c79894c9f4b71f04581835ada</td>\n",
       "      <td>1388534347</td>\n",
       "      <td>39.946837</td>\n",
       "      <td>-91.333331</td>\n",
       "      <td>0</td>\n",
       "    </tr>\n",
       "    <tr>\n",
       "      <th>555715</th>\n",
       "      <td>555715</td>\n",
       "      <td>2020-12-31 23:59:09</td>\n",
       "      <td>3556613125071656</td>\n",
       "      <td>fraud_Hoppe-Parisian</td>\n",
       "      <td>kids_pets</td>\n",
       "      <td>111.84</td>\n",
       "      <td>Jose</td>\n",
       "      <td>Vasquez</td>\n",
       "      <td>M</td>\n",
       "      <td>572 Davis Mountains</td>\n",
       "      <td>Lake Jackson</td>\n",
       "      <td>TX</td>\n",
       "      <td>77566</td>\n",
       "      <td>29.0393</td>\n",
       "      <td>-95.4401</td>\n",
       "      <td>28739</td>\n",
       "      <td>Futures trader</td>\n",
       "      <td>1999-12-27</td>\n",
       "      <td>2090647dac2c89a1d86c514c427f5b91</td>\n",
       "      <td>1388534349</td>\n",
       "      <td>29.661049</td>\n",
       "      <td>-96.186633</td>\n",
       "      <td>0</td>\n",
       "    </tr>\n",
       "    <tr>\n",
       "      <th>555716</th>\n",
       "      <td>555716</td>\n",
       "      <td>2020-12-31 23:59:15</td>\n",
       "      <td>6011724471098086</td>\n",
       "      <td>fraud_Rau-Robel</td>\n",
       "      <td>kids_pets</td>\n",
       "      <td>86.88</td>\n",
       "      <td>Ann</td>\n",
       "      <td>Lawson</td>\n",
       "      <td>F</td>\n",
       "      <td>144 Evans Islands Apt. 683</td>\n",
       "      <td>Burbank</td>\n",
       "      <td>WA</td>\n",
       "      <td>99323</td>\n",
       "      <td>46.1966</td>\n",
       "      <td>-118.9017</td>\n",
       "      <td>3684</td>\n",
       "      <td>Musician</td>\n",
       "      <td>1981-11-29</td>\n",
       "      <td>6c5b7c8add471975aa0fec023b2e8408</td>\n",
       "      <td>1388534355</td>\n",
       "      <td>46.658340</td>\n",
       "      <td>-119.715054</td>\n",
       "      <td>0</td>\n",
       "    </tr>\n",
       "    <tr>\n",
       "      <th>555717</th>\n",
       "      <td>555717</td>\n",
       "      <td>2020-12-31 23:59:24</td>\n",
       "      <td>4079773899158</td>\n",
       "      <td>fraud_Breitenberg LLC</td>\n",
       "      <td>travel</td>\n",
       "      <td>7.99</td>\n",
       "      <td>Eric</td>\n",
       "      <td>Preston</td>\n",
       "      <td>M</td>\n",
       "      <td>7020 Doyle Stream Apt. 951</td>\n",
       "      <td>Mesa</td>\n",
       "      <td>ID</td>\n",
       "      <td>83643</td>\n",
       "      <td>44.6255</td>\n",
       "      <td>-116.4493</td>\n",
       "      <td>129</td>\n",
       "      <td>Cartographer</td>\n",
       "      <td>1965-12-15</td>\n",
       "      <td>14392d723bb7737606b2700ac791b7aa</td>\n",
       "      <td>1388534364</td>\n",
       "      <td>44.470525</td>\n",
       "      <td>-117.080888</td>\n",
       "      <td>0</td>\n",
       "    </tr>\n",
       "    <tr>\n",
       "      <th>555718</th>\n",
       "      <td>555718</td>\n",
       "      <td>2020-12-31 23:59:34</td>\n",
       "      <td>4170689372027579</td>\n",
       "      <td>fraud_Dare-Marvin</td>\n",
       "      <td>entertainment</td>\n",
       "      <td>38.13</td>\n",
       "      <td>Samuel</td>\n",
       "      <td>Frey</td>\n",
       "      <td>M</td>\n",
       "      <td>830 Myers Plaza Apt. 384</td>\n",
       "      <td>Edmond</td>\n",
       "      <td>OK</td>\n",
       "      <td>73034</td>\n",
       "      <td>35.6665</td>\n",
       "      <td>-97.4798</td>\n",
       "      <td>116001</td>\n",
       "      <td>Media buyer</td>\n",
       "      <td>1993-05-10</td>\n",
       "      <td>1765bb45b3aa3224b4cdcb6e7a96cee3</td>\n",
       "      <td>1388534374</td>\n",
       "      <td>36.210097</td>\n",
       "      <td>-97.036372</td>\n",
       "      <td>0</td>\n",
       "    </tr>\n",
       "  </tbody>\n",
       "</table>\n",
       "<p>555719 rows × 23 columns</p>\n",
       "</div>"
      ],
      "text/plain": [
       "        Unnamed: 0 trans_date_trans_time            cc_num                              merchant        category     amt    first      last gender                       street          city state    zip      lat      long  city_pop                     job         dob                         trans_num   unix_time  merch_lat  merch_long  is_fraud\n",
       "0                0   2020-06-21 12:14:25  2291163933867244                 fraud_Kirlin and Sons   personal_care    2.86     Jeff   Elliott      M            351 Darlene Green      Columbia    SC  29209  33.9659  -80.9355    333497     Mechanical engineer  1968-03-19  2da90c7d74bd46a0caf3777415b3ebd3  1371816865  33.986391  -81.200714         0\n",
       "1                1   2020-06-21 12:14:33  3573030041201292                  fraud_Sporer-Keebler   personal_care   29.84   Joanne  Williams      F             3638 Marsh Union       Altonah    UT  84002  40.3207 -110.4360       302  Sales professional, IT  1990-01-17  324cc204407e99f51b0d6ca0055005e7  1371816873  39.450498 -109.960431         0\n",
       "2                2   2020-06-21 12:14:53  3598215285024754  fraud_Swaniawski, Nitzsche and Welch  health_fitness   41.28   Ashley     Lopez      F         9333 Valentine Point      Bellmore    NY  11710  40.6729  -73.5365     34496       Librarian, public  1970-10-21  c81755dbbbea9d5c77f094348a7579be  1371816893  40.495810  -74.196111         0\n",
       "3                3   2020-06-21 12:15:15  3591919803438423                     fraud_Haley Group        misc_pos   60.05    Brian  Williams      M  32941 Krystal Mill Apt. 552    Titusville    FL  32780  28.5697  -80.8191     54767            Set designer  1987-07-25  2159175b9efe66dc301f149d3d5abf8c  1371816915  28.812398  -80.883061         0\n",
       "4                4   2020-06-21 12:15:17  3526826139003047                 fraud_Johnston-Casper          travel    3.19   Nathan    Massey      M     5783 Evan Roads Apt. 465      Falmouth    MI  49632  44.2529  -85.0170      1126      Furniture designer  1955-07-06  57ff021bd3f328f8738bb535c302a31b  1371816917  44.959148  -85.884734         0\n",
       "...            ...                   ...               ...                                   ...             ...     ...      ...       ...    ...                          ...           ...   ...    ...      ...       ...       ...                     ...         ...                               ...         ...        ...         ...       ...\n",
       "555714      555714   2020-12-31 23:59:07    30560609640617                 fraud_Reilly and Sons  health_fitness   43.77  Michael     Olson      M          558 Michael Estates         Luray    MO  63453  40.4931  -91.8912       519            Town planner  1966-02-13  9b1f753c79894c9f4b71f04581835ada  1388534347  39.946837  -91.333331         0\n",
       "555715      555715   2020-12-31 23:59:09  3556613125071656                  fraud_Hoppe-Parisian       kids_pets  111.84     Jose   Vasquez      M          572 Davis Mountains  Lake Jackson    TX  77566  29.0393  -95.4401     28739          Futures trader  1999-12-27  2090647dac2c89a1d86c514c427f5b91  1388534349  29.661049  -96.186633         0\n",
       "555716      555716   2020-12-31 23:59:15  6011724471098086                       fraud_Rau-Robel       kids_pets   86.88      Ann    Lawson      F   144 Evans Islands Apt. 683       Burbank    WA  99323  46.1966 -118.9017      3684                Musician  1981-11-29  6c5b7c8add471975aa0fec023b2e8408  1388534355  46.658340 -119.715054         0\n",
       "555717      555717   2020-12-31 23:59:24     4079773899158                 fraud_Breitenberg LLC          travel    7.99     Eric   Preston      M   7020 Doyle Stream Apt. 951          Mesa    ID  83643  44.6255 -116.4493       129            Cartographer  1965-12-15  14392d723bb7737606b2700ac791b7aa  1388534364  44.470525 -117.080888         0\n",
       "555718      555718   2020-12-31 23:59:34  4170689372027579                     fraud_Dare-Marvin   entertainment   38.13   Samuel      Frey      M     830 Myers Plaza Apt. 384        Edmond    OK  73034  35.6665  -97.4798    116001             Media buyer  1993-05-10  1765bb45b3aa3224b4cdcb6e7a96cee3  1388534374  36.210097  -97.036372         0\n",
       "\n",
       "[555719 rows x 23 columns]"
      ]
     },
     "execution_count": 16,
     "metadata": {},
     "output_type": "execute_result"
    }
   ],
   "source": [
    "test = pd.read_csv('fraudTest.csv')\n",
    "test"
   ]
  },
  {
   "cell_type": "code",
   "execution_count": 17,
   "metadata": {
    "colab": {
     "base_uri": "https://localhost:8080/"
    },
    "execution": {
     "iopub.execute_input": "2022-03-18T04:09:08.781600Z",
     "iopub.status.busy": "2022-03-18T04:09:08.781342Z",
     "iopub.status.idle": "2022-03-18T04:09:08.794215Z",
     "shell.execute_reply": "2022-03-18T04:09:08.793060Z",
     "shell.execute_reply.started": "2022-03-18T04:09:08.781571Z"
    },
    "id": "OFwsbyAdxST3",
    "outputId": "c752c045-0b38-478d-87fd-5ef0a4a26ed2"
   },
   "outputs": [
    {
     "data": {
      "text/plain": [
       "((1296675, 23), (555719, 23))"
      ]
     },
     "execution_count": 17,
     "metadata": {},
     "output_type": "execute_result"
    }
   ],
   "source": [
    "train.shape, test.shape"
   ]
  },
  {
   "cell_type": "markdown",
   "metadata": {
    "id": "yzRAw5y41OJP"
   },
   "source": [
    "<font color=orange> Function created to extract information on dataset like null values, data types and unique values in columns"
   ]
  },
  {
   "cell_type": "code",
   "execution_count": 18,
   "metadata": {
    "execution": {
     "iopub.execute_input": "2022-03-18T04:09:08.796018Z",
     "iopub.status.busy": "2022-03-18T04:09:08.795705Z",
     "iopub.status.idle": "2022-03-18T04:09:08.807959Z",
     "shell.execute_reply": "2022-03-18T04:09:08.807250Z",
     "shell.execute_reply.started": "2022-03-18T04:09:08.795985Z"
    },
    "id": "gvgEguFJmSmz"
   },
   "outputs": [],
   "source": [
    "def details(df):\n",
    "    sum_null_values = df.isnull().sum()\n",
    "    percent_null_values = 100* (sum_null_values/len(df))\n",
    "    data_type = df.dtypes\n",
    "    unique_values = df.nunique()\n",
    "\n",
    "    table = pd.concat([sum_null_values,percent_null_values,data_type,unique_values], axis=1)\n",
    "    table_col = table.rename(columns = {0 : 'Missing Values', 1 : '% of Total Missing Values', 2 : 'Data_Type', 3: 'Unique values'})\n",
    "    return table_col"
   ]
  },
  {
   "cell_type": "code",
   "execution_count": 19,
   "metadata": {
    "colab": {
     "base_uri": "https://localhost:8080/",
     "height": 771
    },
    "execution": {
     "iopub.execute_input": "2022-03-18T04:09:08.809551Z",
     "iopub.status.busy": "2022-03-18T04:09:08.809305Z",
     "iopub.status.idle": "2022-03-18T04:09:13.133665Z",
     "shell.execute_reply": "2022-03-18T04:09:13.132950Z",
     "shell.execute_reply.started": "2022-03-18T04:09:08.809523Z"
    },
    "id": "51t3FQUO1Wcg",
    "outputId": "dc70b913-5d1f-4b9c-b1dc-b960a3473783"
   },
   "outputs": [
    {
     "data": {
      "text/html": [
       "<div>\n",
       "<style scoped>\n",
       "    .dataframe tbody tr th:only-of-type {\n",
       "        vertical-align: middle;\n",
       "    }\n",
       "\n",
       "    .dataframe tbody tr th {\n",
       "        vertical-align: top;\n",
       "    }\n",
       "\n",
       "    .dataframe thead th {\n",
       "        text-align: right;\n",
       "    }\n",
       "</style>\n",
       "<table border=\"1\" class=\"dataframe\">\n",
       "  <thead>\n",
       "    <tr style=\"text-align: right;\">\n",
       "      <th></th>\n",
       "      <th>Missing Values</th>\n",
       "      <th>% of Total Missing Values</th>\n",
       "      <th>Data_Type</th>\n",
       "      <th>Unique values</th>\n",
       "    </tr>\n",
       "  </thead>\n",
       "  <tbody>\n",
       "    <tr>\n",
       "      <th>Unnamed: 0</th>\n",
       "      <td>0</td>\n",
       "      <td>0.0</td>\n",
       "      <td>int64</td>\n",
       "      <td>1296675</td>\n",
       "    </tr>\n",
       "    <tr>\n",
       "      <th>trans_date_trans_time</th>\n",
       "      <td>0</td>\n",
       "      <td>0.0</td>\n",
       "      <td>object</td>\n",
       "      <td>1274791</td>\n",
       "    </tr>\n",
       "    <tr>\n",
       "      <th>cc_num</th>\n",
       "      <td>0</td>\n",
       "      <td>0.0</td>\n",
       "      <td>int64</td>\n",
       "      <td>983</td>\n",
       "    </tr>\n",
       "    <tr>\n",
       "      <th>merchant</th>\n",
       "      <td>0</td>\n",
       "      <td>0.0</td>\n",
       "      <td>object</td>\n",
       "      <td>693</td>\n",
       "    </tr>\n",
       "    <tr>\n",
       "      <th>category</th>\n",
       "      <td>0</td>\n",
       "      <td>0.0</td>\n",
       "      <td>object</td>\n",
       "      <td>14</td>\n",
       "    </tr>\n",
       "    <tr>\n",
       "      <th>amt</th>\n",
       "      <td>0</td>\n",
       "      <td>0.0</td>\n",
       "      <td>float64</td>\n",
       "      <td>52928</td>\n",
       "    </tr>\n",
       "    <tr>\n",
       "      <th>first</th>\n",
       "      <td>0</td>\n",
       "      <td>0.0</td>\n",
       "      <td>object</td>\n",
       "      <td>352</td>\n",
       "    </tr>\n",
       "    <tr>\n",
       "      <th>last</th>\n",
       "      <td>0</td>\n",
       "      <td>0.0</td>\n",
       "      <td>object</td>\n",
       "      <td>481</td>\n",
       "    </tr>\n",
       "    <tr>\n",
       "      <th>gender</th>\n",
       "      <td>0</td>\n",
       "      <td>0.0</td>\n",
       "      <td>object</td>\n",
       "      <td>2</td>\n",
       "    </tr>\n",
       "    <tr>\n",
       "      <th>street</th>\n",
       "      <td>0</td>\n",
       "      <td>0.0</td>\n",
       "      <td>object</td>\n",
       "      <td>983</td>\n",
       "    </tr>\n",
       "    <tr>\n",
       "      <th>city</th>\n",
       "      <td>0</td>\n",
       "      <td>0.0</td>\n",
       "      <td>object</td>\n",
       "      <td>894</td>\n",
       "    </tr>\n",
       "    <tr>\n",
       "      <th>state</th>\n",
       "      <td>0</td>\n",
       "      <td>0.0</td>\n",
       "      <td>object</td>\n",
       "      <td>51</td>\n",
       "    </tr>\n",
       "    <tr>\n",
       "      <th>zip</th>\n",
       "      <td>0</td>\n",
       "      <td>0.0</td>\n",
       "      <td>int64</td>\n",
       "      <td>970</td>\n",
       "    </tr>\n",
       "    <tr>\n",
       "      <th>lat</th>\n",
       "      <td>0</td>\n",
       "      <td>0.0</td>\n",
       "      <td>float64</td>\n",
       "      <td>968</td>\n",
       "    </tr>\n",
       "    <tr>\n",
       "      <th>long</th>\n",
       "      <td>0</td>\n",
       "      <td>0.0</td>\n",
       "      <td>float64</td>\n",
       "      <td>969</td>\n",
       "    </tr>\n",
       "    <tr>\n",
       "      <th>city_pop</th>\n",
       "      <td>0</td>\n",
       "      <td>0.0</td>\n",
       "      <td>int64</td>\n",
       "      <td>879</td>\n",
       "    </tr>\n",
       "    <tr>\n",
       "      <th>job</th>\n",
       "      <td>0</td>\n",
       "      <td>0.0</td>\n",
       "      <td>object</td>\n",
       "      <td>494</td>\n",
       "    </tr>\n",
       "    <tr>\n",
       "      <th>dob</th>\n",
       "      <td>0</td>\n",
       "      <td>0.0</td>\n",
       "      <td>object</td>\n",
       "      <td>968</td>\n",
       "    </tr>\n",
       "    <tr>\n",
       "      <th>trans_num</th>\n",
       "      <td>0</td>\n",
       "      <td>0.0</td>\n",
       "      <td>object</td>\n",
       "      <td>1296675</td>\n",
       "    </tr>\n",
       "    <tr>\n",
       "      <th>unix_time</th>\n",
       "      <td>0</td>\n",
       "      <td>0.0</td>\n",
       "      <td>int64</td>\n",
       "      <td>1274823</td>\n",
       "    </tr>\n",
       "    <tr>\n",
       "      <th>merch_lat</th>\n",
       "      <td>0</td>\n",
       "      <td>0.0</td>\n",
       "      <td>float64</td>\n",
       "      <td>1247805</td>\n",
       "    </tr>\n",
       "    <tr>\n",
       "      <th>merch_long</th>\n",
       "      <td>0</td>\n",
       "      <td>0.0</td>\n",
       "      <td>float64</td>\n",
       "      <td>1275745</td>\n",
       "    </tr>\n",
       "    <tr>\n",
       "      <th>is_fraud</th>\n",
       "      <td>0</td>\n",
       "      <td>0.0</td>\n",
       "      <td>int64</td>\n",
       "      <td>2</td>\n",
       "    </tr>\n",
       "  </tbody>\n",
       "</table>\n",
       "</div>"
      ],
      "text/plain": [
       "                       Missing Values  % of Total Missing Values Data_Type  Unique values\n",
       "Unnamed: 0                          0                        0.0     int64        1296675\n",
       "trans_date_trans_time               0                        0.0    object        1274791\n",
       "cc_num                              0                        0.0     int64            983\n",
       "merchant                            0                        0.0    object            693\n",
       "category                            0                        0.0    object             14\n",
       "amt                                 0                        0.0   float64          52928\n",
       "first                               0                        0.0    object            352\n",
       "last                                0                        0.0    object            481\n",
       "gender                              0                        0.0    object              2\n",
       "street                              0                        0.0    object            983\n",
       "city                                0                        0.0    object            894\n",
       "state                               0                        0.0    object             51\n",
       "zip                                 0                        0.0     int64            970\n",
       "lat                                 0                        0.0   float64            968\n",
       "long                                0                        0.0   float64            969\n",
       "city_pop                            0                        0.0     int64            879\n",
       "job                                 0                        0.0    object            494\n",
       "dob                                 0                        0.0    object            968\n",
       "trans_num                           0                        0.0    object        1296675\n",
       "unix_time                           0                        0.0     int64        1274823\n",
       "merch_lat                           0                        0.0   float64        1247805\n",
       "merch_long                          0                        0.0   float64        1275745\n",
       "is_fraud                            0                        0.0     int64              2"
      ]
     },
     "execution_count": 19,
     "metadata": {},
     "output_type": "execute_result"
    }
   ],
   "source": [
    "details(train)"
   ]
  },
  {
   "cell_type": "code",
   "execution_count": 20,
   "metadata": {
    "colab": {
     "base_uri": "https://localhost:8080/",
     "height": 771
    },
    "execution": {
     "iopub.execute_input": "2022-03-18T04:09:13.135620Z",
     "iopub.status.busy": "2022-03-18T04:09:13.135135Z",
     "iopub.status.idle": "2022-03-18T04:09:14.907389Z",
     "shell.execute_reply": "2022-03-18T04:09:14.906680Z",
     "shell.execute_reply.started": "2022-03-18T04:09:13.135587Z"
    },
    "id": "o5CXTs9p1WPa",
    "outputId": "b474be3b-729e-445d-c049-05107c6e2a75"
   },
   "outputs": [
    {
     "data": {
      "text/html": [
       "<div>\n",
       "<style scoped>\n",
       "    .dataframe tbody tr th:only-of-type {\n",
       "        vertical-align: middle;\n",
       "    }\n",
       "\n",
       "    .dataframe tbody tr th {\n",
       "        vertical-align: top;\n",
       "    }\n",
       "\n",
       "    .dataframe thead th {\n",
       "        text-align: right;\n",
       "    }\n",
       "</style>\n",
       "<table border=\"1\" class=\"dataframe\">\n",
       "  <thead>\n",
       "    <tr style=\"text-align: right;\">\n",
       "      <th></th>\n",
       "      <th>Missing Values</th>\n",
       "      <th>% of Total Missing Values</th>\n",
       "      <th>Data_Type</th>\n",
       "      <th>Unique values</th>\n",
       "    </tr>\n",
       "  </thead>\n",
       "  <tbody>\n",
       "    <tr>\n",
       "      <th>Unnamed: 0</th>\n",
       "      <td>0</td>\n",
       "      <td>0.0</td>\n",
       "      <td>int64</td>\n",
       "      <td>555719</td>\n",
       "    </tr>\n",
       "    <tr>\n",
       "      <th>trans_date_trans_time</th>\n",
       "      <td>0</td>\n",
       "      <td>0.0</td>\n",
       "      <td>object</td>\n",
       "      <td>544760</td>\n",
       "    </tr>\n",
       "    <tr>\n",
       "      <th>cc_num</th>\n",
       "      <td>0</td>\n",
       "      <td>0.0</td>\n",
       "      <td>int64</td>\n",
       "      <td>924</td>\n",
       "    </tr>\n",
       "    <tr>\n",
       "      <th>merchant</th>\n",
       "      <td>0</td>\n",
       "      <td>0.0</td>\n",
       "      <td>object</td>\n",
       "      <td>693</td>\n",
       "    </tr>\n",
       "    <tr>\n",
       "      <th>category</th>\n",
       "      <td>0</td>\n",
       "      <td>0.0</td>\n",
       "      <td>object</td>\n",
       "      <td>14</td>\n",
       "    </tr>\n",
       "    <tr>\n",
       "      <th>amt</th>\n",
       "      <td>0</td>\n",
       "      <td>0.0</td>\n",
       "      <td>float64</td>\n",
       "      <td>37256</td>\n",
       "    </tr>\n",
       "    <tr>\n",
       "      <th>first</th>\n",
       "      <td>0</td>\n",
       "      <td>0.0</td>\n",
       "      <td>object</td>\n",
       "      <td>341</td>\n",
       "    </tr>\n",
       "    <tr>\n",
       "      <th>last</th>\n",
       "      <td>0</td>\n",
       "      <td>0.0</td>\n",
       "      <td>object</td>\n",
       "      <td>471</td>\n",
       "    </tr>\n",
       "    <tr>\n",
       "      <th>gender</th>\n",
       "      <td>0</td>\n",
       "      <td>0.0</td>\n",
       "      <td>object</td>\n",
       "      <td>2</td>\n",
       "    </tr>\n",
       "    <tr>\n",
       "      <th>street</th>\n",
       "      <td>0</td>\n",
       "      <td>0.0</td>\n",
       "      <td>object</td>\n",
       "      <td>924</td>\n",
       "    </tr>\n",
       "    <tr>\n",
       "      <th>city</th>\n",
       "      <td>0</td>\n",
       "      <td>0.0</td>\n",
       "      <td>object</td>\n",
       "      <td>849</td>\n",
       "    </tr>\n",
       "    <tr>\n",
       "      <th>state</th>\n",
       "      <td>0</td>\n",
       "      <td>0.0</td>\n",
       "      <td>object</td>\n",
       "      <td>50</td>\n",
       "    </tr>\n",
       "    <tr>\n",
       "      <th>zip</th>\n",
       "      <td>0</td>\n",
       "      <td>0.0</td>\n",
       "      <td>int64</td>\n",
       "      <td>912</td>\n",
       "    </tr>\n",
       "    <tr>\n",
       "      <th>lat</th>\n",
       "      <td>0</td>\n",
       "      <td>0.0</td>\n",
       "      <td>float64</td>\n",
       "      <td>910</td>\n",
       "    </tr>\n",
       "    <tr>\n",
       "      <th>long</th>\n",
       "      <td>0</td>\n",
       "      <td>0.0</td>\n",
       "      <td>float64</td>\n",
       "      <td>910</td>\n",
       "    </tr>\n",
       "    <tr>\n",
       "      <th>city_pop</th>\n",
       "      <td>0</td>\n",
       "      <td>0.0</td>\n",
       "      <td>int64</td>\n",
       "      <td>835</td>\n",
       "    </tr>\n",
       "    <tr>\n",
       "      <th>job</th>\n",
       "      <td>0</td>\n",
       "      <td>0.0</td>\n",
       "      <td>object</td>\n",
       "      <td>478</td>\n",
       "    </tr>\n",
       "    <tr>\n",
       "      <th>dob</th>\n",
       "      <td>0</td>\n",
       "      <td>0.0</td>\n",
       "      <td>object</td>\n",
       "      <td>910</td>\n",
       "    </tr>\n",
       "    <tr>\n",
       "      <th>trans_num</th>\n",
       "      <td>0</td>\n",
       "      <td>0.0</td>\n",
       "      <td>object</td>\n",
       "      <td>555719</td>\n",
       "    </tr>\n",
       "    <tr>\n",
       "      <th>unix_time</th>\n",
       "      <td>0</td>\n",
       "      <td>0.0</td>\n",
       "      <td>int64</td>\n",
       "      <td>544760</td>\n",
       "    </tr>\n",
       "    <tr>\n",
       "      <th>merch_lat</th>\n",
       "      <td>0</td>\n",
       "      <td>0.0</td>\n",
       "      <td>float64</td>\n",
       "      <td>546490</td>\n",
       "    </tr>\n",
       "    <tr>\n",
       "      <th>merch_long</th>\n",
       "      <td>0</td>\n",
       "      <td>0.0</td>\n",
       "      <td>float64</td>\n",
       "      <td>551770</td>\n",
       "    </tr>\n",
       "    <tr>\n",
       "      <th>is_fraud</th>\n",
       "      <td>0</td>\n",
       "      <td>0.0</td>\n",
       "      <td>int64</td>\n",
       "      <td>2</td>\n",
       "    </tr>\n",
       "  </tbody>\n",
       "</table>\n",
       "</div>"
      ],
      "text/plain": [
       "                       Missing Values  % of Total Missing Values Data_Type  Unique values\n",
       "Unnamed: 0                          0                        0.0     int64         555719\n",
       "trans_date_trans_time               0                        0.0    object         544760\n",
       "cc_num                              0                        0.0     int64            924\n",
       "merchant                            0                        0.0    object            693\n",
       "category                            0                        0.0    object             14\n",
       "amt                                 0                        0.0   float64          37256\n",
       "first                               0                        0.0    object            341\n",
       "last                                0                        0.0    object            471\n",
       "gender                              0                        0.0    object              2\n",
       "street                              0                        0.0    object            924\n",
       "city                                0                        0.0    object            849\n",
       "state                               0                        0.0    object             50\n",
       "zip                                 0                        0.0     int64            912\n",
       "lat                                 0                        0.0   float64            910\n",
       "long                                0                        0.0   float64            910\n",
       "city_pop                            0                        0.0     int64            835\n",
       "job                                 0                        0.0    object            478\n",
       "dob                                 0                        0.0    object            910\n",
       "trans_num                           0                        0.0    object         555719\n",
       "unix_time                           0                        0.0     int64         544760\n",
       "merch_lat                           0                        0.0   float64         546490\n",
       "merch_long                          0                        0.0   float64         551770\n",
       "is_fraud                            0                        0.0     int64              2"
      ]
     },
     "execution_count": 20,
     "metadata": {},
     "output_type": "execute_result"
    }
   ],
   "source": [
    "details(test)"
   ]
  },
  {
   "cell_type": "markdown",
   "metadata": {
    "id": "jTnGVGTbbaUa"
   },
   "source": [
    "<font color=lightgreen> From above table we can see there are no null values in any columns."
   ]
  },
  {
   "cell_type": "code",
   "execution_count": 21,
   "metadata": {
    "colab": {
     "base_uri": "https://localhost:8080/"
    },
    "execution": {
     "iopub.execute_input": "2022-03-18T04:09:14.909166Z",
     "iopub.status.busy": "2022-03-18T04:09:14.908698Z",
     "iopub.status.idle": "2022-03-18T04:09:14.914672Z",
     "shell.execute_reply": "2022-03-18T04:09:14.913871Z",
     "shell.execute_reply.started": "2022-03-18T04:09:14.909134Z"
    },
    "id": "xc_bHPBumSb7",
    "outputId": "29391599-de4f-419b-d6f3-299fdc610980"
   },
   "outputs": [
    {
     "data": {
      "text/plain": [
       "42.85723099465942"
      ]
     },
     "execution_count": 21,
     "metadata": {},
     "output_type": "execute_result"
    }
   ],
   "source": [
    "100*len(test)/len(train)"
   ]
  },
  {
   "cell_type": "markdown",
   "metadata": {
    "id": "mPt90D711Z19"
   },
   "source": [
    "<font color=orange>Creating new dataframe excluding the first column"
   ]
  },
  {
   "cell_type": "code",
   "execution_count": 22,
   "metadata": {
    "execution": {
     "iopub.execute_input": "2022-03-18T04:09:14.916561Z",
     "iopub.status.busy": "2022-03-18T04:09:14.916074Z",
     "iopub.status.idle": "2022-03-18T04:09:15.193040Z",
     "shell.execute_reply": "2022-03-18T04:09:15.192307Z",
     "shell.execute_reply.started": "2022-03-18T04:09:14.916529Z"
    },
    "id": "BYiCsAdDmSZX"
   },
   "outputs": [],
   "source": [
    "df_train = train.iloc[0:,1:]\n",
    "df_test = test.iloc[0:,1:]"
   ]
  },
  {
   "cell_type": "markdown",
   "metadata": {
    "id": "y44gQCBh1lU_"
   },
   "source": [
    "<font color=orange>Merging first and last names and dropping original column"
   ]
  },
  {
   "cell_type": "code",
   "execution_count": 23,
   "metadata": {
    "execution": {
     "iopub.execute_input": "2022-03-18T04:09:15.194564Z",
     "iopub.status.busy": "2022-03-18T04:09:15.194275Z",
     "iopub.status.idle": "2022-03-18T04:09:15.723870Z",
     "shell.execute_reply": "2022-03-18T04:09:15.722936Z",
     "shell.execute_reply.started": "2022-03-18T04:09:15.194533Z"
    },
    "id": "OTuaxIR7mSTp"
   },
   "outputs": [],
   "source": [
    "df_train['Full_Name'] = df_train['first'] +' ' + df_train['last']\n",
    "df_test['Full_Name'] = df_test['first'] +' ' + df_test['last']"
   ]
  },
  {
   "cell_type": "code",
   "execution_count": 24,
   "metadata": {
    "execution": {
     "iopub.execute_input": "2022-03-18T04:09:15.725456Z",
     "iopub.status.busy": "2022-03-18T04:09:15.725169Z",
     "iopub.status.idle": "2022-03-18T04:09:16.915537Z",
     "shell.execute_reply": "2022-03-18T04:09:16.914446Z",
     "shell.execute_reply.started": "2022-03-18T04:09:15.725425Z"
    },
    "id": "IvtQoS0dmSQl"
   },
   "outputs": [],
   "source": [
    "df_train.drop(['first','last'],1,inplace=True)\n",
    "df_test.drop(['first','last'],1,inplace=True)"
   ]
  },
  {
   "cell_type": "markdown",
   "metadata": {
    "id": "WT1E-L3J1uop"
   },
   "source": [
    "<font color=orange>Modifying Datatypes for time and date columns and converting to datetime format"
   ]
  },
  {
   "cell_type": "code",
   "execution_count": 25,
   "metadata": {
    "execution": {
     "iopub.execute_input": "2022-03-18T04:09:16.917452Z",
     "iopub.status.busy": "2022-03-18T04:09:16.917088Z",
     "iopub.status.idle": "2022-03-18T04:09:18.945781Z",
     "shell.execute_reply": "2022-03-18T04:09:18.945049Z",
     "shell.execute_reply.started": "2022-03-18T04:09:16.917406Z"
    },
    "id": "ZuJ6twzUmSNV"
   },
   "outputs": [],
   "source": [
    "df_train['trans_date_trans_time'] = pd.to_datetime(df_train['trans_date_trans_time'], errors='coerce')\n",
    "df_train['dob'] = pd.to_datetime(df_train['dob'], errors='coerce')\n",
    "df_train['unix_time'] = pd.to_datetime(df_train['unix_time'], errors='coerce')"
   ]
  },
  {
   "cell_type": "markdown",
   "metadata": {
    "id": "VYPEs0Vo17G4"
   },
   "source": [
    "<font color=orange>Converting dob to age and removing dob column"
   ]
  },
  {
   "cell_type": "code",
   "execution_count": null,
   "metadata": {
    "execution": {
     "iopub.execute_input": "2022-03-18T04:09:18.948437Z",
     "iopub.status.busy": "2022-03-18T04:09:18.948181Z",
     "iopub.status.idle": "2022-03-18T04:09:20.657380Z",
     "shell.execute_reply": "2022-03-18T04:09:20.656328Z",
     "shell.execute_reply.started": "2022-03-18T04:09:18.948408Z"
    },
    "id": "G8l6JdI9mSKe"
   },
   "outputs": [],
   "source": [
    "df_train['Transaction_Date'] = (df_train['trans_date_trans_time']).dt.date.astype('datetime64[ns]')\n",
    "df_train['age'] = df_train['Transaction_Date'].dt.year - df_train['dob'].dt.year\n",
    "df_train.drop('dob',1,inplace=True)"
   ]
  },
  {
   "cell_type": "code",
   "execution_count": null,
   "metadata": {
    "execution": {
     "iopub.execute_input": "2022-03-18T04:09:20.659261Z",
     "iopub.status.busy": "2022-03-18T04:09:20.658982Z",
     "iopub.status.idle": "2022-03-18T04:09:21.484397Z",
     "shell.execute_reply": "2022-03-18T04:09:21.483721Z",
     "shell.execute_reply.started": "2022-03-18T04:09:20.659222Z"
    },
    "id": "j7T3CxVkoV-f"
   },
   "outputs": [],
   "source": [
    "df_test['trans_date_trans_time'] = pd.to_datetime(df_test['trans_date_trans_time'], errors='coerce')  \n",
    "df_test['dob'] = pd.to_datetime(df_test['dob'], errors='coerce')\n",
    "df_test['unix_time'] = pd.to_datetime(df_test['unix_time'], errors='coerce')"
   ]
  },
  {
   "cell_type": "code",
   "execution_count": null,
   "metadata": {
    "execution": {
     "iopub.execute_input": "2022-03-18T04:09:21.485949Z",
     "iopub.status.busy": "2022-03-18T04:09:21.485485Z",
     "iopub.status.idle": "2022-03-18T04:09:22.230624Z",
     "shell.execute_reply": "2022-03-18T04:09:22.229435Z",
     "shell.execute_reply.started": "2022-03-18T04:09:21.485896Z"
    },
    "id": "ONT0NjMaoV8j"
   },
   "outputs": [],
   "source": [
    "df_test['Transaction_Date'] = (df_test['trans_date_trans_time']).dt.date.astype('datetime64[ns]')\n",
    "df_test['age'] = df_test['Transaction_Date'].dt.year - df_test['dob'].dt.year\n",
    "df_test.drop('dob',1,inplace=True)"
   ]
  },
  {
   "cell_type": "markdown",
   "metadata": {
    "id": "lxeZSP6f2DKu"
   },
   "source": [
    "<font color=orange>Creating new columns by splitting time and date columns "
   ]
  },
  {
   "cell_type": "code",
   "execution_count": null,
   "metadata": {
    "execution": {
     "iopub.execute_input": "2022-03-18T04:09:22.232629Z",
     "iopub.status.busy": "2022-03-18T04:09:22.232303Z",
     "iopub.status.idle": "2022-03-18T04:09:24.472924Z",
     "shell.execute_reply": "2022-03-18T04:09:24.471995Z",
     "shell.execute_reply.started": "2022-03-18T04:09:22.232586Z"
    },
    "id": "Q-KozOxXoV59"
   },
   "outputs": [],
   "source": [
    "df_train['weekday_no'] = df_train['trans_date_trans_time'].dt.dayofweek\n",
    "df_train['week_day'] = df_train['trans_date_trans_time'].dt.day_name()\n",
    "df_train['week_no'] = df_train['trans_date_trans_time'].dt.week\n",
    "df_train['day_no'] = df_train['trans_date_trans_time'].dt.day\n",
    "df_train['min_day'] = df_train['trans_date_trans_time'].dt.minute\n",
    "df_train['hr_day'] = df_train['trans_date_trans_time'].dt.hour\n",
    "df_train['month_name'] = df_train['trans_date_trans_time'].dt.month_name()\n",
    "df_train['month'] = df_train['trans_date_trans_time'].dt.month\n",
    "df_train['year'] = df_train['trans_date_trans_time'].dt.year\n",
    "df_train['year_dayno'] = df_train['trans_date_trans_time'].dt.dayofyear"
   ]
  },
  {
   "cell_type": "code",
   "execution_count": null,
   "metadata": {
    "execution": {
     "iopub.execute_input": "2022-03-18T04:09:24.477414Z",
     "iopub.status.busy": "2022-03-18T04:09:24.477148Z",
     "iopub.status.idle": "2022-03-18T04:09:25.477421Z",
     "shell.execute_reply": "2022-03-18T04:09:25.476522Z",
     "shell.execute_reply.started": "2022-03-18T04:09:24.477385Z"
    },
    "id": "SStOIMtaoV3O"
   },
   "outputs": [],
   "source": [
    "df_test['weekday_no'] = df_test['trans_date_trans_time'].dt.dayofweek\n",
    "df_test['week_day'] = df_test['trans_date_trans_time'].dt.day_name()\n",
    "df_test['week_no'] = df_test['trans_date_trans_time'].dt.week\n",
    "df_test['day_no'] = df_test['trans_date_trans_time'].dt.day\n",
    "df_test['min_day'] = df_test['trans_date_trans_time'].dt.minute\n",
    "df_test['hr_day'] = df_test['trans_date_trans_time'].dt.hour\n",
    "df_test['month_name'] = df_test['trans_date_trans_time'].dt.month_name()\n",
    "df_test['month'] = df_test['trans_date_trans_time'].dt.month\n",
    "df_test['year'] = df_test['trans_date_trans_time'].dt.year\n",
    "df_test['year_dayno'] = df_test['trans_date_trans_time'].dt.dayofyear"
   ]
  },
  {
   "cell_type": "markdown",
   "metadata": {
    "id": "JMPos-Qp2NZU"
   },
   "source": [
    "<font color=orange>Using Haversine formula for converting latitudes and longitudes to distances"
   ]
  },
  {
   "cell_type": "code",
   "execution_count": null,
   "metadata": {
    "execution": {
     "iopub.execute_input": "2022-03-18T04:09:25.479437Z",
     "iopub.status.busy": "2022-03-18T04:09:25.479058Z",
     "iopub.status.idle": "2022-03-18T04:09:25.489511Z",
     "shell.execute_reply": "2022-03-18T04:09:25.488551Z",
     "shell.execute_reply.started": "2022-03-18T04:09:25.479392Z"
    },
    "id": "qulz_vNPoV0g"
   },
   "outputs": [],
   "source": [
    "def haversine_np(lon1, lat1, lon2, lat2):\n",
    "    \"\"\"\n",
    "    Calculate the great circle distance between two points\n",
    "    on the earth (specified in decimal degrees)\n",
    "\n",
    "    All args must be of equal length.    \n",
    "\n",
    "    \"\"\"\n",
    "    lon1, lat1, lon2, lat2 = map(np.radians, [lon1, lat1, lon2, lat2])\n",
    "    \n",
    "    ''' Feed longitude first and latitude second'''\n",
    "\n",
    "    dlon = lon2 - lon1\n",
    "    dlat = lat2 - lat1\n",
    "\n",
    "    a = np.sin(dlat/2.0)**2 + np.cos(lat1) * np.cos(lat2) * np.sin(dlon/2.0)**2\n",
    "\n",
    "    c = 2 * np.arcsin(np.sqrt(a))\n",
    "    km = 6371 * c  #6367\n",
    "    return km"
   ]
  },
  {
   "cell_type": "markdown",
   "metadata": {
    "id": "GgXaZVWOnmeS"
   },
   "source": [
    "<font color=orange> Getting distance from same (first) origin to all places"
   ]
  },
  {
   "cell_type": "code",
   "execution_count": null,
   "metadata": {
    "execution": {
     "iopub.execute_input": "2022-03-18T04:09:25.491134Z",
     "iopub.status.busy": "2022-03-18T04:09:25.490881Z",
     "iopub.status.idle": "2022-03-18T04:09:25.680385Z",
     "shell.execute_reply": "2022-03-18T04:09:25.679292Z",
     "shell.execute_reply.started": "2022-03-18T04:09:25.491104Z"
    },
    "id": "RlKqPhuqoVxu"
   },
   "outputs": [],
   "source": [
    "#Distance from same origin people co-ord \n",
    "df_train['dist_same_origin_co-ord(kms)'] = haversine_np(df_train['long'][0], df_train['lat'][0], df_train.loc[1:, 'long'], df_train.loc[1:, 'lat'])\n",
    "#longitude first, latitude second"
   ]
  },
  {
   "cell_type": "code",
   "execution_count": null,
   "metadata": {
    "execution": {
     "iopub.execute_input": "2022-03-18T04:09:25.681879Z",
     "iopub.status.busy": "2022-03-18T04:09:25.681625Z",
     "iopub.status.idle": "2022-03-18T04:09:25.752371Z",
     "shell.execute_reply": "2022-03-18T04:09:25.751276Z",
     "shell.execute_reply.started": "2022-03-18T04:09:25.681847Z"
    },
    "id": "XO-5dmWoofnk"
   },
   "outputs": [],
   "source": [
    "#Distance from same origin people co-ord \n",
    "df_test['dist_same_origin_co-ord(kms)'] = haversine_np(df_test['long'][0], df_test['lat'][0], df_test.loc[1:, 'long'], df_test.loc[1:, 'lat'])\n",
    "#longitude first, latitude second"
   ]
  },
  {
   "cell_type": "markdown",
   "metadata": {
    "id": "Q7cfB_vInutf"
   },
   "source": [
    "<font color=orange> Getting distance between successive places"
   ]
  },
  {
   "cell_type": "code",
   "execution_count": null,
   "metadata": {
    "execution": {
     "iopub.execute_input": "2022-03-18T04:09:25.753777Z",
     "iopub.status.busy": "2022-03-18T04:09:25.753553Z",
     "iopub.status.idle": "2022-03-18T04:09:26.037836Z",
     "shell.execute_reply": "2022-03-18T04:09:26.036829Z",
     "shell.execute_reply.started": "2022-03-18T04:09:25.753751Z"
    },
    "id": "9xVDIVsyoVok"
   },
   "outputs": [],
   "source": [
    "#Distance between successive people co-ord  \n",
    "df_train['distance_successive_co-ord(kms)'] = haversine_np(df_train.long.shift(), df_train.lat.shift(), df_train.loc[1:, 'long'], df_train.loc[1:, 'lat'])\n",
    "#longitude first, latitude second"
   ]
  },
  {
   "cell_type": "code",
   "execution_count": null,
   "metadata": {
    "execution": {
     "iopub.execute_input": "2022-03-18T04:09:26.043848Z",
     "iopub.status.busy": "2022-03-18T04:09:26.043578Z",
     "iopub.status.idle": "2022-03-18T04:09:26.164968Z",
     "shell.execute_reply": "2022-03-18T04:09:26.164086Z",
     "shell.execute_reply.started": "2022-03-18T04:09:26.043817Z"
    },
    "id": "c-ZFFjbTofkx"
   },
   "outputs": [],
   "source": [
    "#Distance between successive people co-ord  \n",
    "df_test['distance_successive_co-ord(kms)'] = haversine_np(df_test.long.shift(), df_test.lat.shift(), df_test.loc[1:, 'long'], df_test.loc[1:, 'lat'])\n",
    "#longitude first, latitude second"
   ]
  },
  {
   "cell_type": "markdown",
   "metadata": {
    "id": "uH8uVwcVn2ml"
   },
   "source": [
    "<font color=orange> Getting distance from place of transaction to merchant"
   ]
  },
  {
   "cell_type": "code",
   "execution_count": null,
   "metadata": {
    "execution": {
     "iopub.execute_input": "2022-03-18T04:09:26.166476Z",
     "iopub.status.busy": "2022-03-18T04:09:26.166219Z",
     "iopub.status.idle": "2022-03-18T04:09:26.319014Z",
     "shell.execute_reply": "2022-03-18T04:09:26.317954Z",
     "shell.execute_reply.started": "2022-03-18T04:09:26.166447Z"
    },
    "id": "eDnyn4TFoVlo"
   },
   "outputs": [],
   "source": [
    "#Distance between people co-ord and merchant co-ord\n",
    "df_train['distance_people_to_merchant_co-ord(kms)'] = haversine_np(df_train['long'],df_train['lat'],df_train['merch_long'],df_train['merch_lat'])\n",
    "#longitude first, latitude second"
   ]
  },
  {
   "cell_type": "code",
   "execution_count": null,
   "metadata": {
    "execution": {
     "iopub.execute_input": "2022-03-18T04:09:26.321399Z",
     "iopub.status.busy": "2022-03-18T04:09:26.320573Z",
     "iopub.status.idle": "2022-03-18T04:09:26.390472Z",
     "shell.execute_reply": "2022-03-18T04:09:26.389491Z",
     "shell.execute_reply.started": "2022-03-18T04:09:26.321356Z"
    },
    "id": "bt_jKNcUofid"
   },
   "outputs": [],
   "source": [
    "#Distance between people co-ord and merchant co-ord\n",
    "df_test['distance_people_to_merchant_co-ord(kms)'] = haversine_np(df_test['long'],df_test['lat'],df_test['merch_long'],df_test['merch_lat'])\n",
    "#longitude first, latitude second"
   ]
  },
  {
   "cell_type": "markdown",
   "metadata": {
    "id": "7IZ_bOZcoDT-"
   },
   "source": [
    "<font color=orange> Calculating delta time in seconds and days elapsed"
   ]
  },
  {
   "cell_type": "code",
   "execution_count": null,
   "metadata": {
    "execution": {
     "iopub.execute_input": "2022-03-18T04:09:26.392036Z",
     "iopub.status.busy": "2022-03-18T04:09:26.391790Z",
     "iopub.status.idle": "2022-03-18T04:09:26.475066Z",
     "shell.execute_reply": "2022-03-18T04:09:26.474163Z",
     "shell.execute_reply.started": "2022-03-18T04:09:26.392007Z"
    },
    "id": "-UyqMpdbofgC"
   },
   "outputs": [],
   "source": [
    "# Delta between successive times\n",
    "df_train['delta_time'] = df_train['trans_date_trans_time']-df_train['trans_date_trans_time'].shift()\n",
    "\n",
    "# Delta between successive times in seconds\n",
    "df_train['delta_time(sec)'] = df_train['delta_time'].dt.total_seconds()\n",
    "\n",
    "# Delta time elapsed from origin\n",
    "dt = pd.to_datetime(df_train['trans_date_trans_time'].iloc[0])\n",
    "df_train['delta_time_elapsed'] = df_train['trans_date_trans_time'] - dt\n",
    "\n",
    "# Delta time from origin converted to days\n",
    "df_train['delta_time_elapsed(days)'] = df_train['delta_time_elapsed'].dt.days"
   ]
  },
  {
   "cell_type": "code",
   "execution_count": null,
   "metadata": {
    "execution": {
     "iopub.execute_input": "2022-03-18T04:09:26.476410Z",
     "iopub.status.busy": "2022-03-18T04:09:26.476170Z",
     "iopub.status.idle": "2022-03-18T04:09:26.519458Z",
     "shell.execute_reply": "2022-03-18T04:09:26.518380Z",
     "shell.execute_reply.started": "2022-03-18T04:09:26.476383Z"
    },
    "id": "dMuWYG3pofdD"
   },
   "outputs": [],
   "source": [
    "# Delta between successive times\n",
    "df_test['delta_time'] = df_test['trans_date_trans_time']-df_test['trans_date_trans_time'].shift()\n",
    "\n",
    "# Delta between successive times in seconds\n",
    "df_test['delta_time(sec)'] = df_test['delta_time'].dt.total_seconds()\n",
    "\n",
    "# Delta time elapsed from origin\n",
    "dt = pd.to_datetime(df_test['trans_date_trans_time'].iloc[0])\n",
    "df_test['delta_time_elapsed'] = df_test['trans_date_trans_time'] - dt\n",
    "\n",
    "# Delta time from origin converted to days\n",
    "df_test['delta_time_elapsed(days)'] = df_test['delta_time_elapsed'].dt.days"
   ]
  },
  {
   "cell_type": "markdown",
   "metadata": {
    "id": "kv8FC0j9oJmD"
   },
   "source": [
    "<font color=orange> Converting NaN of first value to 0"
   ]
  },
  {
   "cell_type": "code",
   "execution_count": null,
   "metadata": {
    "execution": {
     "iopub.execute_input": "2022-03-18T04:09:26.521575Z",
     "iopub.status.busy": "2022-03-18T04:09:26.521214Z",
     "iopub.status.idle": "2022-03-18T04:09:26.578798Z",
     "shell.execute_reply": "2022-03-18T04:09:26.577740Z",
     "shell.execute_reply.started": "2022-03-18T04:09:26.521516Z"
    },
    "id": "AhzPo4JEofai"
   },
   "outputs": [],
   "source": [
    "df_train.loc[pd.isnull(df_train['dist_same_origin_co-ord(kms)']), ['dist_same_origin_co-ord(kms)']] = 0.0\n",
    "df_train.loc[pd.isnull(df_train['distance_successive_co-ord(kms)']), ['distance_successive_co-ord(kms)']] = 0.0\n",
    "df_train.loc[pd.isnull(df_train['delta_time']), ['delta_time']] = pd.to_timedelta('0 days 00:00:00')\n",
    "df_train.loc[pd.isnull(df_train['delta_time(sec)']), ['delta_time(sec)']] = 0.0"
   ]
  },
  {
   "cell_type": "code",
   "execution_count": null,
   "metadata": {
    "execution": {
     "iopub.execute_input": "2022-03-18T04:09:26.580723Z",
     "iopub.status.busy": "2022-03-18T04:09:26.580392Z",
     "iopub.status.idle": "2022-03-18T04:09:26.612253Z",
     "shell.execute_reply": "2022-03-18T04:09:26.611287Z",
     "shell.execute_reply.started": "2022-03-18T04:09:26.580680Z"
    },
    "id": "DQKgAkcQofX7"
   },
   "outputs": [],
   "source": [
    "df_test.loc[pd.isnull(df_test['dist_same_origin_co-ord(kms)']), ['dist_same_origin_co-ord(kms)']] = 0.0\n",
    "df_test.loc[pd.isnull(df_test['distance_successive_co-ord(kms)']), ['distance_successive_co-ord(kms)']] = 0.0\n",
    "df_test.loc[pd.isnull(df_test['delta_time']), ['delta_time']] = pd.to_timedelta('0 days 00:00:00')\n",
    "df_test.loc[pd.isnull(df_test['delta_time(sec)']), ['delta_time(sec)']] = 0.0"
   ]
  },
  {
   "cell_type": "markdown",
   "metadata": {
    "id": "VKIPQKmsoWFB"
   },
   "source": [
    "<font color=orange> Info of dataset with new columns"
   ]
  },
  {
   "cell_type": "code",
   "execution_count": null,
   "metadata": {
    "colab": {
     "base_uri": "https://localhost:8080/",
     "height": 298
    },
    "execution": {
     "iopub.execute_input": "2022-03-18T04:09:26.613776Z",
     "iopub.status.busy": "2022-03-18T04:09:26.613516Z",
     "iopub.status.idle": "2022-03-18T04:09:26.647988Z",
     "shell.execute_reply": "2022-03-18T04:09:26.647075Z",
     "shell.execute_reply.started": "2022-03-18T04:09:26.613749Z"
    },
    "id": "qlZLnw96ocvc",
    "outputId": "0181f3b6-9091-479c-a5e7-c00fe76797ab"
   },
   "outputs": [],
   "source": [
    "df_train.head(2)"
   ]
  },
  {
   "cell_type": "code",
   "execution_count": null,
   "metadata": {
    "colab": {
     "base_uri": "https://localhost:8080/",
     "height": 263
    },
    "execution": {
     "iopub.execute_input": "2022-03-18T04:09:26.649604Z",
     "iopub.status.busy": "2022-03-18T04:09:26.649387Z",
     "iopub.status.idle": "2022-03-18T04:09:26.680542Z",
     "shell.execute_reply": "2022-03-18T04:09:26.679680Z",
     "shell.execute_reply.started": "2022-03-18T04:09:26.649578Z"
    },
    "id": "6q1zxzmqoc90",
    "outputId": "50a356ad-5fad-430d-a561-babe72004986"
   },
   "outputs": [],
   "source": [
    "df_test.head(2)"
   ]
  },
  {
   "cell_type": "code",
   "execution_count": null,
   "metadata": {
    "colab": {
     "base_uri": "https://localhost:8080/",
     "height": 1000
    },
    "execution": {
     "iopub.execute_input": "2022-03-18T04:09:26.682495Z",
     "iopub.status.busy": "2022-03-18T04:09:26.682142Z",
     "iopub.status.idle": "2022-03-18T04:09:31.029873Z",
     "shell.execute_reply": "2022-03-18T04:09:31.029180Z",
     "shell.execute_reply.started": "2022-03-18T04:09:26.682434Z"
    },
    "id": "U-QL9rQ6jBE4",
    "outputId": "7b4523f2-fce6-4809-a222-40f7fae907b0"
   },
   "outputs": [],
   "source": [
    "details(df_train)"
   ]
  },
  {
   "cell_type": "code",
   "execution_count": null,
   "metadata": {
    "colab": {
     "base_uri": "https://localhost:8080/",
     "height": 1000
    },
    "execution": {
     "iopub.execute_input": "2022-03-18T04:09:31.031680Z",
     "iopub.status.busy": "2022-03-18T04:09:31.030954Z",
     "iopub.status.idle": "2022-03-18T04:09:32.806347Z",
     "shell.execute_reply": "2022-03-18T04:09:32.805714Z",
     "shell.execute_reply.started": "2022-03-18T04:09:31.031627Z"
    },
    "id": "uXq9Rs5boSIz",
    "outputId": "d717b228-1ee0-474f-f1f7-f4e1d154ff98"
   },
   "outputs": [],
   "source": [
    "details(df_test)"
   ]
  },
  {
   "cell_type": "code",
   "execution_count": null,
   "metadata": {
    "colab": {
     "base_uri": "https://localhost:8080/"
    },
    "execution": {
     "iopub.execute_input": "2022-03-18T04:09:32.808004Z",
     "iopub.status.busy": "2022-03-18T04:09:32.807588Z",
     "iopub.status.idle": "2022-03-18T04:09:32.814086Z",
     "shell.execute_reply": "2022-03-18T04:09:32.812850Z",
     "shell.execute_reply.started": "2022-03-18T04:09:32.807975Z"
    },
    "id": "LA4Jk8u64XIx",
    "outputId": "5f5533f8-349d-47d1-8067-17e660b3e87c"
   },
   "outputs": [],
   "source": [
    "df_train.shape, df_test.shape"
   ]
  },
  {
   "cell_type": "markdown",
   "metadata": {
    "id": "2tWhTPiguwnU"
   },
   "source": [
    "### <font color=Blue> Analysis"
   ]
  },
  {
   "cell_type": "markdown",
   "metadata": {
    "id": "ifxbtIbI1UiN"
   },
   "source": [
    "<font color=orange> Total Transactions"
   ]
  },
  {
   "cell_type": "code",
   "execution_count": null,
   "metadata": {
    "execution": {
     "iopub.execute_input": "2022-03-18T04:09:32.815861Z",
     "iopub.status.busy": "2022-03-18T04:09:32.815616Z",
     "iopub.status.idle": "2022-03-18T04:09:34.366997Z",
     "shell.execute_reply": "2022-03-18T04:09:34.366123Z",
     "shell.execute_reply.started": "2022-03-18T04:09:32.815834Z"
    },
    "id": "3m0SpKdOYw1j"
   },
   "outputs": [],
   "source": [
    "non_fraud_train = df_train[df_train['is_fraud'] == 0]\n",
    "fraud_train = df_train[df_train['is_fraud'] == 1]\n",
    "\n",
    "non_fraud_test = df_test[df_test['is_fraud'] == 0]\n",
    "fraud_test = df_test[df_test['is_fraud'] == 1]"
   ]
  },
  {
   "cell_type": "code",
   "execution_count": null,
   "metadata": {
    "colab": {
     "base_uri": "https://localhost:8080/"
    },
    "execution": {
     "iopub.execute_input": "2022-03-18T04:09:34.368605Z",
     "iopub.status.busy": "2022-03-18T04:09:34.368382Z",
     "iopub.status.idle": "2022-03-18T04:09:34.375037Z",
     "shell.execute_reply": "2022-03-18T04:09:34.373778Z",
     "shell.execute_reply.started": "2022-03-18T04:09:34.368577Z"
    },
    "id": "UxMS17ii08hP",
    "outputId": "e0446815-9636-4b82-afdd-fcf1ee2db1f7"
   },
   "outputs": [],
   "source": [
    "print(len(non_fraud_train))\n",
    "print(len(fraud_train))\n",
    "print(len(non_fraud_test))\n",
    "print(len(fraud_test))"
   ]
  },
  {
   "cell_type": "markdown",
   "metadata": {
    "id": "rELJCTKo1YDO"
   },
   "source": [
    "<font color=orange> Total Transaction amount"
   ]
  },
  {
   "cell_type": "code",
   "execution_count": null,
   "metadata": {
    "colab": {
     "base_uri": "https://localhost:8080/"
    },
    "execution": {
     "iopub.execute_input": "2022-03-18T04:09:34.377339Z",
     "iopub.status.busy": "2022-03-18T04:09:34.376919Z",
     "iopub.status.idle": "2022-03-18T04:09:34.421301Z",
     "shell.execute_reply": "2022-03-18T04:09:34.420401Z",
     "shell.execute_reply.started": "2022-03-18T04:09:34.377294Z"
    },
    "id": "eN_M98GGCb9o",
    "outputId": "25bcdd08-6cc9-4dfe-c1c7-e67200407f69"
   },
   "outputs": [],
   "source": [
    "print('Train: non_fraud: ',df_train['amt'].loc[df_train['is_fraud'] == 0].sum())\n",
    "print('Train: fraud: ',df_train['amt'].loc[df_train['is_fraud'] == 1].sum())"
   ]
  },
  {
   "cell_type": "code",
   "execution_count": null,
   "metadata": {
    "colab": {
     "base_uri": "https://localhost:8080/"
    },
    "execution": {
     "iopub.execute_input": "2022-03-18T04:09:34.423793Z",
     "iopub.status.busy": "2022-03-18T04:09:34.423083Z",
     "iopub.status.idle": "2022-03-18T04:09:34.443333Z",
     "shell.execute_reply": "2022-03-18T04:09:34.442356Z",
     "shell.execute_reply.started": "2022-03-18T04:09:34.423745Z"
    },
    "id": "19WCpHwN0Au4",
    "outputId": "c31eba5b-fa47-41c0-d19f-ef4f2f637076"
   },
   "outputs": [],
   "source": [
    "print('Test: non_fraud: ',df_test['amt'].loc[df_test['is_fraud'] == 0].sum())\n",
    "print('Test: fraud: ',df_test['amt'].loc[df_test['is_fraud'] == 1].sum())"
   ]
  },
  {
   "cell_type": "code",
   "execution_count": null,
   "metadata": {
    "colab": {
     "base_uri": "https://localhost:8080/"
    },
    "execution": {
     "iopub.execute_input": "2022-03-18T04:09:34.445754Z",
     "iopub.status.busy": "2022-03-18T04:09:34.445101Z",
     "iopub.status.idle": "2022-03-18T04:09:34.599229Z",
     "shell.execute_reply": "2022-03-18T04:09:34.597967Z",
     "shell.execute_reply.started": "2022-03-18T04:09:34.445705Z"
    },
    "id": "IHwLeHCOAEKQ",
    "outputId": "012c92d3-c3a6-4f23-ddae-cb867e44caf6"
   },
   "outputs": [],
   "source": [
    "# Monthly non-fraud Transaction Amount\n",
    "non_fraud_train.groupby('month_name')['amt'].mean()"
   ]
  },
  {
   "cell_type": "code",
   "execution_count": null,
   "metadata": {
    "colab": {
     "base_uri": "https://localhost:8080/"
    },
    "execution": {
     "iopub.execute_input": "2022-03-18T04:09:34.600836Z",
     "iopub.status.busy": "2022-03-18T04:09:34.600516Z",
     "iopub.status.idle": "2022-03-18T04:09:34.612962Z",
     "shell.execute_reply": "2022-03-18T04:09:34.612004Z",
     "shell.execute_reply.started": "2022-03-18T04:09:34.600807Z"
    },
    "id": "MWvZi6KcbXMU",
    "outputId": "00aafa80-0883-4a2d-e51c-4d3b76246a54"
   },
   "outputs": [],
   "source": [
    "#Montlhly fradualent transaction amount\n",
    "fraud_train.groupby('month_name')['amt'].mean()"
   ]
  },
  {
   "cell_type": "markdown",
   "metadata": {
    "id": "NbUH4qcrbl-q"
   },
   "source": [
    "<font color=lightgreen> We can see that  mean of fradualent transaction amount is more than that of normal transactions."
   ]
  },
  {
   "cell_type": "markdown",
   "metadata": {
    "id": "wyEfzQxr5kQ5"
   },
   "source": [
    "<font color=orange> Creditcard numbers with highest transactions"
   ]
  },
  {
   "cell_type": "code",
   "execution_count": null,
   "metadata": {
    "colab": {
     "base_uri": "https://localhost:8080/"
    },
    "execution": {
     "iopub.execute_input": "2022-03-18T04:09:34.614494Z",
     "iopub.status.busy": "2022-03-18T04:09:34.614215Z",
     "iopub.status.idle": "2022-03-18T04:09:34.665773Z",
     "shell.execute_reply": "2022-03-18T04:09:34.665090Z",
     "shell.execute_reply.started": "2022-03-18T04:09:34.614460Z"
    },
    "id": "MUTeqpEqunPi",
    "outputId": "5ed44d48-c0e8-4faf-b148-2047314c7cc2"
   },
   "outputs": [],
   "source": [
    "# Credit card numbers with most transactions\n",
    "df_train.groupby('cc_num')['is_fraud'].sum().sort_values(ascending=False)[:10]  "
   ]
  },
  {
   "cell_type": "code",
   "execution_count": null,
   "metadata": {
    "colab": {
     "base_uri": "https://localhost:8080/"
    },
    "execution": {
     "iopub.execute_input": "2022-03-18T04:09:34.667214Z",
     "iopub.status.busy": "2022-03-18T04:09:34.666863Z",
     "iopub.status.idle": "2022-03-18T04:09:34.684838Z",
     "shell.execute_reply": "2022-03-18T04:09:34.683911Z",
     "shell.execute_reply.started": "2022-03-18T04:09:34.667173Z"
    },
    "id": "LW1-Z4gzvhRK",
    "outputId": "7ae698fb-1319-4fcd-e4ab-9a5f786ae625"
   },
   "outputs": [],
   "source": [
    "# Top fraudulent transaction amount\n",
    "fraud_train[fraud_train['is_fraud'] == 1]['amt'].sort_values(ascending=False)[:10]   "
   ]
  },
  {
   "cell_type": "markdown",
   "metadata": {
    "id": "b1H0TkbPePxw"
   },
   "source": [
    "<font color=orange> Aggregation of amount by year and category for fradualent transactions"
   ]
  },
  {
   "cell_type": "code",
   "execution_count": null,
   "metadata": {
    "colab": {
     "base_uri": "https://localhost:8080/",
     "height": 959
    },
    "execution": {
     "iopub.execute_input": "2022-03-18T04:09:34.686440Z",
     "iopub.status.busy": "2022-03-18T04:09:34.685954Z",
     "iopub.status.idle": "2022-03-18T04:09:34.709336Z",
     "shell.execute_reply": "2022-03-18T04:09:34.708378Z",
     "shell.execute_reply.started": "2022-03-18T04:09:34.686397Z"
    },
    "id": "shFLHpKFyz4n",
    "outputId": "d3d59680-c9bb-4744-d11e-27b1da666c04"
   },
   "outputs": [],
   "source": [
    "fraud_train.groupby([\"year\",'category'])['amt'].agg(['sum'])  "
   ]
  },
  {
   "cell_type": "markdown",
   "metadata": {
    "id": "KAujaMhleaHU"
   },
   "source": [
    "<font color=orange> Top 10 fradualent credit card numbers with amount"
   ]
  },
  {
   "cell_type": "code",
   "execution_count": null,
   "metadata": {
    "colab": {
     "base_uri": "https://localhost:8080/"
    },
    "execution": {
     "iopub.execute_input": "2022-03-18T04:09:34.711033Z",
     "iopub.status.busy": "2022-03-18T04:09:34.710715Z",
     "iopub.status.idle": "2022-03-18T04:09:34.723628Z",
     "shell.execute_reply": "2022-03-18T04:09:34.722877Z",
     "shell.execute_reply.started": "2022-03-18T04:09:34.710992Z"
    },
    "id": "uWfqGRk76HxM",
    "outputId": "acfef4ed-fc01-41ae-dfec-d130f75b6c44"
   },
   "outputs": [],
   "source": [
    "fraud_train.groupby(['cc_num'])['amt'].sum().sort_values(ascending=False)[:10]"
   ]
  },
  {
   "cell_type": "markdown",
   "metadata": {
    "id": "apL_d7_Dee4u"
   },
   "source": [
    "<font color=orange> People creating most frauds at distance from origin"
   ]
  },
  {
   "cell_type": "code",
   "execution_count": null,
   "metadata": {
    "colab": {
     "base_uri": "https://localhost:8080/"
    },
    "execution": {
     "iopub.execute_input": "2022-03-18T04:09:34.725791Z",
     "iopub.status.busy": "2022-03-18T04:09:34.725131Z",
     "iopub.status.idle": "2022-03-18T04:09:34.741293Z",
     "shell.execute_reply": "2022-03-18T04:09:34.740342Z",
     "shell.execute_reply.started": "2022-03-18T04:09:34.725741Z"
    },
    "id": "nGqeVzUUdim9",
    "outputId": "025b1408-7159-48ad-86a8-6707f1166980"
   },
   "outputs": [],
   "source": [
    "fraud_train.groupby(['Full_Name'])['dist_same_origin_co-ord(kms)'].mean().sort_values(ascending=False)[:10]"
   ]
  },
  {
   "cell_type": "markdown",
   "metadata": {
    "id": "iZ4dIEtlekg_"
   },
   "source": [
    "<font color=orange> Merchants creating most frauds at distance from origin"
   ]
  },
  {
   "cell_type": "code",
   "execution_count": null,
   "metadata": {
    "colab": {
     "base_uri": "https://localhost:8080/"
    },
    "execution": {
     "iopub.execute_input": "2022-03-18T04:09:34.743121Z",
     "iopub.status.busy": "2022-03-18T04:09:34.742842Z",
     "iopub.status.idle": "2022-03-18T04:09:34.755736Z",
     "shell.execute_reply": "2022-03-18T04:09:34.754573Z",
     "shell.execute_reply.started": "2022-03-18T04:09:34.743088Z"
    },
    "id": "x_OxzHJReBUy",
    "outputId": "999cc024-b163-4ede-d779-52e52fda957a"
   },
   "outputs": [],
   "source": [
    "fraud_train.groupby(['merchant'])['dist_same_origin_co-ord(kms)'].mean().sort_values(ascending=False)[:10]"
   ]
  },
  {
   "cell_type": "markdown",
   "metadata": {
    "id": "tL1WsrPmexz2"
   },
   "source": [
    "<font color=orange> Mean amount in cities with fraud"
   ]
  },
  {
   "cell_type": "code",
   "execution_count": null,
   "metadata": {
    "colab": {
     "base_uri": "https://localhost:8080/"
    },
    "execution": {
     "iopub.execute_input": "2022-03-18T04:09:34.757752Z",
     "iopub.status.busy": "2022-03-18T04:09:34.757065Z",
     "iopub.status.idle": "2022-03-18T04:09:34.770932Z",
     "shell.execute_reply": "2022-03-18T04:09:34.769875Z",
     "shell.execute_reply.started": "2022-03-18T04:09:34.757697Z"
    },
    "id": "mBI338OXe3-u",
    "outputId": "81d12ce3-cfe5-47ed-98eb-ece4d5ffc037"
   },
   "outputs": [],
   "source": [
    "fraud_train.groupby(['city'])['amt'].mean().sort_values(ascending=False)[:10]"
   ]
  },
  {
   "cell_type": "markdown",
   "metadata": {
    "id": "aBOfyyaTfV5D"
   },
   "source": [
    "<font color=orange> Work profile in which highest fraud is committed"
   ]
  },
  {
   "cell_type": "code",
   "execution_count": null,
   "metadata": {
    "colab": {
     "base_uri": "https://localhost:8080/"
    },
    "execution": {
     "iopub.execute_input": "2022-03-18T04:09:34.772899Z",
     "iopub.status.busy": "2022-03-18T04:09:34.772356Z",
     "iopub.status.idle": "2022-03-18T04:09:34.784639Z",
     "shell.execute_reply": "2022-03-18T04:09:34.783714Z",
     "shell.execute_reply.started": "2022-03-18T04:09:34.772844Z"
    },
    "id": "rCr7RCcnfUhL",
    "outputId": "a273157e-bcd0-49f4-acfc-9eb2edd65c36"
   },
   "outputs": [],
   "source": [
    "fraud_train.groupby(['job'])['amt'].mean().sort_values(ascending=False)[:10]"
   ]
  },
  {
   "cell_type": "markdown",
   "metadata": {
    "id": "K5beOe2DCW6k"
   },
   "source": [
    "### <font color=Blue> Visualization"
   ]
  },
  {
   "cell_type": "markdown",
   "metadata": {
    "id": "8Ojm4PTnCryn"
   },
   "source": [
    "<font color=orange> Data Imbalance Check"
   ]
  },
  {
   "cell_type": "code",
   "execution_count": null,
   "metadata": {
    "colab": {
     "base_uri": "https://localhost:8080/",
     "height": 262
    },
    "execution": {
     "iopub.execute_input": "2022-03-18T04:09:34.786124Z",
     "iopub.status.busy": "2022-03-18T04:09:34.785872Z",
     "iopub.status.idle": "2022-03-18T04:09:35.008613Z",
     "shell.execute_reply": "2022-03-18T04:09:35.007594Z",
     "shell.execute_reply.started": "2022-03-18T04:09:34.786093Z"
    },
    "id": "ke9-kz6mofNJ",
    "outputId": "17b8089b-c5e0-445d-931b-b4429cc5a5c3"
   },
   "outputs": [],
   "source": [
    "round(100*df_train['is_fraud'].value_counts(normalize=True),2).plot(kind='bar', figsize=(6,4))\n",
    "plt.show()"
   ]
  },
  {
   "cell_type": "code",
   "execution_count": null,
   "metadata": {
    "colab": {
     "base_uri": "https://localhost:8080/",
     "height": 262
    },
    "execution": {
     "iopub.execute_input": "2022-03-18T04:09:35.010160Z",
     "iopub.status.busy": "2022-03-18T04:09:35.009886Z",
     "iopub.status.idle": "2022-03-18T04:09:35.179147Z",
     "shell.execute_reply": "2022-03-18T04:09:35.178462Z",
     "shell.execute_reply.started": "2022-03-18T04:09:35.010121Z"
    },
    "id": "mdLZ3_mv0sPi",
    "outputId": "bbbc47a0-4440-460a-9f15-fc5a4cfc504e"
   },
   "outputs": [],
   "source": [
    "round(100*df_test['is_fraud'].value_counts(normalize=True),2).plot(kind='bar', figsize=(6,4))\n",
    "plt.show()"
   ]
  },
  {
   "cell_type": "code",
   "execution_count": null,
   "metadata": {
    "colab": {
     "base_uri": "https://localhost:8080/",
     "height": 373
    },
    "execution": {
     "iopub.execute_input": "2022-03-18T04:09:35.180814Z",
     "iopub.status.busy": "2022-03-18T04:09:35.180177Z",
     "iopub.status.idle": "2022-03-18T04:09:35.419378Z",
     "shell.execute_reply": "2022-03-18T04:09:35.418348Z",
     "shell.execute_reply.started": "2022-03-18T04:09:35.180778Z"
    },
    "id": "0E-wePJ4fxGZ",
    "outputId": "874ae0b5-afb5-4d3e-c63e-f66992f6396e"
   },
   "outputs": [],
   "source": [
    "round(100*df_train['is_fraud'].value_counts(normalize=True),2).plot(kind='pie', figsize=(6, 6), autopct='%1.2f%%')\n",
    "plt.title(\"Fraudulent and Non-Fraudulent Distribution\")\n",
    "plt.legend([\"Genuine\", \"Fraud\"])\n",
    "plt.show()"
   ]
  },
  {
   "cell_type": "code",
   "execution_count": null,
   "metadata": {
    "colab": {
     "base_uri": "https://localhost:8080/",
     "height": 373
    },
    "execution": {
     "iopub.execute_input": "2022-03-18T04:09:35.421679Z",
     "iopub.status.busy": "2022-03-18T04:09:35.421071Z",
     "iopub.status.idle": "2022-03-18T04:09:35.665267Z",
     "shell.execute_reply": "2022-03-18T04:09:35.663797Z",
     "shell.execute_reply.started": "2022-03-18T04:09:35.421621Z"
    },
    "id": "Rln668AI0vio",
    "outputId": "7688c8de-3877-411f-f66a-4277ca554377"
   },
   "outputs": [],
   "source": [
    "round(100*df_test['is_fraud'].value_counts(normalize=True),2).plot(kind='pie', figsize=(6, 6), autopct='%1.2f%%')\n",
    "plt.title(\"Fraudulent and Non-Fraudulent Distribution\")\n",
    "plt.legend([\"Genuine\", \"Fraud\"])\n",
    "plt.show()"
   ]
  },
  {
   "cell_type": "markdown",
   "metadata": {
    "id": "t0CAuPPPb8DY"
   },
   "source": [
    "<font color=lightgreen> From the above graphs we can see the imbalance of the data"
   ]
  },
  {
   "cell_type": "markdown",
   "metadata": {
    "id": "YTxKahcRuRcE"
   },
   "source": [
    "<font color=orange> Univariate Analysis"
   ]
  },
  {
   "cell_type": "code",
   "execution_count": null,
   "metadata": {
    "colab": {
     "base_uri": "https://localhost:8080/",
     "height": 280
    },
    "execution": {
     "iopub.execute_input": "2022-03-18T04:09:35.668578Z",
     "iopub.status.busy": "2022-03-18T04:09:35.668086Z",
     "iopub.status.idle": "2022-03-18T04:10:15.878600Z",
     "shell.execute_reply": "2022-03-18T04:10:15.877512Z",
     "shell.execute_reply.started": "2022-03-18T04:09:35.668527Z"
    },
    "id": "ATUoj1dRwMBn",
    "outputId": "dd1f606e-f76f-4247-8ef7-104b4044864f"
   },
   "outputs": [],
   "source": [
    "# Fraud and non-fraud amount\n",
    "sns.barplot(data=df_train, x='is_fraud', y='amt')\n",
    "plt.show()"
   ]
  },
  {
   "cell_type": "markdown",
   "metadata": {
    "id": "5YNeIXzhgORs"
   },
   "source": [
    "<font color=lightgreen> We can see the amount of fraudulent transactions is more than that of genuine transactions"
   ]
  },
  {
   "cell_type": "code",
   "execution_count": null,
   "metadata": {
    "colab": {
     "base_uri": "https://localhost:8080/",
     "height": 299
    },
    "execution": {
     "iopub.execute_input": "2022-03-18T04:10:15.880394Z",
     "iopub.status.busy": "2022-03-18T04:10:15.880117Z",
     "iopub.status.idle": "2022-03-18T04:10:30.695868Z",
     "shell.execute_reply": "2022-03-18T04:10:30.694790Z",
     "shell.execute_reply.started": "2022-03-18T04:10:15.880364Z"
    },
    "id": "M5bZlMy1cwoo",
    "outputId": "65066a58-65a4-4658-bb58-104c97cbd0c0"
   },
   "outputs": [],
   "source": [
    "sns.stripplot( x = df_train['is_fraud'], y= df_train['amt'], data=df_train)"
   ]
  },
  {
   "cell_type": "code",
   "execution_count": null,
   "metadata": {
    "colab": {
     "base_uri": "https://localhost:8080/",
     "height": 295
    },
    "execution": {
     "iopub.execute_input": "2022-03-18T04:10:30.697510Z",
     "iopub.status.busy": "2022-03-18T04:10:30.697223Z",
     "iopub.status.idle": "2022-03-18T04:10:30.986953Z",
     "shell.execute_reply": "2022-03-18T04:10:30.986175Z",
     "shell.execute_reply.started": "2022-03-18T04:10:30.697478Z"
    },
    "id": "v0XOKSpYjIU7",
    "outputId": "39b12de9-ed28-4ad9-e9a2-629ab9177cf0"
   },
   "outputs": [],
   "source": [
    "# Gender\n",
    "df_train.groupby('gender')['is_fraud'].sum().sort_values(ascending=False).plot(kind='bar')"
   ]
  },
  {
   "cell_type": "code",
   "execution_count": null,
   "metadata": {
    "colab": {
     "base_uri": "https://localhost:8080/",
     "height": 432
    },
    "execution": {
     "iopub.execute_input": "2022-03-18T04:10:30.988518Z",
     "iopub.status.busy": "2022-03-18T04:10:30.988251Z",
     "iopub.status.idle": "2022-03-18T04:10:31.734542Z",
     "shell.execute_reply": "2022-03-18T04:10:31.733529Z",
     "shell.execute_reply.started": "2022-03-18T04:10:30.988488Z"
    },
    "id": "lcjdGgfHfxJK",
    "outputId": "b6b8e570-5543-4fdc-cac1-120235df0c1e"
   },
   "outputs": [],
   "source": [
    "fraud_train.groupby('state')['is_fraud'].sum().sort_values(ascending=False).plot(kind='bar', figsize=(20,8))"
   ]
  },
  {
   "cell_type": "markdown",
   "metadata": {
    "id": "r3KeHcjIgnOp"
   },
   "source": [
    "<font color=lightgreen> We can see highest fraud transactions happen in Newyork, Texas, Pennsylvania, California, Ohio"
   ]
  },
  {
   "cell_type": "code",
   "execution_count": null,
   "metadata": {
    "colab": {
     "base_uri": "https://localhost:8080/",
     "height": 474
    },
    "execution": {
     "iopub.execute_input": "2022-03-18T04:10:31.736179Z",
     "iopub.status.busy": "2022-03-18T04:10:31.735924Z",
     "iopub.status.idle": "2022-03-18T04:10:32.063574Z",
     "shell.execute_reply": "2022-03-18T04:10:32.062811Z",
     "shell.execute_reply.started": "2022-03-18T04:10:31.736147Z"
    },
    "id": "8Hxcx1XvQsSI",
    "outputId": "82e52b39-05b6-40cd-b4ff-a213ebcb45fb"
   },
   "outputs": [],
   "source": [
    "fraud_train.groupby('category')['is_fraud'].sum().sort_values(ascending=False).plot(kind='bar', figsize=(20,8))"
   ]
  },
  {
   "cell_type": "markdown",
   "metadata": {
    "id": "HMd-h7tlinV4"
   },
   "source": [
    "<font color=lightgreen> Highest fraud transactions are shown in categories above"
   ]
  },
  {
   "cell_type": "code",
   "execution_count": null,
   "metadata": {
    "colab": {
     "base_uri": "https://localhost:8080/",
     "height": 331
    },
    "execution": {
     "iopub.execute_input": "2022-03-18T04:10:32.065904Z",
     "iopub.status.busy": "2022-03-18T04:10:32.065293Z",
     "iopub.status.idle": "2022-03-18T04:10:32.316390Z",
     "shell.execute_reply": "2022-03-18T04:10:32.315493Z",
     "shell.execute_reply.started": "2022-03-18T04:10:32.065856Z"
    },
    "id": "jaM_gNY0uA9B",
    "outputId": "9b71f6e4-70c7-4acb-c096-71d8e44656ea"
   },
   "outputs": [],
   "source": [
    "fraud_train.groupby('week_day')['is_fraud'].sum().sort_values(ascending=False).plot(kind='bar', figsize=(20,5))"
   ]
  },
  {
   "cell_type": "markdown",
   "metadata": {
    "id": "Z8NH0sCCjBG_"
   },
   "source": [
    "<font color=lightgreen> Highest fraudulent transactions happens in weekends"
   ]
  },
  {
   "cell_type": "code",
   "execution_count": null,
   "metadata": {
    "colab": {
     "base_uri": "https://localhost:8080/",
     "height": 330
    },
    "execution": {
     "iopub.execute_input": "2022-03-18T04:10:32.319235Z",
     "iopub.status.busy": "2022-03-18T04:10:32.318514Z",
     "iopub.status.idle": "2022-03-18T04:10:32.585356Z",
     "shell.execute_reply": "2022-03-18T04:10:32.584679Z",
     "shell.execute_reply.started": "2022-03-18T04:10:32.319167Z"
    },
    "id": "kq_C0sayuL5Q",
    "outputId": "c53d4c5e-916c-49b8-b8e4-fba325408409"
   },
   "outputs": [],
   "source": [
    "fraud_train.groupby('month_name')['is_fraud'].sum().sort_values(ascending=False).plot(kind='bar', figsize=(20,5))"
   ]
  },
  {
   "cell_type": "markdown",
   "metadata": {
    "id": "r45K3n1WjHxz"
   },
   "source": [
    "<font color=lightgreen> Monthwise fraud transactions"
   ]
  },
  {
   "cell_type": "code",
   "execution_count": null,
   "metadata": {
    "colab": {
     "base_uri": "https://localhost:8080/",
     "height": 386
    },
    "execution": {
     "iopub.execute_input": "2022-03-18T04:10:32.587259Z",
     "iopub.status.busy": "2022-03-18T04:10:32.587003Z",
     "iopub.status.idle": "2022-03-18T04:11:30.277083Z",
     "shell.execute_reply": "2022-03-18T04:11:30.276042Z",
     "shell.execute_reply.started": "2022-03-18T04:10:32.587232Z"
    },
    "id": "VAxsqFByDhI_",
    "outputId": "8876bf79-ad80-402e-82fb-06b82a4d1cdb"
   },
   "outputs": [],
   "source": [
    "amount = df_train.loc[df_train['amt'] < 2000]\n",
    "sns.FacetGrid(amount, hue=\"is_fraud\", size=5).map(sns.kdeplot, \"amt\").add_legend()"
   ]
  },
  {
   "cell_type": "markdown",
   "metadata": {
    "id": "iLLR-go0tIOV"
   },
   "source": [
    "<font color=orange> Bivariate Analysis"
   ]
  },
  {
   "cell_type": "code",
   "execution_count": null,
   "metadata": {
    "colab": {
     "base_uri": "https://localhost:8080/",
     "height": 226
    },
    "execution": {
     "iopub.execute_input": "2022-03-18T04:11:30.278843Z",
     "iopub.status.busy": "2022-03-18T04:11:30.278506Z",
     "iopub.status.idle": "2022-03-18T04:11:35.905292Z",
     "shell.execute_reply": "2022-03-18T04:11:35.904153Z",
     "shell.execute_reply.started": "2022-03-18T04:11:30.278809Z"
    },
    "id": "lBhpcNeYxInK",
    "outputId": "37361d36-a746-4393-c450-98bd2cfc2f69"
   },
   "outputs": [],
   "source": [
    "# Distribution of Transaction time for transactions\n",
    "fig, axes = plt.subplots(ncols = 2, figsize=(30,6))\n",
    "\n",
    "sns.kdeplot(data=non_fraud_train[\"amt\"], label=\"Not Fraud\", shade=True, color='orange', ax=axes[0])\n",
    "axes[0].set(xlabel ='Amount', ylabel ='Density')\n",
    "axes[0].set_title('Distribution of Transaction Time for non-Fraudulent transactions')\n",
    "\n",
    "sns.kdeplot(data=fraud_train[\"amt\"], label=\"Fraud\", shade=True, color='orange', ax=axes[1])\n",
    "axes[1].set(xlabel ='Amount', ylabel ='Density')\n",
    "axes[1].set_title('Distribution of Transaction Time for Fraudulent transactions')\n",
    "\n",
    "plt.show()"
   ]
  },
  {
   "cell_type": "markdown",
   "metadata": {
    "id": "RRz60cRejRDC"
   },
   "source": [
    "<font color=lightgreen> We can see density distribution of fraud transactions vary a lot compared to genuine transactions"
   ]
  },
  {
   "cell_type": "code",
   "execution_count": null,
   "metadata": {
    "colab": {
     "base_uri": "https://localhost:8080/",
     "height": 363
    },
    "execution": {
     "iopub.execute_input": "2022-03-18T04:11:35.906839Z",
     "iopub.status.busy": "2022-03-18T04:11:35.906588Z",
     "iopub.status.idle": "2022-03-18T04:11:43.952134Z",
     "shell.execute_reply": "2022-03-18T04:11:43.951239Z",
     "shell.execute_reply.started": "2022-03-18T04:11:35.906810Z"
    },
    "id": "SONXx9Odfw8z",
    "outputId": "0247d339-4815-43be-8820-4bd7c2ca0243"
   },
   "outputs": [],
   "source": [
    "# Category, Gender, Month and Week wise transactions with target variable\n",
    "fig, axes = plt.subplots(nrows=2, ncols = 2, figsize=(30,10))\n",
    "\n",
    "sns.countplot(x=\"category\", hue='is_fraud', data=df_train, ax=axes[0][0])\n",
    "axes[0][0].set_title('category')\n",
    "plt.xticks(rotation=45)\n",
    "\n",
    "sns.countplot(x=\"gender\", hue='is_fraud', data=df_train, ax=axes[0][1])\n",
    "axes[0][1].set_title('gender')\n",
    "\n",
    "sns.countplot(x=\"week_day\", hue='is_fraud', data=df_train, ax=axes[1][0])\n",
    "axes[1][0].set_title('week_day')\n",
    "\n",
    "sns.countplot(x=\"month_name\", hue='is_fraud', data=df_train, ax=axes[1][1])\n",
    "axes[1][1].set_title('month_name')\n",
    "\n",
    "plt.show()"
   ]
  },
  {
   "cell_type": "markdown",
   "metadata": {
    "id": "dcNPfY9EjfX9"
   },
   "source": [
    "<font color=lightgreen> We can see different areas and daya of both the transactions"
   ]
  },
  {
   "cell_type": "code",
   "execution_count": null,
   "metadata": {
    "colab": {
     "base_uri": "https://localhost:8080/",
     "height": 335
    },
    "execution": {
     "iopub.execute_input": "2022-03-18T04:11:43.954420Z",
     "iopub.status.busy": "2022-03-18T04:11:43.954051Z",
     "iopub.status.idle": "2022-03-18T04:12:15.268694Z",
     "shell.execute_reply": "2022-03-18T04:12:15.267743Z",
     "shell.execute_reply.started": "2022-03-18T04:11:43.954375Z"
    },
    "id": "iy9mY4RNkbc_",
    "outputId": "b0a8d3b6-8189-4a71-a381-4bb0bc5873bb"
   },
   "outputs": [],
   "source": [
    "# Category, Gender, Month and Week wise transactions with target variable\n",
    "fig, axes = plt.subplots(nrows=2, ncols = 2, figsize=(30,10))\n",
    "\n",
    "sns.countplot(x=\"hr_day\", hue='is_fraud', data=df_train, ax=axes[0][0])\n",
    "axes[0][0].set_title('hour')\n",
    "\n",
    "sns.countplot(x=\"delta_time(sec)\", hue='is_fraud', data=df_train, ax=axes[0][1])\n",
    "axes[0][1].set_title('seconds')\n",
    "\n",
    "sns.countplot(x=\"min_day\", hue='is_fraud', data=df_train, ax=axes[1][0])\n",
    "axes[1][0].set_title('minutes')\n",
    "\n",
    "sns.countplot(x=\"dist_same_origin_co-ord(kms)\", hue='is_fraud', data=df_train, ax=axes[1][1])\n",
    "axes[1][1].set_title('distance')\n",
    "\n",
    "plt.show()"
   ]
  },
  {
   "cell_type": "markdown",
   "metadata": {
    "id": "wxmg5_0txGfN"
   },
   "source": [
    "<font color=orange> Time related Analysis"
   ]
  },
  {
   "cell_type": "code",
   "execution_count": null,
   "metadata": {
    "colab": {
     "base_uri": "https://localhost:8080/",
     "height": 308
    },
    "execution": {
     "iopub.execute_input": "2022-03-18T04:12:15.271273Z",
     "iopub.status.busy": "2022-03-18T04:12:15.270626Z",
     "iopub.status.idle": "2022-03-18T04:12:20.595187Z",
     "shell.execute_reply": "2022-03-18T04:12:20.593949Z",
     "shell.execute_reply.started": "2022-03-18T04:12:15.271222Z"
    },
    "id": "f0Z9ICroVSl3",
    "outputId": "3529b111-8987-4309-90b4-b2d2e669187e"
   },
   "outputs": [],
   "source": [
    "sns.distplot(df_train['unix_time'],fit=stats.norm)"
   ]
  },
  {
   "cell_type": "markdown",
   "metadata": {
    "id": "8pqxRwn0jo-2"
   },
   "source": [
    "<font color=lightgreen> Unix time distribution of transactions"
   ]
  },
  {
   "cell_type": "code",
   "execution_count": null,
   "metadata": {
    "colab": {
     "base_uri": "https://localhost:8080/",
     "height": 355
    },
    "execution": {
     "iopub.execute_input": "2022-03-18T04:12:20.597975Z",
     "iopub.status.busy": "2022-03-18T04:12:20.596967Z",
     "iopub.status.idle": "2022-03-18T04:12:26.111592Z",
     "shell.execute_reply": "2022-03-18T04:12:26.110632Z",
     "shell.execute_reply.started": "2022-03-18T04:12:20.597899Z"
    },
    "id": "asQY3KraCcaQ",
    "outputId": "cbdd88aa-d46d-450d-ac27-ad641baf44e0"
   },
   "outputs": [],
   "source": [
    "plt.figure(figsize=(12,5))\n",
    "sns.distplot(df_train[df_train['is_fraud'] == 0][\"hr_day\"], color='g')\n",
    "sns.distplot(df_train[df_train['is_fraud'] == 1][\"hr_day\"], color='r')\n",
    "plt.title('Fraud x Normal Transactions by Hours', fontsize=17)\n",
    "plt.show()"
   ]
  },
  {
   "cell_type": "markdown",
   "metadata": {
    "id": "00a0qB2ZjuNg"
   },
   "source": [
    "<font color=lightgreen> Time distribution showning fraudulent transactions happening in odd hours."
   ]
  },
  {
   "cell_type": "code",
   "execution_count": null,
   "metadata": {
    "colab": {
     "base_uri": "https://localhost:8080/",
     "height": 757
    },
    "execution": {
     "iopub.execute_input": "2022-03-18T04:12:26.113044Z",
     "iopub.status.busy": "2022-03-18T04:12:26.112797Z",
     "iopub.status.idle": "2022-03-18T04:12:42.090161Z",
     "shell.execute_reply": "2022-03-18T04:12:42.089439Z",
     "shell.execute_reply.started": "2022-03-18T04:12:26.113016Z"
    },
    "id": "NcihAFBdXtVA",
    "outputId": "7d6ad430-504c-49b5-e5ac-cf9d1a2eb619"
   },
   "outputs": [],
   "source": [
    "#Looking the Amount and time distribuition of FRAUD transactions\n",
    "\n",
    "ax = sns.lmplot(y=\"amt\", x=\"week_no\", fit_reg=False,aspect=1.8, data=df_train, hue='is_fraud')\n",
    "plt.title(\"Amounts by days of Frauds and Normal Transactions\",fontsize=16)\n",
    "\n",
    "ax = sns.lmplot(y=\"amt\", x=\"min_day\", fit_reg=False,aspect=1.8, data=df_train, hue='is_fraud')\n",
    "plt.title(\"Amounts by hour of Frauds and Normal Transactions\",fontsize=16)\n",
    "\n",
    "plt.show()"
   ]
  },
  {
   "cell_type": "code",
   "execution_count": null,
   "metadata": {
    "colab": {
     "base_uri": "https://localhost:8080/",
     "height": 308
    },
    "execution": {
     "iopub.execute_input": "2022-03-18T04:12:42.091588Z",
     "iopub.status.busy": "2022-03-18T04:12:42.091191Z",
     "iopub.status.idle": "2022-03-18T04:12:42.521310Z",
     "shell.execute_reply": "2022-03-18T04:12:42.520151Z",
     "shell.execute_reply.started": "2022-03-18T04:12:42.091556Z"
    },
    "id": "sXeq6jRFWFRb",
    "outputId": "7bcb24b7-b8f4-4557-fbe5-ea045e4af437"
   },
   "outputs": [],
   "source": [
    "df_train.pivot_table('amt', index='month_name', columns='is_fraud', aggfunc=sum).plot()"
   ]
  },
  {
   "cell_type": "markdown",
   "metadata": {
    "id": "S4Hwmtlxj60L"
   },
   "source": [
    "<font color=lightgreen> Frequency of genuine transaction is constant but there are variations in fraudulent transactions"
   ]
  },
  {
   "cell_type": "markdown",
   "metadata": {
    "id": "IYwScHknxI5V"
   },
   "source": [
    "<font color=orange> Distance related Analysis"
   ]
  },
  {
   "cell_type": "code",
   "execution_count": null,
   "metadata": {
    "colab": {
     "base_uri": "https://localhost:8080/",
     "height": 355
    },
    "execution": {
     "iopub.execute_input": "2022-03-18T04:12:42.523510Z",
     "iopub.status.busy": "2022-03-18T04:12:42.523168Z",
     "iopub.status.idle": "2022-03-18T04:12:48.024936Z",
     "shell.execute_reply": "2022-03-18T04:12:48.024229Z",
     "shell.execute_reply.started": "2022-03-18T04:12:42.523468Z"
    },
    "id": "umI-Udg1ZPEj",
    "outputId": "0f99808a-a0a8-489c-f283-2532cdfbfc75"
   },
   "outputs": [],
   "source": [
    "plt.figure(figsize=(12,5))\n",
    "sns.distplot(df_train[df_train['is_fraud'] == 0][\"dist_same_origin_co-ord(kms)\"], color='g')\n",
    "sns.distplot(df_train[df_train['is_fraud'] == 1][\"dist_same_origin_co-ord(kms)\"], color='r')\n",
    "plt.title('Fraud x Normal Transactions by distance', fontsize=17)\n",
    "plt.show()"
   ]
  },
  {
   "cell_type": "code",
   "execution_count": null,
   "metadata": {
    "colab": {
     "base_uri": "https://localhost:8080/",
     "height": 355
    },
    "execution": {
     "iopub.execute_input": "2022-03-18T04:12:48.026616Z",
     "iopub.status.busy": "2022-03-18T04:12:48.026224Z",
     "iopub.status.idle": "2022-03-18T04:12:53.786677Z",
     "shell.execute_reply": "2022-03-18T04:12:53.785687Z",
     "shell.execute_reply.started": "2022-03-18T04:12:48.026572Z"
    },
    "id": "x5WeSEvSxLMj",
    "outputId": "269a3f4e-64dc-4ab8-b83c-3dd1c1af2986"
   },
   "outputs": [],
   "source": [
    "plt.figure(figsize=(12,5))\n",
    "sns.distplot(df_train[df_train['is_fraud'] == 0][\"distance_people_to_merchant_co-ord(kms)\"], color='g')\n",
    "sns.distplot(df_train[df_train['is_fraud'] == 1][\"distance_people_to_merchant_co-ord(kms)\"], color='r')\n",
    "plt.title('Fraud x Normal Transactions by distance', fontsize=17)\n",
    "plt.show()"
   ]
  },
  {
   "cell_type": "code",
   "execution_count": null,
   "metadata": {
    "colab": {
     "base_uri": "https://localhost:8080/",
     "height": 355
    },
    "execution": {
     "iopub.execute_input": "2022-03-18T04:12:53.788449Z",
     "iopub.status.busy": "2022-03-18T04:12:53.788173Z",
     "iopub.status.idle": "2022-03-18T04:12:59.245516Z",
     "shell.execute_reply": "2022-03-18T04:12:59.244888Z",
     "shell.execute_reply.started": "2022-03-18T04:12:53.788419Z"
    },
    "id": "NPH_n3AyYxCQ",
    "outputId": "6349563f-3ea7-4b85-f5d3-bc508e867a7d"
   },
   "outputs": [],
   "source": [
    "plt.figure(figsize=(12,5))\n",
    "sns.distplot(df_train[df_train['is_fraud'] == 0][\"distance_successive_co-ord(kms)\"], color='g')\n",
    "sns.distplot(df_train[df_train['is_fraud'] == 1][\"distance_successive_co-ord(kms)\"], color='r')\n",
    "plt.title('Fraud x Normal Transactions by distance', fontsize=17)\n",
    "plt.show()"
   ]
  },
  {
   "cell_type": "markdown",
   "metadata": {
    "id": "9AS4Ij2ekL7k"
   },
   "source": [
    "<font color=lightgreen> We can see from all the 3 graphs that distance does not matter much"
   ]
  },
  {
   "cell_type": "markdown",
   "metadata": {
    "id": "JQuQHmYGwr2m"
   },
   "source": [
    "### <font color=Blue> Outlier Analysis"
   ]
  },
  {
   "cell_type": "code",
   "execution_count": null,
   "metadata": {
    "colab": {
     "base_uri": "https://localhost:8080/",
     "height": 298
    },
    "execution": {
     "iopub.execute_input": "2022-03-18T04:12:59.682994Z",
     "iopub.status.busy": "2022-03-18T04:12:59.682759Z",
     "iopub.status.idle": "2022-03-18T04:12:59.718130Z",
     "shell.execute_reply": "2022-03-18T04:12:59.717169Z",
     "shell.execute_reply.started": "2022-03-18T04:12:59.682966Z"
    },
    "id": "Z_PqzcdSxEIe",
    "outputId": "6a7dafc1-7f35-485a-d25b-e8425e8f76ba"
   },
   "outputs": [],
   "source": [
    "df_train_outlier = df_train.copy()\n",
    "df_test_outlier = df_test.copy()\n",
    "\n",
    "df_train_outlier.head(2)"
   ]
  },
  {
   "cell_type": "code",
   "execution_count": null,
   "metadata": {
    "colab": {
     "base_uri": "https://localhost:8080/",
     "height": 1000
    },
    "execution": {
     "iopub.execute_input": "2022-03-18T04:12:59.719666Z",
     "iopub.status.busy": "2022-03-18T04:12:59.719433Z",
     "iopub.status.idle": "2022-03-18T04:13:03.769578Z",
     "shell.execute_reply": "2022-03-18T04:13:03.768761Z",
     "shell.execute_reply.started": "2022-03-18T04:12:59.719638Z"
    },
    "id": "58Uk4PdusiY5",
    "outputId": "7a670602-5900-4b7b-f2ae-193552d1ba81"
   },
   "outputs": [],
   "source": [
    "details(df_train_outlier)"
   ]
  },
  {
   "cell_type": "code",
   "execution_count": null,
   "metadata": {
    "colab": {
     "base_uri": "https://localhost:8080/",
     "height": 570
    },
    "execution": {
     "iopub.execute_input": "2022-03-18T04:13:03.770989Z",
     "iopub.status.busy": "2022-03-18T04:13:03.770732Z",
     "iopub.status.idle": "2022-03-18T04:13:04.607191Z",
     "shell.execute_reply": "2022-03-18T04:13:04.606414Z",
     "shell.execute_reply.started": "2022-03-18T04:13:03.770961Z"
    },
    "id": "KhepdwFYtTfk",
    "outputId": "66cd318a-adee-4e05-f707-ebfe67b08567"
   },
   "outputs": [],
   "source": [
    "df_train_outlier[['amt','city_pop','age','weekday_no','week_no','day_no','min_day','hr_day','month','year','year_dayno','dist_same_origin_co-ord(kms)','distance_successive_co-ord(kms)','distance_people_to_merchant_co-ord(kms)','delta_time(sec)','delta_time_elapsed(days)']].describe(percentiles=[0.01, 0.05, 0.1, 0.25, 0.5, 0.75, 0.9, 0.95, 0.99]).apply(lambda s: s.apply('{0:.5f}'.format)) "
   ]
  },
  {
   "cell_type": "markdown",
   "metadata": {
    "id": "kU-V0BZ2zYO9"
   },
   "source": [
    "<font color=orange> Plotting boxplot to find outliers"
   ]
  },
  {
   "cell_type": "code",
   "execution_count": null,
   "metadata": {
    "colab": {
     "base_uri": "https://localhost:8080/",
     "height": 649
    },
    "execution": {
     "iopub.execute_input": "2022-03-18T04:13:04.608503Z",
     "iopub.status.busy": "2022-03-18T04:13:04.608283Z",
     "iopub.status.idle": "2022-03-18T04:13:09.534499Z",
     "shell.execute_reply": "2022-03-18T04:13:09.533296Z",
     "shell.execute_reply.started": "2022-03-18T04:13:04.608476Z"
    },
    "id": "6yZpR4oxwTcp",
    "outputId": "12b6d1a5-2ace-465a-e825-1137820972a8"
   },
   "outputs": [],
   "source": [
    "col_data1 = ['amt','city_pop','age','weekday_no','week_no','day_no','min_day','hr_day','month','year','year_dayno','dist_same_origin_co-ord(kms)','distance_successive_co-ord(kms)','distance_people_to_merchant_co-ord(kms)','delta_time(sec)','delta_time_elapsed(days)']\n",
    "\n",
    "plt.figure(figsize=(30,20))\n",
    "for i in enumerate(col_data1):\n",
    "    plt.subplot(4,4,i[0]+1)\n",
    "    sns.boxplot(df_train_outlier[i[1]])"
   ]
  },
  {
   "cell_type": "markdown",
   "metadata": {
    "id": "0ZEGiyyAzkjo"
   },
   "source": [
    "<font color=orange> Treating outliers with Quantile method"
   ]
  },
  {
   "cell_type": "code",
   "execution_count": null,
   "metadata": {
    "execution": {
     "iopub.execute_input": "2022-03-18T04:13:09.536580Z",
     "iopub.status.busy": "2022-03-18T04:13:09.536215Z",
     "iopub.status.idle": "2022-03-18T04:13:09.798352Z",
     "shell.execute_reply": "2022-03-18T04:13:09.797555Z",
     "shell.execute_reply.started": "2022-03-18T04:13:09.536547Z"
    },
    "id": "Lbtpp65V2ynu"
   },
   "outputs": [],
   "source": [
    "col_data_outlier_treatment_1 =  ['amt','age','dist_same_origin_co-ord(kms)','distance_successive_co-ord(kms)','delta_time(sec)']\n",
    "\n",
    "for i in col_data_outlier_treatment_1:\n",
    "    q1 = df_train_outlier[i].quantile(0.01)\n",
    "    q4 = df_train_outlier[i].quantile(0.99)\n",
    "    df_train_outlier[i][df_train_outlier[i]<=q1]=q1        \n",
    "    df_train_outlier[i][df_train_outlier[i]>=q4]=q4                "
   ]
  },
  {
   "cell_type": "code",
   "execution_count": null,
   "metadata": {
    "execution": {
     "iopub.execute_input": "2022-03-18T04:13:09.809839Z",
     "iopub.status.busy": "2022-03-18T04:13:09.809396Z",
     "iopub.status.idle": "2022-03-18T04:13:09.872409Z",
     "shell.execute_reply": "2022-03-18T04:13:09.871700Z",
     "shell.execute_reply.started": "2022-03-18T04:13:09.809798Z"
    },
    "id": "ziQ-FVarHqXJ"
   },
   "outputs": [],
   "source": [
    "col_data_outlier_treatment_2 =  ['city_pop']\n",
    "\n",
    "for i in col_data_outlier_treatment_2:\n",
    "    q1 = df_train_outlier[i].quantile(0.1)\n",
    "    q4 = df_train_outlier[i].quantile(0.9)\n",
    "    df_train_outlier[i][df_train_outlier[i]<=q1]=q1\n",
    "    df_train_outlier[i][df_train_outlier[i]>=q4]=q4"
   ]
  },
  {
   "cell_type": "code",
   "execution_count": null,
   "metadata": {
    "execution": {
     "iopub.execute_input": "2022-03-18T04:13:09.873880Z",
     "iopub.status.busy": "2022-03-18T04:13:09.873523Z",
     "iopub.status.idle": "2022-03-18T04:13:10.010354Z",
     "shell.execute_reply": "2022-03-18T04:13:10.009499Z",
     "shell.execute_reply.started": "2022-03-18T04:13:09.873849Z"
    },
    "id": "No6DYk_Ya9SP"
   },
   "outputs": [],
   "source": [
    "col_data_outlier_treatment_3 =  ['amt','age','dist_same_origin_co-ord(kms)','distance_successive_co-ord(kms)','delta_time(sec)']\n",
    "\n",
    "for i in col_data_outlier_treatment_3:\n",
    "    q1 = df_test_outlier[i].quantile(0.01)\n",
    "    q4 = df_test_outlier[i].quantile(0.99)\n",
    "    df_test_outlier[i][df_test_outlier[i]<=q1]=q1\n",
    "    df_test_outlier[i][df_test_outlier[i]>=q4]=q4"
   ]
  },
  {
   "cell_type": "code",
   "execution_count": null,
   "metadata": {
    "execution": {
     "iopub.execute_input": "2022-03-18T04:13:10.012145Z",
     "iopub.status.busy": "2022-03-18T04:13:10.011870Z",
     "iopub.status.idle": "2022-03-18T04:13:10.044973Z",
     "shell.execute_reply": "2022-03-18T04:13:10.044288Z",
     "shell.execute_reply.started": "2022-03-18T04:13:10.012113Z"
    },
    "id": "3xPKafj7a9Io"
   },
   "outputs": [],
   "source": [
    "col_data_outlier_treatment_4 =  ['city_pop']\n",
    "\n",
    "for i in col_data_outlier_treatment_4:\n",
    "    q1 = df_test_outlier[i].quantile(0.1)\n",
    "    q4 = df_test_outlier[i].quantile(0.9)\n",
    "    df_test_outlier[i][df_test_outlier[i]<=q1]=q1\n",
    "    df_test_outlier[i][df_test_outlier[i]>=q4]=q4"
   ]
  },
  {
   "cell_type": "code",
   "execution_count": null,
   "metadata": {
    "colab": {
     "base_uri": "https://localhost:8080/",
     "height": 345
    },
    "execution": {
     "iopub.execute_input": "2022-03-18T04:13:10.046613Z",
     "iopub.status.busy": "2022-03-18T04:13:10.046017Z",
     "iopub.status.idle": "2022-03-18T04:13:13.092284Z",
     "shell.execute_reply": "2022-03-18T04:13:13.091485Z",
     "shell.execute_reply.started": "2022-03-18T04:13:10.046581Z"
    },
    "id": "j9sQKUQktHR2",
    "outputId": "8ac96db6-2486-4d1f-ff87-d0e8a7854cb8"
   },
   "outputs": [],
   "source": [
    "col_data1 = ['amt','city_pop','age','dist_same_origin_co-ord(kms)','distance_successive_co-ord(kms)','delta_time(sec)']\n",
    "\n",
    "plt.figure(figsize=(30,10))\n",
    "for i in enumerate(col_data1):\n",
    "    plt.subplot(2,3,i[0]+1)\n",
    "    sns.boxplot(df_train_outlier[i[1]])"
   ]
  },
  {
   "cell_type": "code",
   "execution_count": null,
   "metadata": {
    "colab": {
     "base_uri": "https://localhost:8080/",
     "height": 345
    },
    "execution": {
     "iopub.execute_input": "2022-03-18T04:13:13.094296Z",
     "iopub.status.busy": "2022-03-18T04:13:13.094036Z",
     "iopub.status.idle": "2022-03-18T04:13:14.834239Z",
     "shell.execute_reply": "2022-03-18T04:13:14.833132Z",
     "shell.execute_reply.started": "2022-03-18T04:13:13.094266Z"
    },
    "id": "yDhgV1CdKyaX",
    "outputId": "8b68429e-48af-4c2c-9acc-b568ec69a858"
   },
   "outputs": [],
   "source": [
    "col_data1 = ['amt','city_pop','age','dist_same_origin_co-ord(kms)','distance_successive_co-ord(kms)','delta_time(sec)']\n",
    "\n",
    "plt.figure(figsize=(30,10))\n",
    "for i in enumerate(col_data1):\n",
    "    plt.subplot(2,3,i[0]+1)\n",
    "    sns.boxplot(df_test_outlier[i[1]])"
   ]
  },
  {
   "cell_type": "code",
   "execution_count": null,
   "metadata": {
    "colab": {
     "base_uri": "https://localhost:8080/",
     "height": 570
    },
    "execution": {
     "iopub.execute_input": "2022-03-18T04:13:14.836452Z",
     "iopub.status.busy": "2022-03-18T04:13:14.835748Z",
     "iopub.status.idle": "2022-03-18T04:13:15.701243Z",
     "shell.execute_reply": "2022-03-18T04:13:15.700242Z",
     "shell.execute_reply.started": "2022-03-18T04:13:14.836408Z"
    },
    "id": "iC6p0lZx6DDi",
    "outputId": "00bead04-59a0-44d4-ddb7-cad3690a465b"
   },
   "outputs": [],
   "source": [
    "df_train_outlier[['amt','city_pop','age','weekday_no','week_no','day_no','min_day','hr_day','month','year','year_dayno','dist_same_origin_co-ord(kms)','distance_successive_co-ord(kms)','distance_people_to_merchant_co-ord(kms)','delta_time(sec)','delta_time_elapsed(days)']].describe(percentiles=[0.01, 0.05, 0.1, 0.25, 0.5, 0.75, 0.9, 0.95, 0.99]).apply(lambda s: s.apply('{0:.5f}'.format)) "
   ]
  },
  {
   "cell_type": "code",
   "execution_count": null,
   "metadata": {
    "colab": {
     "base_uri": "https://localhost:8080/",
     "height": 570
    },
    "execution": {
     "iopub.execute_input": "2022-03-18T04:13:15.702733Z",
     "iopub.status.busy": "2022-03-18T04:13:15.702477Z",
     "iopub.status.idle": "2022-03-18T04:13:16.098174Z",
     "shell.execute_reply": "2022-03-18T04:13:16.096980Z",
     "shell.execute_reply.started": "2022-03-18T04:13:15.702694Z"
    },
    "id": "HZap3tQ20Bzp",
    "outputId": "2a4d48f9-5a75-4ec9-9d96-51a95f8c7776"
   },
   "outputs": [],
   "source": [
    "df_test_outlier[['amt','city_pop','age','weekday_no','week_no','day_no','min_day','hr_day','month','year','year_dayno','dist_same_origin_co-ord(kms)','distance_successive_co-ord(kms)','distance_people_to_merchant_co-ord(kms)','delta_time(sec)','delta_time_elapsed(days)']].describe(percentiles=[0.01, 0.05, 0.1, 0.25, 0.5, 0.75, 0.9, 0.95, 0.99]).apply(lambda s: s.apply('{0:.5f}'.format)) "
   ]
  },
  {
   "cell_type": "markdown",
   "metadata": {
    "id": "1a_glf1c0HXD"
   },
   "source": [
    "<font color=orange> Plotting outliers for other variables wrt target variable"
   ]
  },
  {
   "cell_type": "code",
   "execution_count": null,
   "metadata": {
    "colab": {
     "base_uri": "https://localhost:8080/",
     "height": 505
    },
    "execution": {
     "iopub.execute_input": "2022-03-18T04:13:16.099614Z",
     "iopub.status.busy": "2022-03-18T04:13:16.099376Z",
     "iopub.status.idle": "2022-03-18T04:13:18.139105Z",
     "shell.execute_reply": "2022-03-18T04:13:18.138222Z",
     "shell.execute_reply.started": "2022-03-18T04:13:16.099586Z"
    },
    "id": "QpkYnU_KxOkR",
    "outputId": "8497b033-e695-42eb-9328-6739d17bcaad"
   },
   "outputs": [],
   "source": [
    "f, axes = plt.subplots(2, 2, figsize=(20,10))\n",
    "\n",
    "# Negative Correlations with our Class (The lower our feature value the more likely it will be a fraud transaction)\n",
    "sns.boxplot(x=\"is_fraud\", y=\"age\", hue='is_fraud', data=df_train_outlier, palette = 'PRGn', ax=axes[0, 0])\n",
    "axes[0, 0].set_title('Age vs Target')\n",
    "\n",
    "sns.boxplot(x=\"is_fraud\", y=\"city_pop\", data=df_train_outlier, ax=axes[0, 1])\n",
    "axes[0, 1].set_title('Population vs Target')\n",
    "\n",
    "\n",
    "sns.boxplot(x=\"is_fraud\", y=\"amt\", data=df_train_outlier, ax=axes[1, 0])\n",
    "axes[1, 0].set_title('Amount vs Target')\n",
    "\n",
    "\n",
    "sns.boxplot(x=\"is_fraud\", y=\"delta_time(sec)\", data=df_train_outlier, ax=axes[1, 1])\n",
    "axes[1, 1].set_title('Time in seconds vs Target')\n",
    "\n",
    "plt.show()"
   ]
  },
  {
   "cell_type": "code",
   "execution_count": null,
   "metadata": {
    "colab": {
     "base_uri": "https://localhost:8080/",
     "height": 507
    },
    "execution": {
     "iopub.execute_input": "2022-03-18T04:13:18.141083Z",
     "iopub.status.busy": "2022-03-18T04:13:18.140466Z",
     "iopub.status.idle": "2022-03-18T04:13:19.352083Z",
     "shell.execute_reply": "2022-03-18T04:13:19.350969Z",
     "shell.execute_reply.started": "2022-03-18T04:13:18.141036Z"
    },
    "id": "4hB9fGTytHJ0",
    "outputId": "1d0764f7-c2a6-43ac-de4c-0ecee7af5945"
   },
   "outputs": [],
   "source": [
    "f, axes = plt.subplots(2, 2, figsize=(20,10))\n",
    "\n",
    "# Negative Correlations with our Class (The lower our feature value the more likely it will be a fraud transaction)\n",
    "sns.boxplot(x=\"is_fraud\", y=\"weekday_no\", hue='is_fraud', data=df_train_outlier, palette = 'PRGn', ax=axes[0, 0])\n",
    "axes[0, 0].set_title('Weekday vs Target')\n",
    "\n",
    "sns.boxplot(x=\"is_fraud\", y=\"week_no\", data=df_train_outlier, ax=axes[0, 1])\n",
    "axes[0, 1].set_title('WeekNo vs Target')\n",
    "\n",
    "\n",
    "sns.boxplot(x=\"is_fraud\", y=\"day_no\", data=df_train_outlier, ax=axes[1, 0])\n",
    "axes[1, 0].set_title('DayNo vs Target')\n",
    "\n",
    "\n",
    "sns.boxplot(x=\"is_fraud\", y=\"min_day\", data=df_train_outlier, ax=axes[1, 1])\n",
    "axes[1, 1].set_title('Minutes vs Target')\n",
    "\n",
    "plt.show()"
   ]
  },
  {
   "cell_type": "code",
   "execution_count": null,
   "metadata": {
    "colab": {
     "base_uri": "https://localhost:8080/",
     "height": 503
    },
    "execution": {
     "iopub.execute_input": "2022-03-18T04:13:19.353599Z",
     "iopub.status.busy": "2022-03-18T04:13:19.353283Z",
     "iopub.status.idle": "2022-03-18T04:13:20.551948Z",
     "shell.execute_reply": "2022-03-18T04:13:20.551113Z",
     "shell.execute_reply.started": "2022-03-18T04:13:19.353564Z"
    },
    "id": "6tjrxswEtHBl",
    "outputId": "3382fefb-4ad2-4b7b-f478-561afb6975ed"
   },
   "outputs": [],
   "source": [
    "f, axes = plt.subplots(2, 2, figsize=(20,10))\n",
    "\n",
    "# Negative Correlations with our Class (The lower our feature value the more likely it will be a fraud transaction)\n",
    "sns.boxplot(x=\"is_fraud\", y=\"hr_day\", hue='is_fraud', data=df_train_outlier, palette = 'PRGn', ax=axes[0, 0])\n",
    "axes[0, 0].set_title('Hour vs Target')\n",
    "\n",
    "sns.boxplot(x=\"is_fraud\", y=\"month\", data=df_train_outlier, ax=axes[0, 1])\n",
    "axes[0, 1].set_title('Month vs Target')\n",
    "\n",
    "\n",
    "sns.boxplot(x=\"is_fraud\", y=\"year\", data=df_train_outlier, ax=axes[1, 0])\n",
    "axes[1, 0].set_title('Year vs Target')\n",
    "\n",
    "\n",
    "sns.boxplot(x=\"is_fraud\", y=\"year_dayno\", data=df_train_outlier, ax=axes[1, 1])\n",
    "axes[1, 1].set_title('YearDayWise vs Target')\n",
    "\n",
    "plt.show()"
   ]
  },
  {
   "cell_type": "code",
   "execution_count": null,
   "metadata": {
    "colab": {
     "base_uri": "https://localhost:8080/",
     "height": 502
    },
    "execution": {
     "iopub.execute_input": "2022-03-18T04:13:20.553933Z",
     "iopub.status.busy": "2022-03-18T04:13:20.553301Z",
     "iopub.status.idle": "2022-03-18T04:13:22.130270Z",
     "shell.execute_reply": "2022-03-18T04:13:22.129277Z",
     "shell.execute_reply.started": "2022-03-18T04:13:20.553885Z"
    },
    "id": "IwGv93fnbWkC",
    "outputId": "3ec5ffcb-fc7d-4c98-f841-ca913e7244d0"
   },
   "outputs": [],
   "source": [
    "f, axes = plt.subplots(2, 2, figsize=(20,10))\n",
    "\n",
    "# Negative Correlations with our Class (The lower our feature value the more likely it will be a fraud transaction)\n",
    "sns.boxplot(x=\"is_fraud\", y=\"dist_same_origin_co-ord(kms)\", hue='is_fraud', data=df_train_outlier, palette = 'PRGn', ax=axes[0, 0])\n",
    "axes[0, 0].set_title('Distance from origin to other places vs Target')\n",
    "\n",
    "sns.boxplot(x=\"is_fraud\", y=\"distance_successive_co-ord(kms)\", data=df_train_outlier, ax=axes[0, 1])\n",
    "axes[0, 1].set_title('Distance between successive co-ord vs Target')\n",
    "\n",
    "\n",
    "sns.boxplot(x=\"is_fraud\", y=\"distance_people_to_merchant_co-ord(kms)\", data=df_train_outlier, ax=axes[1, 0])\n",
    "axes[1, 0].set_title('Distance between transaction origin to merchant co-ord vs Target')\n",
    "\n",
    "\n",
    "sns.boxplot(x=\"is_fraud\", y=\"delta_time_elapsed(days)\", data=df_train_outlier, ax=axes[1, 1])\n",
    "axes[1, 1].set_title('Days elapsed vs Target')\n",
    "\n",
    "plt.show()"
   ]
  },
  {
   "cell_type": "markdown",
   "metadata": {
    "id": "4OD_8p-kJElw"
   },
   "source": [
    "<font color=lightgreen> ***Insights:*** <br> Sometimes it’s best to keep outliers in your data. They can capture valuable information that is part of your study area. <br> Moveover during sampling the problem might again surface. <br> Hence ignoring outlier treatment."
   ]
  },
  {
   "cell_type": "markdown",
   "metadata": {
    "id": "pYiMFwhHCZfH"
   },
   "source": [
    "### <font color=Blue> Preparation for Modelling with original data"
   ]
  },
  {
   "cell_type": "code",
   "execution_count": null,
   "metadata": {
    "colab": {
     "base_uri": "https://localhost:8080/",
     "height": 298
    },
    "execution": {
     "iopub.execute_input": "2022-03-18T04:13:22.571399Z",
     "iopub.status.busy": "2022-03-18T04:13:22.571162Z",
     "iopub.status.idle": "2022-03-18T04:13:22.605099Z",
     "shell.execute_reply": "2022-03-18T04:13:22.604235Z",
     "shell.execute_reply.started": "2022-03-18T04:13:22.571371Z"
    },
    "id": "wjB9yTbMHDFi",
    "outputId": "973e357d-16fb-417b-827d-b8e37771fbd2"
   },
   "outputs": [],
   "source": [
    "df_train.head(2)"
   ]
  },
  {
   "cell_type": "code",
   "execution_count": null,
   "metadata": {
    "colab": {
     "base_uri": "https://localhost:8080/",
     "height": 263
    },
    "execution": {
     "iopub.execute_input": "2022-03-18T04:13:22.606542Z",
     "iopub.status.busy": "2022-03-18T04:13:22.606284Z",
     "iopub.status.idle": "2022-03-18T04:13:22.640099Z",
     "shell.execute_reply": "2022-03-18T04:13:22.638935Z",
     "shell.execute_reply.started": "2022-03-18T04:13:22.606512Z"
    },
    "id": "IoIMJ7oZHMvT",
    "outputId": "ad3068f6-0966-4488-80f2-ba7b2e81b5c5"
   },
   "outputs": [],
   "source": [
    "df_test.head(2)"
   ]
  },
  {
   "cell_type": "code",
   "execution_count": null,
   "metadata": {
    "colab": {
     "base_uri": "https://localhost:8080/"
    },
    "execution": {
     "iopub.execute_input": "2022-03-18T04:13:22.641496Z",
     "iopub.status.busy": "2022-03-18T04:13:22.641269Z",
     "iopub.status.idle": "2022-03-18T04:13:22.648138Z",
     "shell.execute_reply": "2022-03-18T04:13:22.647157Z",
     "shell.execute_reply.started": "2022-03-18T04:13:22.641469Z"
    },
    "id": "tY-OOdfzMcl0",
    "outputId": "f2887614-48ed-47e5-c219-4f3f2b57a182"
   },
   "outputs": [],
   "source": [
    "df_train.shape, df_test.shape"
   ]
  },
  {
   "cell_type": "markdown",
   "metadata": {
    "id": "SinOKt8AGdhm"
   },
   "source": [
    "<font color=orange> Dropping most correlated variables"
   ]
  },
  {
   "cell_type": "code",
   "execution_count": null,
   "metadata": {
    "colab": {
     "base_uri": "https://localhost:8080/",
     "height": 1000
    },
    "execution": {
     "iopub.execute_input": "2022-03-18T04:13:22.650250Z",
     "iopub.status.busy": "2022-03-18T04:13:22.649457Z",
     "iopub.status.idle": "2022-03-18T04:13:27.742557Z",
     "shell.execute_reply": "2022-03-18T04:13:27.741594Z",
     "shell.execute_reply.started": "2022-03-18T04:13:22.650188Z"
    },
    "id": "ong1x8BGofE1",
    "outputId": "67c6f638-1ff5-4208-93d4-b1aef0aa85a6"
   },
   "outputs": [],
   "source": [
    "plt.figure(figsize = (30,30))    ## 10,10\n",
    "sns.heatmap(df_train.corr(),annot = True, cmap=\"GnBu\",fmt='.2f')\n",
    "plt.show()"
   ]
  },
  {
   "cell_type": "code",
   "execution_count": null,
   "metadata": {
    "colab": {
     "base_uri": "https://localhost:8080/"
    },
    "execution": {
     "iopub.execute_input": "2022-03-18T04:13:27.745076Z",
     "iopub.status.busy": "2022-03-18T04:13:27.744463Z",
     "iopub.status.idle": "2022-03-18T04:13:29.809591Z",
     "shell.execute_reply": "2022-03-18T04:13:29.808698Z",
     "shell.execute_reply.started": "2022-03-18T04:13:27.745033Z"
    },
    "id": "gGaAPHxgofCp",
    "outputId": "66f6b14a-5a72-4ae8-defb-90659bde0e9d"
   },
   "outputs": [],
   "source": [
    "corr_matrix1 = df_train.corr().abs()\n",
    "\n",
    "# Select upper triangle of correlation matrix\n",
    "upper1 = corr_matrix1.where(np.triu(np.ones(corr_matrix1.shape), k=1).astype(np.bool))\n",
    "\n",
    "# Find features with correlation greater than 0.8 as they are highly correlated\n",
    "to_drop1 = [column for column in upper1.columns if any(upper1[column] > 0.75)]\n",
    "to_drop1"
   ]
  },
  {
   "cell_type": "code",
   "execution_count": null,
   "metadata": {
    "colab": {
     "base_uri": "https://localhost:8080/"
    },
    "execution": {
     "iopub.execute_input": "2022-03-18T04:13:29.811940Z",
     "iopub.status.busy": "2022-03-18T04:13:29.811326Z",
     "iopub.status.idle": "2022-03-18T04:13:30.708777Z",
     "shell.execute_reply": "2022-03-18T04:13:30.707822Z",
     "shell.execute_reply.started": "2022-03-18T04:13:29.811893Z"
    },
    "id": "xAFsrfgyoe_p",
    "outputId": "c44f8912-bfb5-4ac5-ee48-01f0365e513b"
   },
   "outputs": [],
   "source": [
    "corr_matrix2 = df_test.corr().abs()\n",
    "\n",
    "# Select upper triangle of correlation matrix\n",
    "upper2 = corr_matrix2.where(np.triu(np.ones(corr_matrix2.shape), k=1).astype(np.bool))\n",
    "\n",
    "# Find features with correlation greater than 0.8 as they are highly correlated\n",
    "to_drop2 = [column for column in upper2.columns if any(upper2[column] > 0.75)]\n",
    "to_drop2"
   ]
  },
  {
   "cell_type": "code",
   "execution_count": null,
   "metadata": {
    "execution": {
     "iopub.execute_input": "2022-03-18T04:13:30.710177Z",
     "iopub.status.busy": "2022-03-18T04:13:30.709937Z",
     "iopub.status.idle": "2022-03-18T04:13:31.031356Z",
     "shell.execute_reply": "2022-03-18T04:13:31.030315Z",
     "shell.execute_reply.started": "2022-03-18T04:13:30.710147Z"
    },
    "id": "OSwHiG8Xoe8-"
   },
   "outputs": [],
   "source": [
    "df_train.drop(to_drop1, axis=1, inplace=True)\n",
    "df_test.drop(to_drop2, axis=1, inplace=True)"
   ]
  },
  {
   "cell_type": "markdown",
   "metadata": {
    "id": "_wpuhR-SHsis"
   },
   "source": [
    "<font color=orange> Dropping redundant columns"
   ]
  },
  {
   "cell_type": "code",
   "execution_count": null,
   "metadata": {
    "colab": {
     "base_uri": "https://localhost:8080/"
    },
    "execution": {
     "iopub.execute_input": "2022-03-18T04:13:31.032793Z",
     "iopub.status.busy": "2022-03-18T04:13:31.032539Z",
     "iopub.status.idle": "2022-03-18T04:13:31.040330Z",
     "shell.execute_reply": "2022-03-18T04:13:31.039088Z",
     "shell.execute_reply.started": "2022-03-18T04:13:31.032754Z"
    },
    "id": "Fg13n1EeNQVs",
    "outputId": "edabb2ec-cfe6-4461-9a4e-b83882faf74d"
   },
   "outputs": [],
   "source": [
    "df_train.columns"
   ]
  },
  {
   "cell_type": "code",
   "execution_count": null,
   "metadata": {
    "execution": {
     "iopub.execute_input": "2022-03-18T04:13:31.042091Z",
     "iopub.status.busy": "2022-03-18T04:13:31.041847Z",
     "iopub.status.idle": "2022-03-18T04:13:31.230282Z",
     "shell.execute_reply": "2022-03-18T04:13:31.229280Z",
     "shell.execute_reply.started": "2022-03-18T04:13:31.042064Z"
    },
    "id": "C2xmSr0yofHj"
   },
   "outputs": [],
   "source": [
    "df_train.drop(['trans_date_trans_time', 'cc_num', 'merchant', 'street', 'city', 'state', 'zip', 'lat', 'job', 'trans_num', 'unix_time', 'Full_Name', 'Transaction_Date', 'week_day', 'month_name', 'year', 'delta_time', 'delta_time_elapsed'],1,inplace=True)\n",
    "df_test.drop(['trans_date_trans_time', 'cc_num', 'merchant', 'street', 'city', 'state', 'zip', 'lat', 'job', 'trans_num', 'unix_time', 'Full_Name', 'Transaction_Date', 'week_day', 'month_name', 'year', 'delta_time', 'delta_time_elapsed'],1,inplace=True)"
   ]
  },
  {
   "cell_type": "code",
   "execution_count": null,
   "metadata": {
    "execution": {
     "iopub.execute_input": "2022-03-18T04:13:31.232083Z",
     "iopub.status.busy": "2022-03-18T04:13:31.231730Z",
     "iopub.status.idle": "2022-03-18T04:13:31.236039Z",
     "shell.execute_reply": "2022-03-18T04:13:31.235309Z",
     "shell.execute_reply.started": "2022-03-18T04:13:31.232049Z"
    },
    "id": "n2x_iSiVzOvE"
   },
   "outputs": [],
   "source": [
    "# %%time\n",
    "# sns.pairplot(df_train_model, hue='is_fraud')\n",
    "# plt.show()\n",
    "\n",
    "# Google colab is crashing"
   ]
  },
  {
   "cell_type": "code",
   "execution_count": null,
   "metadata": {
    "colab": {
     "base_uri": "https://localhost:8080/"
    },
    "execution": {
     "iopub.execute_input": "2022-03-18T04:13:31.237820Z",
     "iopub.status.busy": "2022-03-18T04:13:31.237587Z",
     "iopub.status.idle": "2022-03-18T04:13:31.254147Z",
     "shell.execute_reply": "2022-03-18T04:13:31.253169Z",
     "shell.execute_reply.started": "2022-03-18T04:13:31.237781Z"
    },
    "id": "-sZ5qAxFzWNp",
    "outputId": "1e4893e1-8f37-475a-d0d5-2524dee4a17e"
   },
   "outputs": [],
   "source": [
    "df_train.shape, df_test.shape"
   ]
  },
  {
   "cell_type": "markdown",
   "metadata": {
    "id": "jEmozdshZD8W"
   },
   "source": [
    "<font color=orange> Splitting into X , y, X_test, y_test before validation split"
   ]
  },
  {
   "cell_type": "code",
   "execution_count": null,
   "metadata": {
    "execution": {
     "iopub.execute_input": "2022-03-18T04:13:31.255799Z",
     "iopub.status.busy": "2022-03-18T04:13:31.255425Z",
     "iopub.status.idle": "2022-03-18T04:13:31.349284Z",
     "shell.execute_reply": "2022-03-18T04:13:31.348244Z",
     "shell.execute_reply.started": "2022-03-18T04:13:31.255762Z"
    },
    "id": "Z4CIbFLmoerP"
   },
   "outputs": [],
   "source": [
    "X = df_train.drop(['is_fraud'], 1)\n",
    "y = df_train['is_fraud']\n",
    "X_test = df_test.drop(['is_fraud'], 1)\n",
    "y_test = df_test['is_fraud']"
   ]
  },
  {
   "cell_type": "code",
   "execution_count": null,
   "metadata": {
    "execution": {
     "iopub.execute_input": "2022-03-18T04:13:31.350847Z",
     "iopub.status.busy": "2022-03-18T04:13:31.350530Z",
     "iopub.status.idle": "2022-03-18T04:13:31.355005Z",
     "shell.execute_reply": "2022-03-18T04:13:31.353990Z",
     "shell.execute_reply.started": "2022-03-18T04:13:31.350814Z"
    },
    "id": "747Oa-TVpM7z"
   },
   "outputs": [],
   "source": [
    "# Not requried\n",
    "\n",
    "# year = [2019, 2020]\n",
    "# ordi = OrdinalEncoder(categories=[year])\n",
    "\n",
    "# # For train data\n",
    "# X['year'] = pd.DataFrame(ordi.fit_transform(X[['year']]))\n",
    "\n",
    "# # For test data\n",
    "# X_test['year'] = pd.DataFrame(ordi.transform(X_test[['year']]))"
   ]
  },
  {
   "cell_type": "markdown",
   "metadata": {
    "id": "TSkOtHfjINyx"
   },
   "source": [
    "<font color=orange> One hot encoding for gender and category columns"
   ]
  },
  {
   "cell_type": "code",
   "execution_count": null,
   "metadata": {
    "execution": {
     "iopub.execute_input": "2022-03-18T04:13:31.357210Z",
     "iopub.status.busy": "2022-03-18T04:13:31.356425Z",
     "iopub.status.idle": "2022-03-18T04:13:33.093239Z",
     "shell.execute_reply": "2022-03-18T04:13:33.092392Z",
     "shell.execute_reply.started": "2022-03-18T04:13:31.357156Z"
    },
    "id": "q-RHAk5xpM4v"
   },
   "outputs": [],
   "source": [
    "ohe = OneHotEncoder(sparse=False)\n",
    "\n",
    "# For train data\n",
    "ohe_df1 = pd.DataFrame(ohe.fit_transform(X[['category','gender']]),columns=ohe.get_feature_names())\n",
    "\n",
    "# For test data\n",
    "ohe_df2 = pd.DataFrame(ohe.transform(X_test[['category','gender']]),columns=ohe.get_feature_names())"
   ]
  },
  {
   "cell_type": "code",
   "execution_count": null,
   "metadata": {
    "execution": {
     "iopub.execute_input": "2022-03-18T04:13:33.094749Z",
     "iopub.status.busy": "2022-03-18T04:13:33.094531Z",
     "iopub.status.idle": "2022-03-18T04:13:33.574466Z",
     "shell.execute_reply": "2022-03-18T04:13:33.573506Z",
     "shell.execute_reply.started": "2022-03-18T04:13:33.094722Z"
    },
    "id": "U9nebb21pM1_"
   },
   "outputs": [],
   "source": [
    "# For train data\n",
    "X = pd.concat([X, ohe_df1],1)\n",
    "\n",
    "# For test data\n",
    "X_test = pd.concat([X_test, ohe_df2],1)"
   ]
  },
  {
   "cell_type": "markdown",
   "metadata": {
    "id": "IpUAXDVVITjs"
   },
   "source": [
    "<font color=orange> Merging the data"
   ]
  },
  {
   "cell_type": "code",
   "execution_count": null,
   "metadata": {
    "execution": {
     "iopub.execute_input": "2022-03-18T04:13:33.576176Z",
     "iopub.status.busy": "2022-03-18T04:13:33.575938Z",
     "iopub.status.idle": "2022-03-18T04:13:33.978632Z",
     "shell.execute_reply": "2022-03-18T04:13:33.977475Z",
     "shell.execute_reply.started": "2022-03-18T04:13:33.576148Z"
    },
    "id": "eThOSTdHpM0V"
   },
   "outputs": [],
   "source": [
    "# For train data\n",
    "X.drop(['category','gender'],1, inplace=True)\n",
    "\n",
    "# For test data\n",
    "X_test.drop(['category','gender'],1, inplace=True)"
   ]
  },
  {
   "cell_type": "markdown",
   "metadata": {
    "id": "C2EbeVoRG6WP"
   },
   "source": [
    "<font color=orange> Distribution plot/skewed"
   ]
  },
  {
   "cell_type": "code",
   "execution_count": null,
   "metadata": {
    "execution": {
     "iopub.execute_input": "2022-03-18T04:13:33.980495Z",
     "iopub.status.busy": "2022-03-18T04:13:33.980251Z",
     "iopub.status.idle": "2022-03-18T04:13:34.090634Z",
     "shell.execute_reply": "2022-03-18T04:13:34.089833Z",
     "shell.execute_reply.started": "2022-03-18T04:13:33.980467Z"
    },
    "id": "wLvtKMetwX8s"
   },
   "outputs": [],
   "source": [
    "Xplot = pd.concat([X, y], 1)"
   ]
  },
  {
   "cell_type": "code",
   "execution_count": null,
   "metadata": {
    "colab": {
     "base_uri": "https://localhost:8080/",
     "height": 1000
    },
    "execution": {
     "iopub.execute_input": "2022-03-18T04:13:34.092047Z",
     "iopub.status.busy": "2022-03-18T04:13:34.091812Z",
     "iopub.status.idle": "2022-03-18T04:15:54.135487Z",
     "shell.execute_reply": "2022-03-18T04:15:54.134285Z",
     "shell.execute_reply.started": "2022-03-18T04:13:34.092017Z"
    },
    "id": "yRQdKB-GG57R",
    "outputId": "7f54d2f1-3d35-4d98-a8b6-54adf95b55db"
   },
   "outputs": [],
   "source": [
    "columns = Xplot.columns\n",
    "\n",
    "frauds = Xplot.is_fraud == 1\n",
    "normals = Xplot.is_fraud == 0\n",
    "\n",
    "grid = gridspec.GridSpec(14, 2)\n",
    "plt.figure(figsize=(15,20*4))\n",
    "\n",
    "for n, col in enumerate(Xplot[columns]):\n",
    "    ax = plt.subplot(grid[n])\n",
    "    sns.distplot(Xplot[col][frauds], bins = 50, color='g') \n",
    "    sns.distplot(Xplot[col][normals], bins = 50, color='b') \n",
    "    ax.set_ylabel('Density')\n",
    "    ax.set_title(str(col))\n",
    "    ax.set_xlabel('')\n",
    "plt.show()"
   ]
  },
  {
   "cell_type": "markdown",
   "metadata": {
    "id": "BYIwxeR3zV_K"
   },
   "source": [
    "<font color=lightgreen> The model is skewed and hence scaling with power transformer has to be performed to reduce skewness."
   ]
  },
  {
   "cell_type": "markdown",
   "metadata": {
    "id": "VZsfXSLBIhO6"
   },
   "source": [
    "### <font color=Blue> Modelling with Training and Validation set"
   ]
  },
  {
   "cell_type": "markdown",
   "metadata": {
    "id": "ArMp0ZyIPRlu"
   },
   "source": [
    "<font color=orange> Train Validation Split"
   ]
  },
  {
   "cell_type": "code",
   "execution_count": null,
   "metadata": {
    "execution": {
     "iopub.execute_input": "2022-03-18T04:15:54.137402Z",
     "iopub.status.busy": "2022-03-18T04:15:54.137064Z",
     "iopub.status.idle": "2022-03-18T04:15:55.222386Z",
     "shell.execute_reply": "2022-03-18T04:15:55.221276Z",
     "shell.execute_reply.started": "2022-03-18T04:15:54.137363Z"
    },
    "id": "p18im8r0so9e"
   },
   "outputs": [],
   "source": [
    "X_train, X_valid, y_train, y_valid = train_test_split(X, y, train_size=0.6, random_state=23, stratify=y)"
   ]
  },
  {
   "cell_type": "code",
   "execution_count": null,
   "metadata": {
    "colab": {
     "base_uri": "https://localhost:8080/"
    },
    "execution": {
     "iopub.execute_input": "2022-03-18T04:15:55.224099Z",
     "iopub.status.busy": "2022-03-18T04:15:55.223754Z",
     "iopub.status.idle": "2022-03-18T04:15:55.232169Z",
     "shell.execute_reply": "2022-03-18T04:15:55.231148Z",
     "shell.execute_reply.started": "2022-03-18T04:15:55.224064Z"
    },
    "id": "Y48F9xMktHbO",
    "outputId": "0df59e7e-390a-4e75-96e9-77fc829cbeef"
   },
   "outputs": [],
   "source": [
    "X_train.shape, y_train.shape, X_test.shape, y_test.shape, X_valid.shape, y_valid.shape"
   ]
  },
  {
   "cell_type": "code",
   "execution_count": null,
   "metadata": {
    "colab": {
     "base_uri": "https://localhost:8080/",
     "height": 896
    },
    "execution": {
     "iopub.execute_input": "2022-03-18T04:15:55.233480Z",
     "iopub.status.busy": "2022-03-18T04:15:55.233245Z",
     "iopub.status.idle": "2022-03-18T04:15:55.547711Z",
     "shell.execute_reply": "2022-03-18T04:15:55.546926Z",
     "shell.execute_reply.started": "2022-03-18T04:15:55.233452Z"
    },
    "id": "9RdjucZ94G2g",
    "outputId": "c01306f4-f5dd-436b-c27d-1f8d6b8ad3a8"
   },
   "outputs": [],
   "source": [
    "details(X_train)"
   ]
  },
  {
   "cell_type": "code",
   "execution_count": null,
   "metadata": {
    "colab": {
     "base_uri": "https://localhost:8080/",
     "height": 896
    },
    "execution": {
     "iopub.execute_input": "2022-03-18T04:15:55.549374Z",
     "iopub.status.busy": "2022-03-18T04:15:55.549061Z",
     "iopub.status.idle": "2022-03-18T04:15:55.752078Z",
     "shell.execute_reply": "2022-03-18T04:15:55.751075Z",
     "shell.execute_reply.started": "2022-03-18T04:15:55.549340Z"
    },
    "id": "dZf9xa-DOdA8",
    "outputId": "7959a0c4-103a-4ec0-d15e-892149fb07b6"
   },
   "outputs": [],
   "source": [
    "details(X_valid)"
   ]
  },
  {
   "cell_type": "markdown",
   "metadata": {
    "id": "9sxj0us82ay_"
   },
   "source": [
    "<font color=orange> Resampling just in Train set excluding Test set (or validation set (check))"
   ]
  },
  {
   "cell_type": "code",
   "execution_count": null,
   "metadata": {
    "execution": {
     "iopub.execute_input": "2022-03-18T04:16:20.229016Z",
     "iopub.status.busy": "2022-03-18T04:16:20.228037Z"
    },
    "id": "UckgVbxxpgjk"
   },
   "outputs": [],
   "source": [
    "#Performed only on imbalanced dataset\n",
    "smt = SMOTE(sampling_strategy='minority', random_state=23)\n",
    "ada = ADASYN(sampling_strategy='minority', random_state=23)\n",
    "\n",
    "X_train_smt, y_train_smt = smt.fit_resample(X_train, y_train)\n",
    "X_train_ada, y_train_ada = ada.fit_resample(X_train, y_train)"
   ]
  },
  {
   "cell_type": "code",
   "execution_count": null,
   "metadata": {
    "colab": {
     "base_uri": "https://localhost:8080/"
    },
    "id": "BdzPW7jqqGoS",
    "outputId": "84060577-3489-4f5e-f4c8-12d54a848157"
   },
   "outputs": [],
   "source": [
    "X_train_smt.shape, y_train_smt.shape, X_train_ada.shape, y_train_ada.shape"
   ]
  },
  {
   "cell_type": "markdown",
   "metadata": {
    "id": "0_xLJuiz2hwj"
   },
   "source": [
    "<font color=orange> Modelling Parameters"
   ]
  },
  {
   "cell_type": "code",
   "execution_count": null,
   "metadata": {
    "id": "TtrLt53ipgeQ"
   },
   "outputs": [],
   "source": [
    "# Models\n",
    "model = list()\n",
    "# Balancing imbalanced data\n",
    "resample = list()\n",
    "# Precision\n",
    "precision = list()\n",
    "# Recall\n",
    "recall = list()\n",
    "# F1-Score\n",
    "F1score = list()\n",
    "# Area under ROC Curve\n",
    "AUCROC = list()\n",
    "# Area under Precision-Recall Curve\n",
    "AUCPR = list()"
   ]
  },
  {
   "cell_type": "code",
   "execution_count": null,
   "metadata": {
    "id": "8ze564InV0-I"
   },
   "outputs": [],
   "source": [
    "# Decision Tree\n",
    "model_DT = DecisionTreeClassifier(random_state = 23)\n",
    "\n",
    "# Random Forest\n",
    "model_RF = RandomForestClassifier(oob_score = True, random_state=23)\n"
   ]
  },
  {
   "cell_type": "code",
   "execution_count": null,
   "metadata": {
    "id": "0kVdYSVTUM7x"
   },
   "outputs": [],
   "source": [
    "# Hyperparameter Tuning\n",
    "\n",
    "params_DT = {\n",
    "    'max_depth': [10, 20, 50, 100, 200],\n",
    "    'min_samples_leaf': [10, 20, 50, 100, 200],\n",
    "    'min_samples_split' : [10, 20, 50, 100, 200],\n",
    "    'criterion': [\"gini\", \"entropy\"]\n",
    "} \n",
    "\n",
    "\n",
    "# Not able to run hyperparameters for Random Forest because of crashing, hence choosing limited parameters\n",
    "params_RF = {    \n",
    "    'n_estimators': [50],\n",
    "    'max_depth': [50],\n",
    "    'min_samples_leaf': [200],\n",
    "    'min_samples_split' : [100],\n",
    "    'criterion': [\"gini\"]\n",
    "}\n",
    "\n"
   ]
  },
  {
   "cell_type": "markdown",
   "metadata": {
    "id": "f8AZgvuiIujH"
   },
   "source": [
    "<font color=orange> Function for training model and performing test on validation set"
   ]
  },
  {
   "cell_type": "code",
   "execution_count": null,
   "metadata": {
    "id": "6u6NMhrLpgW7"
   },
   "outputs": [],
   "source": [
    "def model_fit_evaluation(model_model, params, X_train, y_train, X_test, y_test, algo=None, sampling=None):\n",
    "    \n",
    "    rcv = RandomizedSearchCV(model_model, params, cv=5, scoring='roc_auc', n_jobs=-1, verbose=1, random_state=23)\n",
    "    rcv.fit(X_train, y_train)\n",
    "    \n",
    "    print('\\n')\n",
    "    print('best estimator : ', rcv.best_estimator_)\n",
    "    print('best parameters: ', rcv.best_params_)\n",
    "    print('best score: ', rcv.best_score_)\n",
    "    print('\\n')\n",
    "\n",
    "    # Test set prediction\n",
    "    y_test_prob=(rcv.best_estimator_).predict_proba(X_test)\n",
    "    y_test_pred=(rcv.best_estimator_).predict(X_test)\n",
    "\n",
    "    print('Confusion Matrix')\n",
    "    print('='*60)\n",
    "    print(confusion_matrix(y_test, y_test_pred),\"\\n\")\n",
    "    print('Classification Report')\n",
    "    print('='*60)\n",
    "    print(classification_report(y_test, y_test_pred),\"\\n\")\n",
    "    print('AUC-ROC')\n",
    "    print('='*60)\n",
    "    print(roc_auc_score(y_test, y_test_prob[:,1]),'\\n')\n",
    "    print('AUC-PR')\n",
    "    print('='*60)\n",
    "    print(average_precision_score(y_test, y_test_prob[:,1]),'\\n')\n",
    "    print('Roc-Auc-Curve')\n",
    "    print('='*60)\n",
    "    print(plot_roc_curve((rcv.best_estimator_), X_test, y_test),'\\n')\n",
    "    print('Precision-Recall-Curve')\n",
    "    print('='*60)\n",
    "    print(plot_precision_recall_curve((rcv.best_estimator_), X_test, y_test),'\\n')\n",
    "    \n",
    "    model.append(algo)\n",
    "    precision.append(precision_score(y_test, y_test_pred))\n",
    "    recall.append(recall_score(y_test, y_test_pred))\n",
    "    F1score.append(f1_score(y_test, y_test_pred))\n",
    "    AUCROC.append(roc_auc_score(y_test, y_test_prob[:,1]))\n",
    "    resample.append(sampling)\n",
    "    AUCPR.append(average_precision_score(y_test, y_test_prob[:,1]))  "
   ]
  },
  {
   "cell_type": "markdown",
   "metadata": {
    "id": "_IokkKNcwz--"
   },
   "source": [
    "<font color=orange> Decision Tree without sampling"
   ]
  },
  {
   "cell_type": "code",
   "execution_count": null,
   "metadata": {
    "colab": {
     "base_uri": "https://localhost:8080/",
     "height": 1000
    },
    "id": "tXVlgk32vEIQ",
    "outputId": "2c3042ce-bbfc-4ee5-85fa-65cd12abf016"
   },
   "outputs": [],
   "source": [
    "model_fit_evaluation(model_DT, params_DT, X_train, y_train, X_valid, y_valid, 'Decision Tree', 'actual')"
   ]
  },
  {
   "cell_type": "markdown",
   "metadata": {
    "id": "3ypjw95WThLm"
   },
   "source": [
    "<font color=orange> Decision Tree with Smote"
   ]
  },
  {
   "cell_type": "code",
   "execution_count": null,
   "metadata": {
    "colab": {
     "base_uri": "https://localhost:8080/",
     "height": 1000
    },
    "id": "_DeOzvlNTgjA",
    "outputId": "a4f44f08-5872-4bbd-f67f-659fc1662728"
   },
   "outputs": [],
   "source": [
    "model_fit_evaluation(model_DT, params_DT, X_train_smt, y_train_smt, X_valid, y_valid, 'Decision Tree', 'Smote')"
   ]
  },
  {
   "cell_type": "markdown",
   "metadata": {
    "id": "zZ7bvKsP68hD"
   },
   "source": [
    "<font color=orange> Decision Tree with Adasyn"
   ]
  },
  {
   "cell_type": "code",
   "execution_count": null,
   "metadata": {
    "colab": {
     "base_uri": "https://localhost:8080/",
     "height": 1000
    },
    "id": "OzB_S78A7FVd",
    "outputId": "dd66bc20-2289-4fe3-b15d-0602eb586229"
   },
   "outputs": [],
   "source": [
    "model_fit_evaluation(model_DT, params_DT, X_train_ada, y_train_ada, X_valid, y_valid, 'Decision Tree', 'adasyn')"
   ]
  },
  {
   "cell_type": "markdown",
   "metadata": {
    "id": "b60yjnsg7Iuv"
   },
   "source": [
    "<font color=orange> Random Forest without Sampling"
   ]
  },
  {
   "cell_type": "code",
   "execution_count": null,
   "metadata": {
    "colab": {
     "base_uri": "https://localhost:8080/",
     "height": 1000
    },
    "id": "vjVodYej7J3c",
    "outputId": "6c78959b-54b0-498c-97d9-1522308ae574"
   },
   "outputs": [],
   "source": [
    "model_fit_evaluation(model_RF, params_RF, X_train, y_train, X_valid, y_valid, 'Random Forest', 'actual')"
   ]
  },
  {
   "cell_type": "markdown",
   "metadata": {
    "id": "voxL0JW6UBY1"
   },
   "source": [
    "<font color=orange> Random Forest with Smote"
   ]
  },
  {
   "cell_type": "code",
   "execution_count": null,
   "metadata": {
    "colab": {
     "base_uri": "https://localhost:8080/",
     "height": 1000
    },
    "id": "XJ7j6vWlUBJv",
    "outputId": "91b1fe8d-1216-45a9-e827-236d27046499"
   },
   "outputs": [],
   "source": [
    "model_fit_evaluation(model_RF, params_RF, X_train_smt, y_train_smt, X_valid, y_valid, 'Random Forest', 'smote')"
   ]
  },
  {
   "cell_type": "markdown",
   "metadata": {
    "id": "MeA2kGdh7KXM"
   },
   "source": [
    "<font color=orange> Random Forest with Adasyn"
   ]
  },
  {
   "cell_type": "code",
   "execution_count": null,
   "metadata": {
    "colab": {
     "base_uri": "https://localhost:8080/",
     "height": 1000
    },
    "id": "mHqq6YHW7K_u",
    "outputId": "e58047be-cf38-44c4-d551-5ed35d7a424d"
   },
   "outputs": [],
   "source": [
    "model_fit_evaluation(model_RF, params_RF, X_train_ada, y_train_ada, X_valid, y_valid, 'Random Forest', 'adasyn')"
   ]
  },
  {
   "cell_type": "markdown",
   "metadata": {
    "id": "lz4kX-jnZqiB"
   },
   "source": [
    "<font color=orange> Model Comparision"
   ]
  },
  {
   "cell_type": "code",
   "execution_count": null,
   "metadata": {
    "colab": {
     "base_uri": "https://localhost:8080/",
     "height": 238
    },
    "id": "Ro1e4JbYnG71",
    "outputId": "cbd35084-dd27-4850-c2b6-72aa7de7fb16"
   },
   "outputs": [],
   "source": [
    "eval_df = pd.DataFrame({'model': model, 'resample': resample, 'precision': precision, 'recall':recall, 'F1score':F1score, 'AUCROC':AUCROC, 'AUCPR':AUCPR})\n",
    "eval_df"
   ]
  },
  {
   "cell_type": "markdown",
   "metadata": {
    "id": "wlTIxiiK8geT"
   },
   "source": [
    "### <font color=Blue> Running Trained Algorithm on Test set and Analysis"
   ]
  },
  {
   "cell_type": "markdown",
   "metadata": {
    "id": "CgbEehxHrrfj"
   },
   "source": [
    "<font color=orange> Running on Test Set"
   ]
  },
  {
   "cell_type": "markdown",
   "metadata": {
    "id": "-hvxON5xrxca"
   },
   "source": [
    "Using the best parameters from above table, i.e; Random forest with Adasyn and Decision tree with smote sampling gives better precision and recall score along with better F1-score and good auc scores. Let's run RF on test data."
   ]
  },
  {
   "cell_type": "markdown",
   "metadata": {
    "id": "_9EmVEkLcoR_"
   },
   "source": [
    "<font color=orange> Taking whole training data (before split to validation)"
   ]
  },
  {
   "cell_type": "code",
   "execution_count": null,
   "metadata": {
    "colab": {
     "base_uri": "https://localhost:8080/"
    },
    "id": "Am2ymQt5cRbV",
    "outputId": "e1ba55b3-825f-419e-e87f-6486cb58d8bc"
   },
   "outputs": [],
   "source": [
    "X.shape, y.shape, X_test.shape, y_test.shape"
   ]
  },
  {
   "cell_type": "code",
   "execution_count": null,
   "metadata": {
    "colab": {
     "base_uri": "https://localhost:8080/"
    },
    "id": "TEdwyaP5XCP5",
    "outputId": "fba18fef-e5e2-4bc1-aa6e-7743cc316695"
   },
   "outputs": [],
   "source": [
    "pt = PowerTransformer(copy=False)\n",
    "pt.fit_transform(X)"
   ]
  },
  {
   "cell_type": "code",
   "execution_count": null,
   "metadata": {
    "colab": {
     "base_uri": "https://localhost:8080/",
     "height": 896
    },
    "id": "p6jM2Ip8ZEpY",
    "outputId": "ad55ff61-2dd9-4aee-8ecc-537981e32b99"
   },
   "outputs": [],
   "source": [
    "details(X)"
   ]
  },
  {
   "cell_type": "markdown",
   "metadata": {
    "id": "zcwJArwgGpHP"
   },
   "source": [
    "<font color=orange> For Decision Tree provided best estimators and metrics"
   ]
  },
  {
   "cell_type": "code",
   "execution_count": null,
   "metadata": {
    "id": "3JDOOll9YL14"
   },
   "outputs": [],
   "source": [
    "smk = SMOTE(sampling_strategy='minority', random_state=23)\n",
    "X_train_smk, y_train_smk = smk.fit_resample(X, y)"
   ]
  },
  {
   "cell_type": "code",
   "execution_count": null,
   "metadata": {
    "colab": {
     "base_uri": "https://localhost:8080/"
    },
    "id": "by3UoKdJoQoK",
    "outputId": "1ee7eba2-9419-41b8-8297-47421c3c752c"
   },
   "outputs": [],
   "source": [
    "# Decision Tree \n",
    "model_DT = DecisionTreeClassifier(random_state = 23)\n",
    "\n",
    "# Taking best parameters from table\n",
    "params_DT = {\n",
    "    'max_depth': [50],\n",
    "    'min_samples_leaf': [200],\n",
    "    'min_samples_split' : [100],\n",
    "    'criterion': [\"entropy\"]\n",
    "} \n",
    "\n",
    "rcv1 = RandomizedSearchCV(model_DT, params_DT, cv=5, scoring='roc_auc', n_jobs=-1, verbose=1, random_state=23)\n",
    "rcv1.fit(X_train_smk, y_train_smk)\n",
    "rcv1.best_estimator_"
   ]
  },
  {
   "cell_type": "markdown",
   "metadata": {
    "id": "h0VU1SsmHF3v"
   },
   "source": [
    "<font color=orange> Trained algorithm on test set"
   ]
  },
  {
   "cell_type": "code",
   "execution_count": null,
   "metadata": {
    "id": "W6jS5bfndPTB"
   },
   "outputs": [],
   "source": [
    "y_test_prob1=(rcv1.best_estimator_).predict_proba(X_test)[:,1]\n",
    "y_test_pred1=(rcv1.best_estimator_).predict(X_test)"
   ]
  },
  {
   "cell_type": "markdown",
   "metadata": {
    "id": "3OO0djLeHJKz"
   },
   "source": [
    "<font color=orange> Metrics"
   ]
  },
  {
   "cell_type": "code",
   "execution_count": null,
   "metadata": {
    "id": "wucUHtBmdPKj"
   },
   "outputs": [],
   "source": [
    "print('Confusion Matrix')\n",
    "print('='*60)\n",
    "print(confusion_matrix(y_test, y_test_pred1),\"\\n\")\n",
    "print('Classification Report')\n",
    "print('='*60)\n",
    "print(classification_report(y_test, y_test_pred1),\"\\n\")\n",
    "print('AUC-ROC')\n",
    "print('='*60)\n",
    "print(roc_auc_score(y_test, y_test_prob1),'\\n')\n",
    "print('AUC-PR')\n",
    "print('='*60)\n",
    "print(average_precision_score(y_test, y_test_prob1),'\\n')\n",
    "print('Roc-Auc-Curve')\n",
    "print('='*60)\n",
    "print(plot_roc_curve((rcv1.best_estimator_), X_test, y_test),'\\n')\n",
    "print('Precision-Recall-Curve')\n",
    "print('='*60)\n",
    "print(plot_precision_recall_curve((rcv1.best_estimator_), X_test, y_test),'\\n')"
   ]
  },
  {
   "cell_type": "markdown",
   "metadata": {
    "id": "mGWqVEj2SBD5"
   },
   "source": [
    "<font color=orange> Final Insights according to Business Impact"
   ]
  },
  {
   "cell_type": "markdown",
   "metadata": {
    "id": "ALbqgHozSFY3"
   },
   "source": [
    "<font color=lightgreen> - Accuracy cannot be counted on when dealing with unbalanced datasets since it cannot detect all fradualent transactions.<br>\n",
    "<font color=lightblue> - Recall says out of fradualent transactions. what percentage were correctly identified. Recall is very effective in imbalanced data sets. We got best Recall score from DT model as 86%. Our model has correctly predicted 86% of all fradualent transactions though RF predicted 81%.<br>\n",
    "<font color=lightgreen> - Precision says out of all fradualent transactions predicted to be fraudalent, how many were actually fradualent. Our Decision tree model gave 42% precision though Random forest model gave 53%.<br>\n",
    "<font color=lightgreen> - F1-Score is the weighted average of Precision and Recall and F1 score takes both false positives and false negatives into consideration and is very effective in imbalanced datasets. DT and RF precited 56% and 64% respectively. <br>\n",
    "<font color=lightblue> - We got Area under curve in ROC as 98% in Decision Tree model. Higher the AUC score better is the model at predicting fradualent and non-fraudalent transactions. <br>\n",
    "<font color=lightgreen> - AUC of Precision Recall curve we got is 80% from Decision Tree model."
   ]
  },
  {
   "cell_type": "markdown",
   "metadata": {
    "id": "MxkQ-LkHEp0e"
   },
   "source": [
    "<font color=orange> Feature Importance variables"
   ]
  },
  {
   "cell_type": "code",
   "execution_count": null,
   "metadata": {
    "id": "OQyaAe9PELmV"
   },
   "outputs": [],
   "source": [
    "rcv = rcv1.best_estimator_\n",
    "rcv"
   ]
  },
  {
   "cell_type": "code",
   "execution_count": null,
   "metadata": {
    "id": "eQTHsPDgDZG9"
   },
   "outputs": [],
   "source": [
    "rcv.feature_importances_"
   ]
  },
  {
   "cell_type": "code",
   "execution_count": null,
   "metadata": {
    "id": "J9vADWlXEtSm"
   },
   "outputs": [],
   "source": [
    "final_df = pd.DataFrame({'Varname': X_test.columns, 'feature_imp':rcv.feature_importances_})\n",
    "final_df.sort_values(by='feature_imp', ascending=False)"
   ]
  },
  {
   "cell_type": "markdown",
   "metadata": {
    "id": "OVYcHXIMO8vA"
   },
   "source": [
    "<font color=lightgreen> 5 most important variables: <br>\n",
    "- Amount plays the most important role, since we can see that the mean amount in fraudulent transaction is higher than normal transaction.\n",
    "- Gas Station and Grocery plays important role since a lot of fraudalent transactions happens over theier.\n",
    "- Hour of the day is one of the very important factor because fraudsters commit the fraud during the time having more normal transactions.\n",
    "- Gender (male) plays important role since there are lot of male fraudesters as per the data."
   ]
  },
  {
   "cell_type": "markdown",
   "metadata": {
    "id": "bpiG0tv5o4Kp"
   },
   "source": [
    "#### Taking Precision Recall cutoff to see if there any variation"
   ]
  },
  {
   "cell_type": "code",
   "execution_count": null,
   "metadata": {
    "id": "La1U8F90gFjX"
   },
   "outputs": [],
   "source": [
    "y_test = pd.DataFrame(y_test)\n",
    "y_test_pred1 = pd.DataFrame(y_test_pred1)\n",
    "y_test_prob1 = pd.DataFrame(y_test_prob1)"
   ]
  },
  {
   "cell_type": "code",
   "execution_count": null,
   "metadata": {
    "id": "_XceaENKgFhK"
   },
   "outputs": [],
   "source": [
    "final_test1 = pd.concat([y_test, y_test_pred1], 1)\n",
    "final_test1 = final_test1.rename(columns={ 0 : 'Predicted1'})"
   ]
  },
  {
   "cell_type": "code",
   "execution_count": null,
   "metadata": {
    "id": "GygUp44YgFea"
   },
   "outputs": [],
   "source": [
    "final_test1 = pd.concat([final_test1, y_test_prob1], 1)\n",
    "final_test1 = final_test1.rename(columns={ 0 : 'probability1'})"
   ]
  },
  {
   "cell_type": "code",
   "execution_count": null,
   "metadata": {
    "id": "3WsrDO6RizOr"
   },
   "outputs": [],
   "source": [
    "p1, r1, thresholds1 = precision_recall_curve(final_test1.is_fraud, final_test1.probability1)"
   ]
  },
  {
   "cell_type": "code",
   "execution_count": null,
   "metadata": {
    "id": "fikh9o4sgFbl"
   },
   "outputs": [],
   "source": [
    "plt.plot(thresholds1, p1[:-1], \"g-\")\n",
    "plt.plot(thresholds1, r1[:-1], \"r-\")\n",
    "plt.show()"
   ]
  },
  {
   "cell_type": "code",
   "execution_count": null,
   "metadata": {
    "id": "Z--yr1Elm3Sn"
   },
   "outputs": [],
   "source": [
    "final_test1['final_predicted1'] = final_test1.probability1.map(lambda x: 1 if x > 0.85 else 0)"
   ]
  },
  {
   "cell_type": "code",
   "execution_count": null,
   "metadata": {
    "id": "VxhBHGqxm3M6"
   },
   "outputs": [],
   "source": [
    "final_test1.final_predicted1.value_counts()"
   ]
  },
  {
   "cell_type": "code",
   "execution_count": null,
   "metadata": {
    "id": "3fg5xR3am3Jr"
   },
   "outputs": [],
   "source": [
    "metrics.confusion_matrix(final_test1.is_fraud, final_test1.final_predicted1)"
   ]
  },
  {
   "cell_type": "code",
   "execution_count": null,
   "metadata": {
    "id": "fCsRNFEIm3Gr"
   },
   "outputs": [],
   "source": [
    "print(classification_report(final_test1.is_fraud, final_test1.final_predicted1))\n",
    "print()\n",
    "print(roc_auc_score(final_test1.is_fraud, final_test1.final_predicted1))\n",
    "print()\n",
    "print(average_precision_score(final_test1.is_fraud, final_test1.probability1))"
   ]
  },
  {
   "cell_type": "code",
   "execution_count": null,
   "metadata": {
    "id": "5c1NEyTiAXO2"
   },
   "outputs": [],
   "source": []
  }
 ],
 "metadata": {
  "colab": {
   "collapsed_sections": [],
   "machine_shape": "hm",
   "name": "credit-card-fraud-prediction.ipynb",
   "provenance": []
  },
  "kernelspec": {
   "display_name": "Python 3 (ipykernel)",
   "language": "python",
   "name": "python3"
  },
  "language_info": {
   "codemirror_mode": {
    "name": "ipython",
    "version": 3
   },
   "file_extension": ".py",
   "mimetype": "text/x-python",
   "name": "python",
   "nbconvert_exporter": "python",
   "pygments_lexer": "ipython3",
   "version": "3.9.7"
  }
 },
 "nbformat": 4,
 "nbformat_minor": 1
}
